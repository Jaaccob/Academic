{
 "cells": [
  {
   "cell_type": "markdown",
   "metadata": {},
   "source": [
    "# Podstawy Sztucznej Inteligencji 2020/2021\n"
   ]
  },
  {
   "cell_type": "markdown",
   "metadata": {},
   "source": [
    "Prosze uzupelnic kod tam gdzie znajduje napis `YOUR CODE HERE` lub 'YOUR ANSWER HERE'.\n",
    "\n",
    "Warto zresetowac 'kernel' i sprawdzic czy caly notatnik uruchamiany od poczatku nie daje bledow."
   ]
  },
  {
   "cell_type": "markdown",
   "metadata": {},
   "source": [
    "---"
   ]
  },
  {
   "cell_type": "markdown",
   "metadata": {
    "deletable": false,
    "editable": false,
    "lang": "pl",
    "nbgrader": {
     "cell_type": "markdown",
     "checksum": "d57edcf615ffcf54217f57e27c1f3cad",
     "grade": false,
     "grade_id": "cell-90538625f2b6086f",
     "locked": true,
     "schema_version": 3,
     "solution": false
    }
   },
   "source": [
    "## Liniowa analiza dyskryminacyjna Fishera\n",
    "\n",
    "\n",
    "Idea - maksymalizacja stosunku wariancji:\n",
    "\n",
    "\n",
    "$$ \\frac{\\sigma_b^2}{\\sigma_w^2}$$\n",
    "\n",
    "\n",
    "Niech $S_b$ będzie macierzą kowariancji (lub scatter matrix) pomiędzy klasami\n",
    "\n",
    "$$S_b= \\sum_c N_c \\left(\\mu_c-\\mu\\right) \\left(\\mu_c-\\mu\\right)^T$$\n",
    "\n",
    "gdzie $\\mu_c$ oznacza średni wektor cech w obrębie jednej klasy $c$ o liczebności $N_c$.\n",
    "\n",
    "\n",
    "Niech $S_{wc}$ będzie macierzą kowariancji (lub scatter matrix) wewnątrz  klasy:\n",
    "\n",
    "$$S_{wc}= \\frac{1}{N_c-1}\\sum_{i\\in c} \\left(x_i-\\mu_c\\right) \\left(x_i-\\mu_c\\right)^T$$\n",
    "\n",
    "gdzie $\\mu_i$ oznacza średni wektor cech w obrębie jednej klasy o liczebności $N_c$.\n",
    "\n",
    "Interesuje nas suma takich macierzy:\n",
    "\n",
    "$$S_w= \\sum_c S_{wc}  = \\sum_c\\frac{1}{N_c-1}\\sum_{i\\in c} \\left(x_i-\\mu_c\\right) \\left(x_i-\\mu_c\\right)^T$$\n",
    "\n",
    "\n",
    "Analiza dyskryminacyjna Fishera poszukuje takich wektorów $\\mathbf{w}$, które maksymalizują:\n",
    "\n",
    "$$ J = \\frac{\\mathbf{w}^T S_b\\mathbf{w}}{\\mathbf{w}^T S_w\\mathbf{w}}.$$\n",
    "\n",
    "Ponieważ $J$ jest niezmiennicze względem skalowania $\\mathbf{w}\\to\\alpha\\mathbf{w}$, to możemy ograniczyć się do takich $\\mathbf{w}$, że $\\mathbf{w}^T S_w\\mathbf{w}=1$. Wtedy mamy zagadnienie minimalizacyjne:\n",
    "\n",
    "$$  \\mathrm{min}_\\mathbf{w}  -\\mathbf{w}^T S_b\\mathbf{w} \\\\\n",
    "  \\mathbf{w}^T S_w\\mathbf{w} = 1 $$\n",
    "\n",
    "Stosując mnożniki Lagrange'a mamy:\n",
    "\n",
    "$$L = -\\frac{1}{2} \\mathbf{w}^T S_b\\mathbf{w} + \\frac{1}{2} \\lambda \\left(\\mathbf{w}^T S_w\\mathbf{w} - 1\\right)  $$\n",
    "\n",
    "$$\n",
    "\\frac{\\partial L}{\\partial \\mathbf{w}} = -S_b\\mathbf{w} + \\lambda  S_w\\mathbf{w} = 0\n",
    "$$\n",
    "\n",
    "czyli:\n",
    "\n",
    "$$\n",
    " S_b\\mathbf{w} = \\lambda  S_w\\mathbf{w} \n",
    "$$\n",
    "\n",
    "Powyższe wyrażenie jest tzw. uogólnionym zagadnieniem własnym. Jeśli istnieje macierz odwrotna $S_w^{-1}$ to można je sprowadzić do:\n",
    "\n",
    "\n",
    "$$\n",
    " S_w^{-1} S_b\\mathbf{w} = \\lambda  \\mathbf{w} \n",
    "$$\n",
    "\n",
    "\n"
   ]
  },
  {
   "cell_type": "code",
   "execution_count": 1,
   "metadata": {
    "deletable": false,
    "editable": false,
    "nbgrader": {
     "cell_type": "code",
     "checksum": "174a2a788bb0365a1a37386cea0624f0",
     "grade": false,
     "grade_id": "cell-ad24f11dad00af1b",
     "locked": true,
     "schema_version": 3,
     "solution": false
    }
   },
   "outputs": [],
   "source": [
    "%matplotlib inline \n",
    "import matplotlib.pyplot as plt\n",
    "import numpy as np "
   ]
  },
  {
   "cell_type": "code",
   "execution_count": 2,
   "metadata": {
    "deletable": false,
    "editable": false,
    "nbgrader": {
     "cell_type": "code",
     "checksum": "f62a2d843bcbb396e7787e79a5ffa75e",
     "grade": false,
     "grade_id": "cell-cbbfc801be37c1f3",
     "locked": true,
     "schema_version": 3,
     "solution": false
    }
   },
   "outputs": [],
   "source": [
    "from sklearn.datasets import load_wine\n",
    "data = load_wine()\n",
    "X = data.data\n",
    "y = data.target"
   ]
  },
  {
   "cell_type": "code",
   "execution_count": 3,
   "metadata": {},
   "outputs": [
    {
     "data": {
      "text/plain": [
       "(178, 13)"
      ]
     },
     "execution_count": 3,
     "metadata": {},
     "output_type": "execute_result"
    }
   ],
   "source": [
    "X.shape"
   ]
  },
  {
   "cell_type": "code",
   "execution_count": 4,
   "metadata": {},
   "outputs": [
    {
     "data": {
      "text/plain": [
       "array([0, 0, 0, 0, 0, 0, 0, 0, 0, 0, 0, 0, 0, 0, 0, 0, 0, 0, 0, 0, 0, 0,\n",
       "       0, 0, 0, 0, 0, 0, 0, 0, 0, 0, 0, 0, 0, 0, 0, 0, 0, 0, 0, 0, 0, 0,\n",
       "       0, 0, 0, 0, 0, 0, 0, 0, 0, 0, 0, 0, 0, 0, 0, 1, 1, 1, 1, 1, 1, 1,\n",
       "       1, 1, 1, 1, 1, 1, 1, 1, 1, 1, 1, 1, 1, 1, 1, 1, 1, 1, 1, 1, 1, 1,\n",
       "       1, 1, 1, 1, 1, 1, 1, 1, 1, 1, 1, 1, 1, 1, 1, 1, 1, 1, 1, 1, 1, 1,\n",
       "       1, 1, 1, 1, 1, 1, 1, 1, 1, 1, 1, 1, 1, 1, 1, 1, 1, 1, 1, 1, 2, 2,\n",
       "       2, 2, 2, 2, 2, 2, 2, 2, 2, 2, 2, 2, 2, 2, 2, 2, 2, 2, 2, 2, 2, 2,\n",
       "       2, 2, 2, 2, 2, 2, 2, 2, 2, 2, 2, 2, 2, 2, 2, 2, 2, 2, 2, 2, 2, 2,\n",
       "       2, 2])"
      ]
     },
     "execution_count": 4,
     "metadata": {},
     "output_type": "execute_result"
    }
   ],
   "source": [
    "y"
   ]
  },
  {
   "cell_type": "markdown",
   "metadata": {
    "deletable": false,
    "editable": false,
    "lang": "pl",
    "nbgrader": {
     "cell_type": "markdown",
     "checksum": "e0ecdc466bf4c256a96271493b565de0",
     "grade": false,
     "grade_id": "cell-981b254f7b2a32b1",
     "locked": true,
     "schema_version": 3,
     "solution": false
    }
   },
   "source": [
    "### Wyznacz liczbę klas "
   ]
  },
  {
   "cell_type": "code",
   "execution_count": 6,
   "metadata": {
    "deletable": false,
    "nbgrader": {
     "cell_type": "code",
     "checksum": "f2186a854cd226a9ad3d4c11810d5cc1",
     "grade": false,
     "grade_id": "cell-c5176a6d5ee29e84",
     "locked": false,
     "schema_version": 3,
     "solution": true
    }
   },
   "outputs": [],
   "source": [
    "classes = [2,3,4,5,6] # niepoprawne \n",
    "\n",
    "# YOUR CODE HERE\n",
    "classes = np.unique(y)\n",
    "# raise NotImplementedError()\n"
   ]
  },
  {
   "cell_type": "code",
   "execution_count": 7,
   "metadata": {
    "deletable": false,
    "editable": false,
    "nbgrader": {
     "cell_type": "code",
     "checksum": "d8590356614abe7d3d4aa92061fbfe7f",
     "grade": true,
     "grade_id": "cell-f5e8349da78dfd8e",
     "locked": true,
     "points": 1,
     "schema_version": 3,
     "solution": false
    }
   },
   "outputs": [],
   "source": [
    "assert len(classes) == 3"
   ]
  },
  {
   "cell_type": "markdown",
   "metadata": {
    "deletable": false,
    "editable": false,
    "lang": "pl",
    "nbgrader": {
     "cell_type": "markdown",
     "checksum": "73a4cc166fd59c632ede6b1ad71ba368",
     "grade": false,
     "grade_id": "cell-5f394d96c05137c4",
     "locked": true,
     "schema_version": 3,
     "solution": false
    }
   },
   "source": [
    "### Oblicz macierze kowariancji wewnątrzklasowe\n",
    "\n",
    "Oblicz dla przykładów z każdej klasy macierz kowariancji (np. użyj `np.cov`) a nastęmnie ich sumę $S_w$.\n",
    "\n",
    "$$S_w= \\sum_c\\underbrace{\\frac{1}{N_c-1}\\sum_{i\\in c} \\left(x_i-\\mu_c\\right) \\left(x_i-\\mu_c\\right)^T}_{\\mathrm{np.cov}}$$\n",
    "\n"
   ]
  },
  {
   "cell_type": "code",
   "execution_count": 28,
   "metadata": {},
   "outputs": [
    {
     "data": {
      "text/plain": [
       "array([ True,  True,  True,  True,  True,  True,  True,  True,  True,\n",
       "        True,  True,  True,  True,  True,  True,  True,  True,  True,\n",
       "        True,  True,  True,  True,  True,  True,  True,  True,  True,\n",
       "        True,  True,  True,  True,  True,  True,  True,  True,  True,\n",
       "        True,  True,  True,  True,  True,  True,  True,  True,  True,\n",
       "        True,  True,  True,  True,  True,  True,  True,  True,  True,\n",
       "        True,  True,  True,  True,  True, False, False, False, False,\n",
       "       False, False, False, False, False, False, False, False, False,\n",
       "       False, False, False, False, False, False, False, False, False,\n",
       "       False, False, False, False, False, False, False, False, False,\n",
       "       False, False, False, False, False, False, False, False, False,\n",
       "       False, False, False, False, False, False, False, False, False,\n",
       "       False, False, False, False, False, False, False, False, False,\n",
       "       False, False, False, False, False, False, False, False, False,\n",
       "       False, False, False, False, False, False, False, False, False,\n",
       "       False, False, False, False, False, False, False, False, False,\n",
       "       False, False, False, False, False, False, False, False, False,\n",
       "       False, False, False, False, False, False, False, False, False,\n",
       "       False, False, False, False, False, False, False, False, False,\n",
       "       False, False, False, False, False, False, False])"
      ]
     },
     "execution_count": 28,
     "metadata": {},
     "output_type": "execute_result"
    }
   ],
   "source": [
    "y==0"
   ]
  },
  {
   "cell_type": "code",
   "execution_count": 36,
   "metadata": {
    "deletable": false,
    "nbgrader": {
     "cell_type": "code",
     "checksum": "52fac9c80c413a6faf53dd250d7d9b76",
     "grade": false,
     "grade_id": "cell-d71e44530780c7c0",
     "locked": false,
     "schema_version": 3,
     "solution": true
    }
   },
   "outputs": [],
   "source": [
    "Sw = None\n",
    "# YOUR CODE HERE\n",
    "Sw = sum([np.cov(X[y==i].T) for i in classes])\n",
    "# raise NotImplementedError()"
   ]
  },
  {
   "cell_type": "code",
   "execution_count": 37,
   "metadata": {
    "deletable": false,
    "editable": false,
    "nbgrader": {
     "cell_type": "code",
     "checksum": "4e96131891e7d1416e0599f928a7d605",
     "grade": true,
     "grade_id": "cell-edb8c8f270a8f1d4",
     "locked": true,
     "points": 2,
     "schema_version": 3,
     "solution": false
    }
   },
   "outputs": [],
   "source": [
    "assert Sw.shape == (13,13)\n",
    "np.testing.assert_allclose(Sw[1,2],0.055372, rtol=1e-3)"
   ]
  },
  {
   "cell_type": "markdown",
   "metadata": {
    "lang": "pl"
   },
   "source": [
    "### Oblicz macierz kowariancji pomiędzy klasami\n",
    "\n",
    "\n",
    "Niech $S_b$ będzie macierzą kowariancji (lub  scatter matrix) pomiędzy klasami\n",
    "\n",
    "$$S_b= \\sum_c N_c \\left(\\mu_c-\\mu\\right) \\left(\\mu_c-\\mu\\right)^T$$\n",
    "\n",
    "gdzie $\\mu_c$ oznacza średni wektor cech w obrębie jednej klasy $c$ o liczebności $N_c$.\n",
    "\n"
   ]
  },
  {
   "cell_type": "code",
   "execution_count": 40,
   "metadata": {},
   "outputs": [],
   "source": [
    "mu_c = [np.mean(X[y==c_], axis=0) for c_ in classes] "
   ]
  },
  {
   "cell_type": "code",
   "execution_count": 41,
   "metadata": {
    "deletable": false,
    "editable": false,
    "nbgrader": {
     "cell_type": "code",
     "checksum": "b14a74ceab95201af3b62e7c4c079fa1",
     "grade": false,
     "grade_id": "cell-09377df7f59f6c37",
     "locked": true,
     "schema_version": 3,
     "solution": false
    }
   },
   "outputs": [
    {
     "data": {
      "text/plain": [
       "array([1.30006180e+01, 2.33634831e+00, 2.36651685e+00, 1.94949438e+01,\n",
       "       9.97415730e+01, 2.29511236e+00, 2.02926966e+00, 3.61853933e-01,\n",
       "       1.59089888e+00, 5.05808988e+00, 9.57449438e-01, 2.61168539e+00,\n",
       "       7.46893258e+02])"
      ]
     },
     "execution_count": 41,
     "metadata": {},
     "output_type": "execute_result"
    }
   ],
   "source": [
    "mu = np.mean(X, axis=0)\n",
    "mu"
   ]
  },
  {
   "cell_type": "code",
   "execution_count": 46,
   "metadata": {
    "deletable": false,
    "nbgrader": {
     "cell_type": "code",
     "checksum": "e54da6494bbaed11eacfa873c7c14072",
     "grade": false,
     "grade_id": "cell-27da16f7383144b7",
     "locked": false,
     "schema_version": 3,
     "solution": true
    }
   },
   "outputs": [
    {
     "data": {
      "text/plain": [
       "array([[1.69016068e+02, 3.03739719e+01, 3.07661816e+01, 2.53446317e+02,\n",
       "        1.29670209e+03, 2.98378790e+01, 2.63817597e+01, 4.70432474e+00,\n",
       "        2.06826685e+01, 6.57582943e+01, 1.24474344e+01, 3.39535241e+01,\n",
       "        9.71007392e+03],\n",
       "       [3.03739719e+01, 5.45852345e+00, 5.52900766e+00, 4.55469791e+01,\n",
       "        2.33031056e+02, 5.36218189e+00, 4.74108076e+00, 8.45416826e-01,\n",
       "        3.71689391e+00, 1.18174598e+01, 2.23693538e+00, 6.10180677e+00,\n",
       "        1.74500281e+03],\n",
       "       [3.07661816e+01, 5.52900766e+00, 5.60040202e+00, 4.61351131e+01,\n",
       "        2.36040114e+02, 5.43142208e+00, 4.80230086e+00, 8.56333430e-01,\n",
       "        3.76488900e+00, 1.19700550e+01, 2.26582023e+00, 6.18059750e+00,\n",
       "        1.76753548e+03],\n",
       "       [2.53446317e+02, 4.55469791e+01, 4.61351131e+01, 3.80052835e+02,\n",
       "        1.94445636e+03, 4.47430865e+01, 3.95604981e+01, 7.05432209e+00,\n",
       "        3.10144842e+01, 9.86071781e+01, 1.86654230e+01, 5.09146600e+01,\n",
       "        1.45606421e+04],\n",
       "       [1.29670209e+03, 2.33031056e+02, 2.36040114e+02, 1.94445636e+03,\n",
       "        9.94838139e+03, 2.28918117e+02, 2.02402548e+02, 3.60918804e+01,\n",
       "        1.58678756e+02, 5.04501841e+02, 9.54975131e+01, 2.60493609e+02,\n",
       "        7.44963085e+04],\n",
       "       [2.98378790e+01, 5.36218189e+00, 5.43142208e+00, 4.47430865e+01,\n",
       "        2.28918117e+02, 5.26754074e+00, 4.65740188e+00, 8.30495433e-01,\n",
       "        3.65129167e+00, 1.16088846e+01, 2.19745404e+00, 5.99411143e+00,\n",
       "        1.71420395e+03],\n",
       "       [2.63817597e+01, 4.74108076e+00, 4.80230086e+00, 3.95604981e+01,\n",
       "        2.02402548e+02, 4.65740188e+00, 4.11793536e+00, 7.34299208e-01,\n",
       "        3.22836283e+00, 1.02642283e+01, 1.94292310e+00, 5.29981394e+00,\n",
       "        1.51564783e+03],\n",
       "       [4.70432474e+00, 8.45416826e-01, 8.56333430e-01, 7.05432209e+00,\n",
       "        3.60918804e+01, 8.30495433e-01, 7.34299208e-01, 1.30938269e-01,\n",
       "        5.75673015e-01, 1.83028972e+00, 3.46456844e-01, 9.45048630e-01,\n",
       "        2.70266263e+02],\n",
       "       [2.06826685e+01, 3.71689391e+00, 3.76488900e+00, 3.10144842e+01,\n",
       "        1.58678756e+02, 3.65129167e+00, 3.22836283e+00, 5.75673015e-01,\n",
       "        2.53095923e+00, 8.04690951e+00, 1.52320524e+00, 4.15492736e+00,\n",
       "        1.18823165e+03],\n",
       "       [6.57582943e+01, 1.18174598e+01, 1.19700550e+01, 9.86071781e+01,\n",
       "        5.04501841e+02, 1.16088846e+01, 1.02642283e+01, 1.83028972e+00,\n",
       "        8.04690951e+00, 2.55842733e+01, 4.84286532e+00, 1.32101395e+01,\n",
       "        3.77785323e+03],\n",
       "       [1.24474344e+01, 2.23693538e+00, 2.26582023e+00, 1.86654230e+01,\n",
       "        9.54975131e+01, 2.19745404e+00, 1.94292310e+00, 3.46456844e-01,\n",
       "        1.52320524e+00, 4.84286532e+00, 9.16709427e-01, 2.50055671e+00,\n",
       "        7.15112531e+02],\n",
       "       [3.39535241e+01, 6.10180677e+00, 6.18059750e+00, 5.09146600e+01,\n",
       "        2.60493609e+02, 5.99411143e+00, 5.29981394e+00, 9.45048630e-01,\n",
       "        4.15492736e+00, 1.32101395e+01, 2.50055671e+00, 6.82090059e+00,\n",
       "        1.95065021e+03],\n",
       "       [9.71007392e+03, 1.74500281e+03, 1.76753548e+03, 1.45606421e+04,\n",
       "        7.44963085e+04, 1.71420395e+03, 1.51564783e+03, 2.70266263e+02,\n",
       "        1.18823165e+03, 3.77785323e+03, 7.15112531e+02, 1.95065021e+03,\n",
       "        5.57849539e+05]])"
      ]
     },
     "execution_count": 46,
     "metadata": {},
     "output_type": "execute_result"
    }
   ],
   "source": [
    "mu = np.mean(X, axis=0)\n",
    "\n",
    "# YOUR CODE HERE\n",
    "#np.dot(mu,mu)\n",
    "\n",
    "\n",
    "\n",
    "Sb = sum([np.sum(y==c_)*np.outer(np.mean(X[y==c_], axis=0)-mu,np.mean(X[y==c_], axis=0)-mu) for c_ in classes])\n",
    "np.outer(mu,mu)\n",
    "# raise NotImplementedError()\n",
    "                                                                      \n",
    "                                      "
   ]
  },
  {
   "cell_type": "code",
   "execution_count": null,
   "metadata": {
    "deletable": false,
    "editable": false,
    "nbgrader": {
     "cell_type": "code",
     "checksum": "1371fcd4b48b2d797d0ce097e426916d",
     "grade": true,
     "grade_id": "cell-10ace83f37caa115",
     "locked": true,
     "points": 3,
     "schema_version": 3,
     "solution": false
    }
   },
   "outputs": [],
   "source": [
    "np.testing.assert_allclose(Sb[3,1],117.92843036,rtol=1e-3)\n",
    "assert Sb.shape == (13,13)\n"
   ]
  },
  {
   "cell_type": "markdown",
   "metadata": {
    "lang": "pl"
   },
   "source": [
    "### Wartości własne\n",
    "\n",
    "Oblicz wartości własne macierzy:  \n",
    "\n",
    "$$\n",
    " S_w^{-1} S_b\n",
    "$$\n",
    "\n",
    "i odpowiadające im wektory własne.\n",
    "\n",
    "1. Zastosuj ` np.linalg.eig`, oraz `np.linalg.inv`.\n",
    "2. Otrzymane wartości mogą zawierać część urojoną, użyj np. `np.real_if_close` by wyzerować części urojone.\n"
   ]
  },
  {
   "cell_type": "code",
   "execution_count": null,
   "metadata": {
    "deletable": false,
    "nbgrader": {
     "cell_type": "code",
     "checksum": "73cbb48de97f0085124ff649831182d9",
     "grade": false,
     "grade_id": "cell-c7d7eaa0120ea9a7",
     "locked": false,
     "schema_version": 3,
     "solution": true
    }
   },
   "outputs": [],
   "source": [
    "lam, v = None, None\n",
    "# YOUR CODE HERE\n",
    "raise NotImplementedError()\n",
    "\n",
    "lam"
   ]
  },
  {
   "cell_type": "code",
   "execution_count": null,
   "metadata": {
    "deletable": false,
    "editable": false,
    "nbgrader": {
     "cell_type": "code",
     "checksum": "410fc690a60d5153a08123c0e60f32dd",
     "grade": true,
     "grade_id": "cell-a0f42bff13ff8692",
     "locked": true,
     "points": 1,
     "schema_version": 3,
     "solution": false
    }
   },
   "outputs": [],
   "source": [
    "assert lam.shape ==(13,)\n",
    "np.testing.assert_allclose(np.max(lam), 546, rtol=1e-2 )"
   ]
  },
  {
   "cell_type": "markdown",
   "metadata": {
    "deletable": false,
    "editable": false,
    "lang": "pl",
    "nbgrader": {
     "cell_type": "markdown",
     "checksum": "f8db958ef2495d9e4f9df586106c722d",
     "grade": false,
     "grade_id": "cell-36b90a4abd6c6ae8",
     "locked": true,
     "schema_version": 3,
     "solution": false
    }
   },
   "source": [
    "### Operator rzutowania na podprzestrzeń\n",
    "\n",
    "\n",
    "Posortuj wektory własne według malejących wartości własnych. \n",
    "\n",
    "Zbuduj operator $W$ będący macierzą $(2,13)$ składający się z dwóch wektorów własnych odpowiadających największym wartościom własnym."
   ]
  },
  {
   "cell_type": "code",
   "execution_count": null,
   "metadata": {
    "deletable": false,
    "nbgrader": {
     "cell_type": "code",
     "checksum": "5226841b084e38e35de0b0c55a6fe77e",
     "grade": false,
     "grade_id": "cell-c379aca4f1f193d1",
     "locked": false,
     "schema_version": 3,
     "solution": true
    }
   },
   "outputs": [],
   "source": [
    "idx = [1,2] # niepoprawne \n",
    "# YOUR CODE HERE\n",
    "# raise NotImplementedError()\n",
    "idx = [1,2] \n",
    "idx = np.argsort(lam)[-2:][::-1]"
   ]
  },
  {
   "cell_type": "code",
   "execution_count": null,
   "metadata": {
    "deletable": false,
    "editable": false,
    "nbgrader": {
     "cell_type": "code",
     "checksum": "72fdd8b6bef3794beca51f2472ff1f28",
     "grade": true,
     "grade_id": "cell-d64bf65963bbb26d",
     "locked": true,
     "points": 1,
     "schema_version": 3,
     "solution": false
    }
   },
   "outputs": [],
   "source": [
    "np.testing.assert_allclose(lam[idx],[546.41649425, 243.23261924],rtol=1e-2)"
   ]
  },
  {
   "cell_type": "code",
   "execution_count": null,
   "metadata": {
    "deletable": false,
    "nbgrader": {
     "cell_type": "code",
     "checksum": "45ef7b52815a4b90c39580acf28ca278",
     "grade": false,
     "grade_id": "cell-f907779ccefba7c5",
     "locked": false,
     "schema_version": 3,
     "solution": true
    }
   },
   "outputs": [],
   "source": [
    "W = None \n",
    "\n",
    "# YOUR CODE HERE\n",
    "W = np.real_if_close(v[:,idx])\n",
    "W = W.T\n",
    "# raise NotImplementedError()\n",
    "\n"
   ]
  },
  {
   "cell_type": "code",
   "execution_count": null,
   "metadata": {
    "deletable": false,
    "editable": false,
    "nbgrader": {
     "cell_type": "code",
     "checksum": "2bf50f14ef582d9007933adba14989c4",
     "grade": true,
     "grade_id": "cell-27c1df6193b957e6",
     "locked": true,
     "points": 2,
     "schema_version": 3,
     "solution": false
    }
   },
   "outputs": [],
   "source": [
    "np.testing.assert_allclose(np.abs(W[:,:3]),[[0.13138292,  0.05322257, 0.12283844],[0.24550374, 0.07699549, 0.67155662]], rtol=1e-2)\n",
    "\n",
    "assert W.shape == (2,13)"
   ]
  },
  {
   "cell_type": "markdown",
   "metadata": {
    "lang": "pl"
   },
   "source": [
    "### Wizualizacja wyniku\n",
    "\n",
    "Operacja rzutowania może być w numpy zapisana jako `X.dot(W.T)`, więc w zredukowanej przestrzeni mamy:"
   ]
  },
  {
   "cell_type": "code",
   "execution_count": null,
   "metadata": {},
   "outputs": [],
   "source": [
    "plt.scatter( X.dot(W.T)[:,0],X.dot(W.T)[:,1],c=y)"
   ]
  },
  {
   "cell_type": "markdown",
   "metadata": {
    "lang": "pl"
   },
   "source": [
    "### Porównaj wynik z `sklearn`"
   ]
  },
  {
   "cell_type": "code",
   "execution_count": null,
   "metadata": {},
   "outputs": [],
   "source": [
    "from sklearn.discriminant_analysis import LinearDiscriminantAnalysis\n",
    "\n",
    "lda = LinearDiscriminantAnalysis(n_components=2, solver='eigen')\n",
    "X_r2 = lda.fit(X, y).transform(X)\n",
    "plt.scatter( X_r2[:,0],X_r2[:,1],c=y)"
   ]
  },
  {
   "cell_type": "code",
   "execution_count": null,
   "metadata": {},
   "outputs": [],
   "source": []
  }
 ],
 "metadata": {
  "kernelspec": {
   "display_name": "Python 3",
   "language": "python",
   "name": "python3"
  },
  "language_info": {
   "codemirror_mode": {
    "name": "ipython",
    "version": 3
   },
   "file_extension": ".py",
   "mimetype": "text/x-python",
   "name": "python",
   "nbconvert_exporter": "python",
   "pygments_lexer": "ipython3",
   "version": "3.7.4"
  },
  "latex_envs": {
   "LaTeX_envs_menu_present": true,
   "autoclose": false,
   "autocomplete": true,
   "bibliofile": "biblio.bib",
   "cite_by": "apalike",
   "current_citInitial": 1,
   "eqLabelWithNumbers": true,
   "eqNumInitial": 1,
   "hotkeys": {
    "equation": "Ctrl-E",
    "itemize": "Ctrl-I"
   },
   "labels_anchors": false,
   "latex_user_defs": false,
   "report_style_numbering": false,
   "user_envs_cfg": false
  },
  "nbTranslate": {
   "displayLangs": [
    "pl",
    "en"
   ],
   "hotkey": "alt-t",
   "langInMainMenu": true,
   "sourceLang": "pl",
   "targetLang": "en",
   "useGoogleTranslate": true
  },
  "toc": {
   "base_numbering": 1,
   "nav_menu": {},
   "number_sections": true,
   "sideBar": true,
   "skip_h1_title": false,
   "title_cell": "Table of Contents",
   "title_sidebar": "Contents",
   "toc_cell": false,
   "toc_position": {},
   "toc_section_display": true,
   "toc_window_display": false
  }
 },
 "nbformat": 4,
 "nbformat_minor": 2
}
