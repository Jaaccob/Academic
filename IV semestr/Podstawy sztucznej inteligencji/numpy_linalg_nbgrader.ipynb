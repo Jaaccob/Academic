{
 "cells": [
  {
   "cell_type": "markdown",
   "metadata": {},
   "source": [
    "# Podstawy Sztucznej Inteligencji 2020/2021\n"
   ]
  },
  {
   "cell_type": "markdown",
   "metadata": {},
   "source": [
    "Prosze uzupelnic kod tam gdzie znajduje napis `YOUR CODE HERE` lub 'YOUR ANSWER HERE'.\n",
    "\n",
    "Warto zresetowac 'kernel' i sprawdzic czy caly notatnik uruchamiany od poczatku nie daje bledow."
   ]
  },
  {
   "cell_type": "markdown",
   "metadata": {},
   "source": [
    "---"
   ]
  },
  {
   "cell_type": "markdown",
   "metadata": {
    "deletable": false,
    "editable": false,
    "lang": "pl",
    "nbgrader": {
     "cell_type": "markdown",
     "checksum": "fc0feaaf295c6b0a9d6872ac1336190f",
     "grade": false,
     "grade_id": "cell-6c1f2751cafbd1c1",
     "locked": true,
     "schema_version": 3,
     "solution": false
    }
   },
   "source": [
    "## Iloczyn skalarny\n",
    "\n",
    "Mając wektory $n$-elementowe $\\mathbf{a}$ i $\\mathbf{b}$ napisać funkcję obliczającą ich iloczyn skalarny:\n",
    "\n",
    "$$s =\\mathbf{a}\\cdot \\mathbf{b} =  \\sum_{i=1}^{n} a_i b_i $$ \n",
    "\n",
    " - za pomocą iteracji po elementach\n",
    " - używając funkcjonalności `numpy`"
   ]
  },
  {
   "cell_type": "code",
   "execution_count": 24,
   "metadata": {},
   "outputs": [],
   "source": [
    "import numpy as np"
   ]
  },
  {
   "cell_type": "code",
   "execution_count": 25,
   "metadata": {
    "deletable": false,
    "nbgrader": {
     "cell_type": "code",
     "checksum": "2f16d78dfd7298be2c5a66046c277555",
     "grade": false,
     "grade_id": "cell-06e5e3a8f5681458",
     "locked": false,
     "schema_version": 3,
     "solution": true
    }
   },
   "outputs": [],
   "source": [
    "def s1(a,b):\n",
    "    # YOUR CODE HERE\n",
    "    if len(a) != len(b):\n",
    "        raise ValueError(\"Wektory muszą być tej samej długości !\")\n",
    "    # a = [1,2,3,4]\n",
    "    # b = [2,3,4,5]\n",
    "    table = []\n",
    "    for i in range(len(a)):\n",
    "        table.append(a[i]*b[i])\n",
    "    return np.sum(table)\n",
    "    \n",
    "    #raise NotImplementedError()\n",
    "\n",
    "def s2(a,b):\n",
    "    # YOUR CODE HERE\n",
    "    if len(a) != len(b):\n",
    "        raise ValueError(\"Wektory muszą być tej samej długości !\")\n",
    "    return np.dot(a,b)\n",
    "    #raise NotImplementedError()\n",
    "    \n",
    "def s3(a,b):\n",
    "    if len(a) != len(b):\n",
    "        raise ValueError(\"Wektory muszą być tej samej długości !\")\n",
    "    c = zip(a,b)\n",
    "    iloczyn = 0\n",
    "    for i in c:\n",
    "        iloczyn += i[0] * i[1]\n",
    "    return iloczyn"
   ]
  },
  {
   "cell_type": "code",
   "execution_count": 26,
   "metadata": {},
   "outputs": [
    {
     "data": {
      "text/plain": [
       "[(1, 2), (2, 3), (3, 4), (4, 5)]"
      ]
     },
     "execution_count": 26,
     "metadata": {},
     "output_type": "execute_result"
    }
   ],
   "source": [
    "    a = [1,2,3,4]\n",
    "    b = [2,3,4,5]\n",
    "    list(zip(a,b))"
   ]
  },
  {
   "cell_type": "code",
   "execution_count": 27,
   "metadata": {
    "deletable": false,
    "editable": false,
    "nbgrader": {
     "cell_type": "code",
     "checksum": "3ef7549f8829cd6224b7b6e90dd59d94",
     "grade": true,
     "grade_id": "cell-96f566befa6dfa4f",
     "locked": true,
     "points": 4,
     "schema_version": 3,
     "solution": false
    }
   },
   "outputs": [],
   "source": [
    "assert s1([1,1,1,1],[1,1,1,1]) == 4 \n",
    "assert s2([1,1,1,1],[1,1,1,1]) == 4\n",
    "assert np.isscalar(s2([1,1,1,1],[1,1,1,1]))\n",
    "assert np.isscalar(s1([1,1,1,1],[1,1,1,1]))\n",
    "assert s2([7,7,7],[7,7,7]) == 147\n",
    "assert s1([7,7,7],[7,7,7]) == 147"
   ]
  },
  {
   "cell_type": "markdown",
   "metadata": {
    "deletable": false,
    "editable": false,
    "lang": "pl",
    "nbgrader": {
     "cell_type": "markdown",
     "checksum": "e15c2c66070c865a2c7f41948bb4fa63",
     "grade": false,
     "grade_id": "cell-2b11edc1df47f26a",
     "locked": true,
     "schema_version": 3,
     "solution": false
    }
   },
   "source": [
    "## Mnożenie macierzy przez wektor:\n",
    "\n",
    "Mając wektor $n$-elementowy $\\mathbf{x}$ oraz macierz $\\mathbf{A}$ o wymiarach $m\\times n$ napisać funkcję obliczającą ich iloczyn:\n",
    "\n",
    "$$\\mathbf{y}= \\mathbf{A}\\mathbf{x}.$$\n",
    "\n",
    "Każdy element wektora $\\mathbf{y}$ jest dany przez:\n",
    "\n",
    "$$y_i = \\sum_{j=1}^{n} a_{ij} x_j $$ \n",
    "\n",
    " - za pomocą iteracji po elementach (podwójna pętla)\n",
    " - korzystając z faktu, że\n",
    " każdy element wektora $y_i$ jest iloczynem skalarnym $i$-tego rzędu macierzy $\\mathbf A$ oraz wektora $\\mathbf{x}$ (pojedyncza pętla)\n",
    " - używając funkcji:  `np.dot` lub `np.tensordot` (bez pętli)\n"
   ]
  },
  {
   "cell_type": "code",
   "execution_count": 70,
   "metadata": {
    "deletable": false,
    "nbgrader": {
     "cell_type": "code",
     "checksum": "3a3bd58bb0a6790a618531df19e48030",
     "grade": false,
     "grade_id": "cell-fb522d133295441a",
     "locked": false,
     "schema_version": 3,
     "solution": true
    }
   },
   "outputs": [],
   "source": [
    "def y1(A,x):\n",
    "    # YOUR CODE HERE\n",
    "    if A.shape[1] != x.shape[0]:\n",
    "        raise ValueError\n",
    "    table = []\n",
    "    for n in A:\n",
    "        table.append(sum(i*j for i,j in zip(n,x)))\n",
    "    return table\n",
    "            \n",
    "    \n",
    "    #raise NotImplementedError()\n",
    "\n",
    "def y2(A,x):\n",
    "    # YOUR CODE HERE\n",
    "    table = []\n",
    "    for n in A:\n",
    "        table.append(np.dot(n,x))\n",
    "    return table\n",
    "    #raise NotImplementedError()\n",
    "    \n",
    "def y3(A,x):\n",
    "    # YOUR CODE HERE\n",
    "    return A.dot(x)\n",
    "    #return np.dot(A,x)\n",
    "    #raise NotImplementedError()"
   ]
  },
  {
   "cell_type": "code",
   "execution_count": 71,
   "metadata": {
    "deletable": false,
    "editable": false,
    "nbgrader": {
     "cell_type": "code",
     "checksum": "aa6da9af7cb1206c3df2be58505a6506",
     "grade": true,
     "grade_id": "cell-eff8a1c20f8fb28f",
     "locked": true,
     "points": 6,
     "schema_version": 3,
     "solution": false
    }
   },
   "outputs": [],
   "source": [
    "A = np.arange(12).reshape(3,4)\n",
    "x = np.arange(4)\n",
    "np.testing.assert_almost_equal(y1(A,x),np.array([14, 38, 62]))\n",
    "np.testing.assert_almost_equal(y2(A,x),np.array([14, 38, 62]))\n",
    "np.testing.assert_almost_equal(y3(A,x),np.array([14, 38, 62]))\n"
   ]
  },
  {
   "cell_type": "code",
   "execution_count": 72,
   "metadata": {
    "deletable": false,
    "editable": false,
    "nbgrader": {
     "cell_type": "code",
     "checksum": "be481014a09ef3b6ac045cfe8786bd0d",
     "grade": true,
     "grade_id": "cell-982fed0f9cd60244",
     "locked": true,
     "points": 1,
     "schema_version": 3,
     "solution": false
    }
   },
   "outputs": [],
   "source": [
    "try:\n",
    "    y1(np.arange(9).reshape(3,3),np.array([1,1]))\n",
    "except ValueError:\n",
    "    pass\n",
    "else:\n",
    "    raise AssertionError(\"Second dimension of matrix should be the same as dimension of vector!.\")"
   ]
  },
  {
   "cell_type": "markdown",
   "metadata": {
    "deletable": false,
    "editable": false,
    "lang": "pl",
    "nbgrader": {
     "cell_type": "markdown",
     "checksum": "bc98bdbc0600b6cc9dcd835ae8e7f69e",
     "grade": false,
     "grade_id": "cell-09f1ed20d38df5bd",
     "locked": true,
     "schema_version": 3,
     "solution": false
    }
   },
   "source": [
    "## Mnożenie macierzy\n",
    "\n",
    "Mamy dwie macierze $\\mathbf{A}_{m\\times n}$ i $\\mathbf{B}_{n\\times k}$. Napisać funkcję obliczającą ich iloczyn:\n",
    "\n",
    "$$\\mathbf{C}= \\mathbf{A}\\mathbf{B}$$.\n",
    "\n",
    "Każdy element macierzy  $\\mathbf{C}$ jest dany przez:\n",
    "\n",
    "$$c_{ij} = \\sum_{k=1}^{n} a_{ik} b_{kj} $$ \n",
    "\n",
    " - za pomocą iteracji po elementach (potrójna pętla)\n",
    " - korzystając z faktu, że każdy element macierzy $c_{ij}$ jest iloczynem skalarnym $i$-tego rzędu macierzy $\\mathbf A$ oraz  $j$-tego rzędu macierzy $\\mathbf B$ (podwójna pętla)\n",
    " - używając funkcji:  `np.dot` lub `np.tensordot` (bez pętli)\n",
    " "
   ]
  },
  {
   "cell_type": "code",
   "execution_count": 82,
   "metadata": {
    "deletable": false,
    "nbgrader": {
     "cell_type": "code",
     "checksum": "fb3cc25440d694e7d04f1f6f536dba71",
     "grade": false,
     "grade_id": "cell-bc5bc5d32ae48f5f",
     "locked": false,
     "schema_version": 3,
     "solution": true
    }
   },
   "outputs": [],
   "source": [
    "def C1(A,B):\n",
    "    # YOUR CODE HERE\n",
    "    if A.shape[1]!=B.shape[0]:\n",
    "        raise ValueError\n",
    "    table=[]\n",
    "    for n in A:\n",
    "        table.append(sum([i*j for i,j in zip (n,B)]))\n",
    "    return np.array(table)\n",
    "    #raise NotImplementedError()\n",
    "    \n",
    "def C2(A,B):\n",
    "    # YOUR CODE HERE\n",
    "    return np.array([np.dot(row,B) for row in A])\n",
    "    #raise NotImplementedError()\n",
    "    \n",
    "def C3(A,B):\n",
    "    # YOUR CODE HERE\n",
    "    return np.dot(A,B)\n",
    "    #raise NotImplementedError()"
   ]
  },
  {
   "cell_type": "code",
   "execution_count": 83,
   "metadata": {
    "deletable": false,
    "editable": false,
    "nbgrader": {
     "cell_type": "code",
     "checksum": "73293094ccd20f33e1f82e60beadb227",
     "grade": true,
     "grade_id": "cell-fdb6f13441a02162",
     "locked": true,
     "points": 6,
     "schema_version": 3,
     "solution": false
    }
   },
   "outputs": [],
   "source": [
    "m = np.arange(9).reshape(3,3)\n",
    "assert np.prod(C1(np.eye(3),m) == m)\n",
    "assert np.prod(C1(m,m) == C3(m,m))\n",
    "assert np.prod(C2(m,m) == C3(m,m))\n",
    "\n",
    "\n",
    "A,B = np.ones((4,5)),np.arange(10).reshape(5,2)\n",
    "assert C1(A,B).shape == (4,2)\n",
    "assert C2(A,B).shape == (4,2)\n",
    "assert C3(A,B).shape == (4,2)\n",
    "\n",
    "np.testing.assert_allclose(C1(A,B), A.dot(B))\n",
    "np.testing.assert_allclose(C2(A,B), A.dot(B))\n",
    "np.testing.assert_allclose(C3(A,B), A.dot(B))\n",
    "\n"
   ]
  },
  {
   "cell_type": "code",
   "execution_count": 84,
   "metadata": {
    "deletable": false,
    "editable": false,
    "nbgrader": {
     "cell_type": "code",
     "checksum": "afeb3f794745ca029d450ce78004e538",
     "grade": true,
     "grade_id": "cell-f8df427efe4ce6de",
     "locked": true,
     "points": 1,
     "schema_version": 3,
     "solution": false
    }
   },
   "outputs": [],
   "source": [
    "try:\n",
    "    C1(np.arange(9).reshape(3,3),np.ones((2,3)))\n",
    "except ValueError:\n",
    "    pass\n",
    "else:\n",
    "    raise AssertionError(\"Second dimension of matrix should be the same as dimension of vector!.\")"
   ]
  },
  {
   "cell_type": "markdown",
   "metadata": {
    "deletable": false,
    "editable": false,
    "lang": "pl",
    "nbgrader": {
     "cell_type": "markdown",
     "checksum": "a89e1cedc1197748ecee6cec5e31c2a3",
     "grade": false,
     "grade_id": "cell-f05ced306d8aac81",
     "locked": true,
     "schema_version": 3,
     "solution": false
    }
   },
   "source": [
    "## Ślad macierzy\n",
    "\n",
    "Śladem macierzy nazywamy sumę elementów na przekątnej: \n",
    "\n",
    "$$ Tr(A) = \\sum_{i=1}^{n} a_{ii}$$\n",
    "\n",
    "\n",
    "Obliczyć ślad macierzy $n\\times n$.\n",
    "\n"
   ]
  },
  {
   "cell_type": "code",
   "execution_count": 62,
   "metadata": {
    "deletable": false,
    "nbgrader": {
     "cell_type": "code",
     "checksum": "e062ca353e0e2cfffd61d698be3b6697",
     "grade": false,
     "grade_id": "cell-6cfbc4d0c3f5e8a4",
     "locked": false,
     "schema_version": 3,
     "solution": true
    }
   },
   "outputs": [],
   "source": [
    "def Tr(A):\n",
    "    # YOUR CODE HERE\n",
    "    if A.shape[0] != A.shape[1]:\n",
    "        raise ValueError(\"Macierz musi być kwadratowa\")\n",
    "    return np.trace(A)\n",
    "    #raise NotImplementedError()"
   ]
  },
  {
   "cell_type": "code",
   "execution_count": 63,
   "metadata": {
    "deletable": false,
    "editable": false,
    "nbgrader": {
     "cell_type": "code",
     "checksum": "e8dbf5a790e4aec1a8e24e5e82c28fec",
     "grade": true,
     "grade_id": "cell-6fcc4a8c88b8f364",
     "locked": true,
     "points": 2,
     "schema_version": 3,
     "solution": false
    }
   },
   "outputs": [],
   "source": [
    "assert Tr(np.diag([1,2,3,4])) == 10"
   ]
  },
  {
   "cell_type": "code",
   "execution_count": 64,
   "metadata": {
    "deletable": false,
    "editable": false,
    "nbgrader": {
     "cell_type": "code",
     "checksum": "c580540de23dbaef7e47fafc8f072ebc",
     "grade": true,
     "grade_id": "cell-3a491937c81d5cfd",
     "locked": true,
     "points": 1,
     "schema_version": 3,
     "solution": false
    }
   },
   "outputs": [],
   "source": [
    "try:\n",
    "    Tr(np.ones((2,3)))\n",
    "except ValueError:\n",
    "    pass\n",
    "else:\n",
    "    raise AssertionError(\"The matrix should be square matrix!.\")"
   ]
  },
  {
   "cell_type": "markdown",
   "metadata": {
    "deletable": false,
    "editable": false,
    "lang": "pl",
    "nbgrader": {
     "cell_type": "markdown",
     "checksum": "ec2840645adad87fde71b56e15995d82",
     "grade": false,
     "grade_id": "cell-66c1029b120699b7",
     "locked": true,
     "schema_version": 3,
     "solution": false
    }
   },
   "source": [
    "## Wyznacznik macierzy\n",
    "\n",
    "Obliczyć wyznacznik macierzy korzystając z rozwinięcia [Laplace'a](https://pl.wikipedia.org/wiki/Rozwini%C4%99cie_Laplace%E2%80%99a)\n"
   ]
  },
  {
   "cell_type": "code",
   "execution_count": 65,
   "metadata": {
    "deletable": false,
    "editable": false,
    "nbgrader": {
     "cell_type": "code",
     "checksum": "655eae17b8e2fec9aca8a7e654f93a0c",
     "grade": false,
     "grade_id": "cell-7456ee5b5864dafa",
     "locked": true,
     "schema_version": 3,
     "solution": false
    }
   },
   "outputs": [],
   "source": [
    "import numpy as np\n",
    "A = np.random.randint(4,size=(4,4)).astype(np.float)\n",
    "x = np.random.randint(4,size=4)"
   ]
  },
  {
   "cell_type": "code",
   "execution_count": 68,
   "metadata": {
    "deletable": false,
    "nbgrader": {
     "cell_type": "code",
     "checksum": "b4104b4157b83d63f161ae49abbc90ec",
     "grade": false,
     "grade_id": "cell-a6b07fe35339bafe",
     "locked": false,
     "schema_version": 3,
     "solution": true
    }
   },
   "outputs": [],
   "source": [
    "def Le(A):\n",
    "    # YOUR CODE HERE\n",
    "    if A.shape[0] != A.shape[1]:\n",
    "        raise ValueError(\"Wektory muszą być tej samej długości !\")\n",
    "    A= list(A)\n",
    "    n = len(A)\n",
    "    kopiaA = A.copy()\n",
    "    for x in range(n):\n",
    "        for i in range(x+1,n):\n",
    "            if kopiaA[x][x] == 0:\n",
    "                kopiaA[x][x] == 1.0e-18\n",
    "            skala = kopiaA[i][x] / kopiaA[x][x] \n",
    "\n",
    "            for j in range(n):\n",
    "                kopiaA[i][j] = kopiaA[i][j] - skala * kopiaA[x][j]\n",
    "    wyznacznik = 1.0\n",
    "    for i in range(n):\n",
    "        wyznacznik *= kopiaA[i][i]\n",
    "    return wyznacznik\n",
    "    #raise NotImplementedError()"
   ]
  },
  {
   "cell_type": "code",
   "execution_count": 69,
   "metadata": {
    "deletable": false,
    "editable": false,
    "nbgrader": {
     "cell_type": "code",
     "checksum": "398778bc811cf3a139e8fa0548a5a0dc",
     "grade": true,
     "grade_id": "cell-dac69a3e1b14c456",
     "locked": true,
     "points": 10,
     "schema_version": 3,
     "solution": false
    }
   },
   "outputs": [],
   "source": [
    "A = np.array([[ 1.,  3.,  0.,  0.],[ 3.,  2.,  3.,  2.],[ 1.,  2.,  2.,  2.],[ 1.,  0.,  0.,  3.]])\n",
    "np.testing.assert_allclose( Le(A), np.linalg.det(A) )"
   ]
  },
  {
   "cell_type": "code",
   "execution_count": null,
   "metadata": {},
   "outputs": [],
   "source": []
  }
 ],
 "metadata": {
  "kernelspec": {
   "display_name": "Python 3",
   "language": "python",
   "name": "python3"
  },
  "language_info": {
   "codemirror_mode": {
    "name": "ipython",
    "version": 3
   },
   "file_extension": ".py",
   "mimetype": "text/x-python",
   "name": "python",
   "nbconvert_exporter": "python",
   "pygments_lexer": "ipython3",
   "version": "3.7.4"
  },
  "nbTranslate": {
   "displayLangs": [
    "pl",
    "en"
   ],
   "hotkey": "alt-t",
   "langInMainMenu": true,
   "sourceLang": "pl",
   "targetLang": "en",
   "useGoogleTranslate": true
  }
 },
 "nbformat": 4,
 "nbformat_minor": 2
}
