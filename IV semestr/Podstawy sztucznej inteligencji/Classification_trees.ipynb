{
 "cells": [
  {
   "cell_type": "markdown",
   "metadata": {},
   "source": [
    "# Podstawy Sztucznej Inteligencji 2020/2021\n"
   ]
  },
  {
   "cell_type": "markdown",
   "metadata": {},
   "source": [
    "Prosze uzupelnic kod tam gdzie znajduje napis `YOUR CODE HERE` lub 'YOUR ANSWER HERE'.\n",
    "\n",
    "Warto zresetowac 'kernel' i sprawdzic czy caly notatnik uruchamiany od poczatku nie daje bledow."
   ]
  },
  {
   "cell_type": "markdown",
   "metadata": {},
   "source": [
    "---"
   ]
  },
  {
   "cell_type": "code",
   "execution_count": null,
   "metadata": {
    "colab": {},
    "colab_type": "code",
    "id": "l9TTl_qFBg42"
   },
   "outputs": [],
   "source": [
    "# !pip install --user graphviz \n",
    "# !apt-get install graphviz"
   ]
  },
  {
   "cell_type": "markdown",
   "metadata": {
    "colab_type": "text",
    "deletable": false,
    "editable": false,
    "id": "xc7CY5WNJzhF",
    "lang": "pl",
    "nbgrader": {
     "cell_type": "markdown",
     "checksum": "81de40b6873484d9d476624fb77bf534",
     "grade": false,
     "grade_id": "cell-a06e94fe48cd3f4f",
     "locked": true,
     "schema_version": 3,
     "solution": false,
     "task": false
    }
   },
   "source": [
    "# Drzewa klasyfikacyjne (metoda rekurencyjnego podziału)\n",
    "\n",
    "Metoda ta polega na sekwencyjnym (rekurencyjnym) podziale przestrzeni danych na podprzestrzenie (hiperkostki, segmenty), aż zmienna zależna osiągnie w każdej podprzestrzeni minimalny poziom zróżnicowania."
   ]
  },
  {
   "cell_type": "markdown",
   "metadata": {
    "colab_type": "text",
    "deletable": false,
    "editable": false,
    "id": "D46x7ndWE2KW",
    "lang": "pl",
    "nbgrader": {
     "cell_type": "markdown",
     "checksum": "f7ae373d2316ca342a8a4fe18aeed9d8",
     "grade": false,
     "grade_id": "cell-9d5d35115f3472f0",
     "locked": true,
     "schema_version": 3,
     "solution": false,
     "task": false
    }
   },
   "source": [
    "\n",
    "## Wady i zalety drzewa decyzyjnego\n",
    "**Zalety:**\n",
    "\n",
    "1. *niezparametryczność* – przy budowaniu modelu nie zakłada się postaci rozkładów zmiennych ani relacji między nimi\n",
    "2. *adaptacyjność* – automatyczny proces doboru zmiennych do modelu, możliwość uwzględnieniem zarówno zmiennych jakościowych i ilościowych,\n",
    "3. *odporność na braki danych oraz występowanie wartości\n",
    "nietypowych* \n",
    "4. *łatwa interpretowalność* -  możliwość graficznego przedstawienia modelu w postaci drzewa, możliwość zapisania reguł klasyfikujących\n",
    "\n",
    "**Główna wada:**\n",
    "\n",
    "1. *niestabilność modelu* -  oznacza, że postać modelu silnie zależy od dostępnego zbioru uczącego, budowanie drzew na różnych podzbiorach trenujących daje bardzo różniące się modele"
   ]
  },
  {
   "cell_type": "markdown",
   "metadata": {
    "colab_type": "text",
    "deletable": false,
    "editable": false,
    "id": "S8dV5z4h4DdE",
    "lang": "pl",
    "nbgrader": {
     "cell_type": "markdown",
     "checksum": "14408b0bcdda5ef0924135f50e8b1429",
     "grade": false,
     "grade_id": "cell-253b6747a02d9870",
     "locked": true,
     "schema_version": 3,
     "solution": false,
     "task": false
    }
   },
   "source": [
    "## Algorytm tworzenia drzewa klasyfikującego\n",
    "\n",
    "**Kroki algorytmu**\n",
    "\n",
    "1. Mając treningowy zbiór obiektów $S$, sprawdź, czy należą one do tej samej klasy. Jeżli\n",
    "tak, to zakończ pracę.\n",
    "2. W przeciwnym przypadku rozważ wszystkie możliwe podziały zbioru S na\n",
    "podzbiory $S_1$, $S_2$, ..., $S_m$ tak, aby były one jak najbardziej jednorodne.\n",
    "3. Dokonaj oceny jakości każdego z tych podziałów zgodnie z przyjętym kryterium\n",
    "i wybierz najlepszy z nich.\n",
    "4. Podziel zbiór $S$ w wybrany sposób.\n",
    "5. Wykonaj kroki 1-4 rekurencyjnie dla każdego z podzbiorów\n",
    "\n",
    "W domyślnej wersji algorytmu każdorazowo poszukiwany jest najlepszy podział pod względem zmiennej jak i sposobu podziału przestrzeni względem niej. To domyślne działanie można jednak zmienić, o czym powiemy za chwilę. \n",
    "\n",
    "\n",
    "## Kryterium podziału \n",
    "Domyślnie kryterium podziału jest minimalizacja zróżnicowania (heterogeniczności) elementów w każdym z podziałów. W powyższym przykładzie wykorzystywany jest wskaźnik Giniego.\n",
    "\n",
    "\n",
    "W pierwszej kolejności dla każdej z $K$ klas ($k \\in K$) dla każdego z $M$ podobszarów ($m \\in M$) wyznaczana jest średnia ilość elementów danej klasy w tym obszarze:\n",
    "\n",
    "$$p_{km} = \\frac{1}{N_s}\\sum_{x_i \\in S_m}I(y_i=k)$$\n",
    "\n",
    "$N_s$ to ilość elementów w danym obszarze.\n",
    "\n",
    "Współczynnik Giniego definiujemy jako:\n",
    "$$H(m) = \\sum_k p_{km}(1-p_{km})$$\n",
    "\n",
    "Gdy w danym obszerze występują tylko reprezentanci jednej klasy $p_{km}=1$ dla tej wybranej klasy. Dla pozostałych klas współczynnik ten wynosi 0. Wówczas $H=0$ dla takiego obszaru.\n"
   ]
  },
  {
   "cell_type": "markdown",
   "metadata": {
    "deletable": false,
    "editable": false,
    "lang": "pl",
    "nbgrader": {
     "cell_type": "markdown",
     "checksum": "6280402a7c4bfba89bccfa52c3573475",
     "grade": false,
     "grade_id": "cell-1a1fdbd1d5667e13",
     "locked": true,
     "schema_version": 3,
     "solution": false,
     "task": false
    }
   },
   "source": [
    "### Klasyfikacja z wykorzystaniem metody rekurencyjnego podziału dla danych `iris`"
   ]
  },
  {
   "cell_type": "markdown",
   "metadata": {
    "colab_type": "text",
    "deletable": false,
    "editable": false,
    "id": "xqxmdWvxImFk",
    "lang": "pl",
    "nbgrader": {
     "cell_type": "markdown",
     "checksum": "8f5b19850838b7e21ebea202df18ca50",
     "grade": false,
     "grade_id": "cell-3b6280f77089f4a2",
     "locked": true,
     "schema_version": 3,
     "solution": false,
     "task": false
    }
   },
   "source": [
    "W pierwszym kroku importujemy przydatne biblioteki. Drzewa klasyfikacyjne zostały zaimplementowane w bibliotece `sklearn`."
   ]
  },
  {
   "cell_type": "code",
   "execution_count": 2,
   "metadata": {
    "colab": {},
    "colab_type": "code",
    "id": "yMfyp-i0J1Df"
   },
   "outputs": [],
   "source": [
    "from sklearn.tree import DecisionTreeClassifier, export_graphviz\n",
    "from sklearn import tree\n",
    "from sklearn.datasets import load_iris, load_breast_cancer\n",
    "from sklearn.model_selection import train_test_split"
   ]
  },
  {
   "cell_type": "markdown",
   "metadata": {
    "lang": "pl"
   },
   "source": [
    "Dodatkowo biblioteka `graphviz` będzie przydatna do wizualizacji otrzymanych drzew."
   ]
  },
  {
   "cell_type": "code",
   "execution_count": 3,
   "metadata": {
    "colab": {},
    "colab_type": "code",
    "id": "0eX8P1l3jtiP"
   },
   "outputs": [],
   "source": [
    "import graphviz \n",
    "import numpy as np\n",
    "import matplotlib.pyplot as plt"
   ]
  },
  {
   "cell_type": "markdown",
   "metadata": {
    "colab_type": "text",
    "id": "V4b3h5n59cUQ",
    "lang": "pl"
   },
   "source": [
    "#### Zestaw danych IRIS"
   ]
  },
  {
   "cell_type": "markdown",
   "metadata": {
    "colab_type": "text",
    "id": "Uby3ev8F_-pm",
    "lang": "pl"
   },
   "source": [
    "Informacje o kwiatech o polskiej nazwie **kosaciec**  dostępne w zestawie *Iris* zostały zebrane przez  biologa Ronalda Fishera w roku 1936. Wykorzystał on je w pracy  *The use of multiple measurements in taxonomic problems*.\n",
    "\n",
    "#### Iris Setosa\n",
    "<img src=\"https://i.ebayimg.com/images/g/xEgAAOSwoBtW6BoO/s-l1600.jpg\" width=250px>\n",
    "\n",
    "#### Iris Virginica\n",
    "<img src=\"https://upload.wikimedia.org/wikipedia/commons/thumb/f/f8/Iris_virginica_2.jpg/1280px-Iris_virginica_2.jpg\" width=250px>\n",
    "#### Iris Versicolor\n",
    "<img src=\"http://latour-marliac.com/323-large_default/iris-versicolor-iris-versicolore.jpg\" width=250px>\n",
    "\n",
    "\n",
    "Dla reprezentantów poszczególnych  gatunków mierzono długość i szerokość płatka „petal” i działki kielicha kwiatu „sepal”."
   ]
  },
  {
   "cell_type": "markdown",
   "metadata": {
    "colab_type": "text",
    "id": "hb4cSOy4JO7r",
    "lang": "pl"
   },
   "source": [
    "**Krok 1:** Podziel dane na dane treningowe i testowe w proporcji 0.77 do 0.33. Ustaw `random_state` na 1."
   ]
  },
  {
   "cell_type": "code",
   "execution_count": 4,
   "metadata": {
    "colab": {},
    "colab_type": "code",
    "id": "khhEhXUvjCZN"
   },
   "outputs": [],
   "source": [
    "iris = load_iris()\n",
    "X, y = iris.data, iris.target\n",
    "X_train, X_test, y_train, y_test = train_test_split(X, y, test_size=0.33, random_state=1)"
   ]
  },
  {
   "cell_type": "code",
   "execution_count": 5,
   "metadata": {
    "colab": {
     "base_uri": "https://localhost:8080/",
     "height": 87
    },
    "colab_type": "code",
    "id": "wU9QRJuyutZE",
    "outputId": "46be077d-a055-448a-98ab-9aeca58b8b3c"
   },
   "outputs": [
    {
     "data": {
      "text/plain": [
       "['sepal length (cm)',\n",
       " 'sepal width (cm)',\n",
       " 'petal length (cm)',\n",
       " 'petal width (cm)']"
      ]
     },
     "execution_count": 5,
     "metadata": {},
     "output_type": "execute_result"
    }
   ],
   "source": [
    "iris.feature_names"
   ]
  },
  {
   "cell_type": "markdown",
   "metadata": {
    "colab_type": "text",
    "id": "VWet73ZiJZnL",
    "lang": "pl"
   },
   "source": [
    "**Krok 2:** Trening klasyfikatora  `DecisionTreeClassifier` z biblioteki `sklearn`"
   ]
  },
  {
   "cell_type": "code",
   "execution_count": 6,
   "metadata": {
    "colab": {
     "base_uri": "https://localhost:8080/",
     "height": 52
    },
    "colab_type": "code",
    "id": "UCEVM18f9Kry",
    "outputId": "c9768574-bcfe-4ba5-a188-f41cea3f9bae"
   },
   "outputs": [
    {
     "name": "stdout",
     "output_type": "stream",
     "text": [
      "CPU times: user 1.8 ms, sys: 0 ns, total: 1.8 ms\n",
      "Wall time: 1.33 ms\n"
     ]
    }
   ],
   "source": [
    "%%time\n",
    "\n",
    "clf = DecisionTreeClassifier()\n",
    "clf = clf.fit(X_train, y_train)"
   ]
  },
  {
   "cell_type": "markdown",
   "metadata": {
    "colab_type": "text",
    "id": "FLVcMn21Jm92",
    "lang": "pl"
   },
   "source": [
    "**Krok 2.1:** Podgląd otrzymanego drzewa decyzyjnego"
   ]
  },
  {
   "cell_type": "code",
   "execution_count": 7,
   "metadata": {
    "colab": {
     "base_uri": "https://localhost:8080/",
     "height": 757
    },
    "colab_type": "code",
    "id": "7AeTxVdCLmR4",
    "outputId": "46ae1afa-e825-43b6-8871-ad6de95e73bf"
   },
   "outputs": [
    {
     "data": {
      "image/svg+xml": [
       "<?xml version=\"1.0\" encoding=\"UTF-8\" standalone=\"no\"?>\n",
       "<!DOCTYPE svg PUBLIC \"-//W3C//DTD SVG 1.1//EN\"\n",
       " \"http://www.w3.org/Graphics/SVG/1.1/DTD/svg11.dtd\">\n",
       "<!-- Generated by graphviz version 2.38.0 (20140413.2041)\n",
       " -->\n",
       "<!-- Title: Tree Pages: 1 -->\n",
       "<svg width=\"614pt\" height=\"552pt\"\n",
       " viewBox=\"0.00 0.00 614.00 552.00\" xmlns=\"http://www.w3.org/2000/svg\" xmlns:xlink=\"http://www.w3.org/1999/xlink\">\n",
       "<g id=\"graph0\" class=\"graph\" transform=\"scale(1 1) rotate(0) translate(4 548)\">\n",
       "<title>Tree</title>\n",
       "<polygon fill=\"white\" stroke=\"none\" points=\"-4,4 -4,-548 610,-548 610,4 -4,4\"/>\n",
       "<!-- 0 -->\n",
       "<g id=\"node1\" class=\"node\"><title>0</title>\n",
       "<path fill=\"#f9f6fe\" stroke=\"black\" d=\"M294.5,-544C294.5,-544 166.5,-544 166.5,-544 160.5,-544 154.5,-538 154.5,-532 154.5,-532 154.5,-473 154.5,-473 154.5,-467 160.5,-461 166.5,-461 166.5,-461 294.5,-461 294.5,-461 300.5,-461 306.5,-467 306.5,-473 306.5,-473 306.5,-532 306.5,-532 306.5,-538 300.5,-544 294.5,-544\"/>\n",
       "<text text-anchor=\"start\" x=\"162.5\" y=\"-528.8\" font-family=\"Helvetica,sans-Serif\" font-size=\"14.00\">petal length (cm) ≤ 2.6</text>\n",
       "<text text-anchor=\"start\" x=\"195\" y=\"-513.8\" font-family=\"Helvetica,sans-Serif\" font-size=\"14.00\">gini = 0.665</text>\n",
       "<text text-anchor=\"start\" x=\"185.5\" y=\"-498.8\" font-family=\"Helvetica,sans-Serif\" font-size=\"14.00\">samples = 100</text>\n",
       "<text text-anchor=\"start\" x=\"172.5\" y=\"-483.8\" font-family=\"Helvetica,sans-Serif\" font-size=\"14.00\">value = [33, 31, 36]</text>\n",
       "<text text-anchor=\"start\" x=\"182\" y=\"-468.8\" font-family=\"Helvetica,sans-Serif\" font-size=\"14.00\">class = virginica</text>\n",
       "</g>\n",
       "<!-- 1 -->\n",
       "<g id=\"node2\" class=\"node\"><title>1</title>\n",
       "<path fill=\"#e58139\" stroke=\"black\" d=\"M200,-417.5C200,-417.5 107,-417.5 107,-417.5 101,-417.5 95,-411.5 95,-405.5 95,-405.5 95,-361.5 95,-361.5 95,-355.5 101,-349.5 107,-349.5 107,-349.5 200,-349.5 200,-349.5 206,-349.5 212,-355.5 212,-361.5 212,-361.5 212,-405.5 212,-405.5 212,-411.5 206,-417.5 200,-417.5\"/>\n",
       "<text text-anchor=\"start\" x=\"125.5\" y=\"-402.3\" font-family=\"Helvetica,sans-Serif\" font-size=\"14.00\">gini = 0.0</text>\n",
       "<text text-anchor=\"start\" x=\"112.5\" y=\"-387.3\" font-family=\"Helvetica,sans-Serif\" font-size=\"14.00\">samples = 33</text>\n",
       "<text text-anchor=\"start\" x=\"103\" y=\"-372.3\" font-family=\"Helvetica,sans-Serif\" font-size=\"14.00\">value = [33, 0, 0]</text>\n",
       "<text text-anchor=\"start\" x=\"110\" y=\"-357.3\" font-family=\"Helvetica,sans-Serif\" font-size=\"14.00\">class = setosa</text>\n",
       "</g>\n",
       "<!-- 0&#45;&gt;1 -->\n",
       "<g id=\"edge1\" class=\"edge\"><title>0&#45;&gt;1</title>\n",
       "<path fill=\"none\" stroke=\"black\" d=\"M203.785,-460.907C196.378,-449.652 188.327,-437.418 180.882,-426.106\"/>\n",
       "<polygon fill=\"black\" stroke=\"black\" points=\"183.749,-424.096 175.328,-417.667 177.902,-427.944 183.749,-424.096\"/>\n",
       "<text text-anchor=\"middle\" x=\"170.279\" y=\"-438.452\" font-family=\"Helvetica,sans-Serif\" font-size=\"14.00\">True</text>\n",
       "</g>\n",
       "<!-- 2 -->\n",
       "<g id=\"node3\" class=\"node\"><title>2</title>\n",
       "<path fill=\"#eee4fb\" stroke=\"black\" d=\"M373,-425C373,-425 242,-425 242,-425 236,-425 230,-419 230,-413 230,-413 230,-354 230,-354 230,-348 236,-342 242,-342 242,-342 373,-342 373,-342 379,-342 385,-348 385,-354 385,-354 385,-413 385,-413 385,-419 379,-425 373,-425\"/>\n",
       "<text text-anchor=\"start\" x=\"238\" y=\"-409.8\" font-family=\"Helvetica,sans-Serif\" font-size=\"14.00\">petal width (cm) ≤ 1.65</text>\n",
       "<text text-anchor=\"start\" x=\"272\" y=\"-394.8\" font-family=\"Helvetica,sans-Serif\" font-size=\"14.00\">gini = 0.497</text>\n",
       "<text text-anchor=\"start\" x=\"266.5\" y=\"-379.8\" font-family=\"Helvetica,sans-Serif\" font-size=\"14.00\">samples = 67</text>\n",
       "<text text-anchor=\"start\" x=\"253\" y=\"-364.8\" font-family=\"Helvetica,sans-Serif\" font-size=\"14.00\">value = [0, 31, 36]</text>\n",
       "<text text-anchor=\"start\" x=\"259\" y=\"-349.8\" font-family=\"Helvetica,sans-Serif\" font-size=\"14.00\">class = virginica</text>\n",
       "</g>\n",
       "<!-- 0&#45;&gt;2 -->\n",
       "<g id=\"edge2\" class=\"edge\"><title>0&#45;&gt;2</title>\n",
       "<path fill=\"none\" stroke=\"black\" d=\"M257.215,-460.907C263.008,-452.105 269.195,-442.703 275.178,-433.612\"/>\n",
       "<polygon fill=\"black\" stroke=\"black\" points=\"278.259,-435.298 280.832,-425.021 272.411,-431.45 278.259,-435.298\"/>\n",
       "<text text-anchor=\"middle\" x=\"285.881\" y=\"-445.806\" font-family=\"Helvetica,sans-Serif\" font-size=\"14.00\">False</text>\n",
       "</g>\n",
       "<!-- 3 -->\n",
       "<g id=\"node4\" class=\"node\"><title>3</title>\n",
       "<path fill=\"#4de88e\" stroke=\"black\" d=\"M284.5,-306C284.5,-306 156.5,-306 156.5,-306 150.5,-306 144.5,-300 144.5,-294 144.5,-294 144.5,-235 144.5,-235 144.5,-229 150.5,-223 156.5,-223 156.5,-223 284.5,-223 284.5,-223 290.5,-223 296.5,-229 296.5,-235 296.5,-235 296.5,-294 296.5,-294 296.5,-300 290.5,-306 284.5,-306\"/>\n",
       "<text text-anchor=\"start\" x=\"152.5\" y=\"-290.8\" font-family=\"Helvetica,sans-Serif\" font-size=\"14.00\">petal length (cm) ≤ 5.0</text>\n",
       "<text text-anchor=\"start\" x=\"185\" y=\"-275.8\" font-family=\"Helvetica,sans-Serif\" font-size=\"14.00\">gini = 0.165</text>\n",
       "<text text-anchor=\"start\" x=\"179.5\" y=\"-260.8\" font-family=\"Helvetica,sans-Serif\" font-size=\"14.00\">samples = 33</text>\n",
       "<text text-anchor=\"start\" x=\"170\" y=\"-245.8\" font-family=\"Helvetica,sans-Serif\" font-size=\"14.00\">value = [0, 30, 3]</text>\n",
       "<text text-anchor=\"start\" x=\"168\" y=\"-230.8\" font-family=\"Helvetica,sans-Serif\" font-size=\"14.00\">class = versicolor</text>\n",
       "</g>\n",
       "<!-- 2&#45;&gt;3 -->\n",
       "<g id=\"edge3\" class=\"edge\"><title>2&#45;&gt;3</title>\n",
       "<path fill=\"none\" stroke=\"black\" d=\"M277.316,-341.907C270.635,-332.923 263.491,-323.315 256.601,-314.05\"/>\n",
       "<polygon fill=\"black\" stroke=\"black\" points=\"259.407,-311.957 250.631,-306.021 253.789,-316.134 259.407,-311.957\"/>\n",
       "</g>\n",
       "<!-- 8 -->\n",
       "<g id=\"node9\" class=\"node\"><title>8</title>\n",
       "<path fill=\"#853fe6\" stroke=\"black\" d=\"M463.5,-306C463.5,-306 327.5,-306 327.5,-306 321.5,-306 315.5,-300 315.5,-294 315.5,-294 315.5,-235 315.5,-235 315.5,-229 321.5,-223 327.5,-223 327.5,-223 463.5,-223 463.5,-223 469.5,-223 475.5,-229 475.5,-235 475.5,-235 475.5,-294 475.5,-294 475.5,-300 469.5,-306 463.5,-306\"/>\n",
       "<text text-anchor=\"start\" x=\"323.5\" y=\"-290.8\" font-family=\"Helvetica,sans-Serif\" font-size=\"14.00\">petal length (cm) ≤ 4.85</text>\n",
       "<text text-anchor=\"start\" x=\"360\" y=\"-275.8\" font-family=\"Helvetica,sans-Serif\" font-size=\"14.00\">gini = 0.057</text>\n",
       "<text text-anchor=\"start\" x=\"354.5\" y=\"-260.8\" font-family=\"Helvetica,sans-Serif\" font-size=\"14.00\">samples = 34</text>\n",
       "<text text-anchor=\"start\" x=\"345\" y=\"-245.8\" font-family=\"Helvetica,sans-Serif\" font-size=\"14.00\">value = [0, 1, 33]</text>\n",
       "<text text-anchor=\"start\" x=\"347\" y=\"-230.8\" font-family=\"Helvetica,sans-Serif\" font-size=\"14.00\">class = virginica</text>\n",
       "</g>\n",
       "<!-- 2&#45;&gt;8 -->\n",
       "<g id=\"edge8\" class=\"edge\"><title>2&#45;&gt;8</title>\n",
       "<path fill=\"none\" stroke=\"black\" d=\"M338.031,-341.907C344.789,-332.923 352.015,-323.315 358.984,-314.05\"/>\n",
       "<polygon fill=\"black\" stroke=\"black\" points=\"361.809,-316.116 365.023,-306.021 356.215,-311.909 361.809,-316.116\"/>\n",
       "</g>\n",
       "<!-- 4 -->\n",
       "<g id=\"node5\" class=\"node\"><title>4</title>\n",
       "<path fill=\"#39e581\" stroke=\"black\" d=\"M109,-179.5C109,-179.5 12,-179.5 12,-179.5 6,-179.5 7.10543e-15,-173.5 7.10543e-15,-167.5 7.10543e-15,-167.5 7.10543e-15,-123.5 7.10543e-15,-123.5 7.10543e-15,-117.5 6,-111.5 12,-111.5 12,-111.5 109,-111.5 109,-111.5 115,-111.5 121,-117.5 121,-123.5 121,-123.5 121,-167.5 121,-167.5 121,-173.5 115,-179.5 109,-179.5\"/>\n",
       "<text text-anchor=\"start\" x=\"32.5\" y=\"-164.3\" font-family=\"Helvetica,sans-Serif\" font-size=\"14.00\">gini = 0.0</text>\n",
       "<text text-anchor=\"start\" x=\"19.5\" y=\"-149.3\" font-family=\"Helvetica,sans-Serif\" font-size=\"14.00\">samples = 29</text>\n",
       "<text text-anchor=\"start\" x=\"10\" y=\"-134.3\" font-family=\"Helvetica,sans-Serif\" font-size=\"14.00\">value = [0, 29, 0]</text>\n",
       "<text text-anchor=\"start\" x=\"8\" y=\"-119.3\" font-family=\"Helvetica,sans-Serif\" font-size=\"14.00\">class = versicolor</text>\n",
       "</g>\n",
       "<!-- 3&#45;&gt;4 -->\n",
       "<g id=\"edge4\" class=\"edge\"><title>3&#45;&gt;4</title>\n",
       "<path fill=\"none\" stroke=\"black\" d=\"M164.989,-222.907C148.541,-210.88 130.564,-197.735 114.231,-185.791\"/>\n",
       "<polygon fill=\"black\" stroke=\"black\" points=\"115.995,-182.744 105.856,-179.667 111.863,-188.395 115.995,-182.744\"/>\n",
       "</g>\n",
       "<!-- 5 -->\n",
       "<g id=\"node6\" class=\"node\"><title>5</title>\n",
       "<path fill=\"#ab7bee\" stroke=\"black\" d=\"M290,-187C290,-187 151,-187 151,-187 145,-187 139,-181 139,-175 139,-175 139,-116 139,-116 139,-110 145,-104 151,-104 151,-104 290,-104 290,-104 296,-104 302,-110 302,-116 302,-116 302,-175 302,-175 302,-181 296,-187 290,-187\"/>\n",
       "<text text-anchor=\"start\" x=\"147\" y=\"-171.8\" font-family=\"Helvetica,sans-Serif\" font-size=\"14.00\">sepal length (cm) ≤ 6.05</text>\n",
       "<text text-anchor=\"start\" x=\"185\" y=\"-156.8\" font-family=\"Helvetica,sans-Serif\" font-size=\"14.00\">gini = 0.375</text>\n",
       "<text text-anchor=\"start\" x=\"183\" y=\"-141.8\" font-family=\"Helvetica,sans-Serif\" font-size=\"14.00\">samples = 4</text>\n",
       "<text text-anchor=\"start\" x=\"173.5\" y=\"-126.8\" font-family=\"Helvetica,sans-Serif\" font-size=\"14.00\">value = [0, 1, 3]</text>\n",
       "<text text-anchor=\"start\" x=\"172\" y=\"-111.8\" font-family=\"Helvetica,sans-Serif\" font-size=\"14.00\">class = virginica</text>\n",
       "</g>\n",
       "<!-- 3&#45;&gt;5 -->\n",
       "<g id=\"edge5\" class=\"edge\"><title>3&#45;&gt;5</title>\n",
       "<path fill=\"none\" stroke=\"black\" d=\"M220.5,-222.907C220.5,-214.649 220.5,-205.864 220.5,-197.302\"/>\n",
       "<polygon fill=\"black\" stroke=\"black\" points=\"224,-197.021 220.5,-187.021 217,-197.021 224,-197.021\"/>\n",
       "</g>\n",
       "<!-- 6 -->\n",
       "<g id=\"node7\" class=\"node\"><title>6</title>\n",
       "<path fill=\"#39e581\" stroke=\"black\" d=\"M145,-68C145,-68 48,-68 48,-68 42,-68 36,-62 36,-56 36,-56 36,-12 36,-12 36,-6 42,-0 48,-0 48,-0 145,-0 145,-0 151,-0 157,-6 157,-12 157,-12 157,-56 157,-56 157,-62 151,-68 145,-68\"/>\n",
       "<text text-anchor=\"start\" x=\"68.5\" y=\"-52.8\" font-family=\"Helvetica,sans-Serif\" font-size=\"14.00\">gini = 0.0</text>\n",
       "<text text-anchor=\"start\" x=\"59\" y=\"-37.8\" font-family=\"Helvetica,sans-Serif\" font-size=\"14.00\">samples = 1</text>\n",
       "<text text-anchor=\"start\" x=\"49.5\" y=\"-22.8\" font-family=\"Helvetica,sans-Serif\" font-size=\"14.00\">value = [0, 1, 0]</text>\n",
       "<text text-anchor=\"start\" x=\"44\" y=\"-7.8\" font-family=\"Helvetica,sans-Serif\" font-size=\"14.00\">class = versicolor</text>\n",
       "</g>\n",
       "<!-- 5&#45;&gt;6 -->\n",
       "<g id=\"edge6\" class=\"edge\"><title>5&#45;&gt;6</title>\n",
       "<path fill=\"none\" stroke=\"black\" d=\"M174.327,-103.726C163.689,-94.3318 152.384,-84.349 141.784,-74.9883\"/>\n",
       "<polygon fill=\"black\" stroke=\"black\" points=\"144.022,-72.2953 134.209,-68.2996 139.388,-77.5424 144.022,-72.2953\"/>\n",
       "</g>\n",
       "<!-- 7 -->\n",
       "<g id=\"node8\" class=\"node\"><title>7</title>\n",
       "<path fill=\"#8139e5\" stroke=\"black\" d=\"M276,-68C276,-68 187,-68 187,-68 181,-68 175,-62 175,-56 175,-56 175,-12 175,-12 175,-6 181,-0 187,-0 187,-0 276,-0 276,-0 282,-0 288,-6 288,-12 288,-12 288,-56 288,-56 288,-62 282,-68 276,-68\"/>\n",
       "<text text-anchor=\"start\" x=\"203.5\" y=\"-52.8\" font-family=\"Helvetica,sans-Serif\" font-size=\"14.00\">gini = 0.0</text>\n",
       "<text text-anchor=\"start\" x=\"194\" y=\"-37.8\" font-family=\"Helvetica,sans-Serif\" font-size=\"14.00\">samples = 3</text>\n",
       "<text text-anchor=\"start\" x=\"184.5\" y=\"-22.8\" font-family=\"Helvetica,sans-Serif\" font-size=\"14.00\">value = [0, 0, 3]</text>\n",
       "<text text-anchor=\"start\" x=\"183\" y=\"-7.8\" font-family=\"Helvetica,sans-Serif\" font-size=\"14.00\">class = virginica</text>\n",
       "</g>\n",
       "<!-- 5&#45;&gt;7 -->\n",
       "<g id=\"edge7\" class=\"edge\"><title>5&#45;&gt;7</title>\n",
       "<path fill=\"none\" stroke=\"black\" d=\"M224.596,-103.726C225.43,-95.4263 226.31,-86.6671 227.152,-78.2834\"/>\n",
       "<polygon fill=\"black\" stroke=\"black\" points=\"230.638,-78.5994 228.155,-68.2996 223.673,-77.8997 230.638,-78.5994\"/>\n",
       "</g>\n",
       "<!-- 9 -->\n",
       "<g id=\"node10\" class=\"node\"><title>9</title>\n",
       "<path fill=\"#ab7bee\" stroke=\"black\" d=\"M458.5,-187C458.5,-187 332.5,-187 332.5,-187 326.5,-187 320.5,-181 320.5,-175 320.5,-175 320.5,-116 320.5,-116 320.5,-110 326.5,-104 332.5,-104 332.5,-104 458.5,-104 458.5,-104 464.5,-104 470.5,-110 470.5,-116 470.5,-116 470.5,-175 470.5,-175 470.5,-181 464.5,-187 458.5,-187\"/>\n",
       "<text text-anchor=\"start\" x=\"328.5\" y=\"-171.8\" font-family=\"Helvetica,sans-Serif\" font-size=\"14.00\">sepal width (cm) ≤ 3.1</text>\n",
       "<text text-anchor=\"start\" x=\"360\" y=\"-156.8\" font-family=\"Helvetica,sans-Serif\" font-size=\"14.00\">gini = 0.375</text>\n",
       "<text text-anchor=\"start\" x=\"358\" y=\"-141.8\" font-family=\"Helvetica,sans-Serif\" font-size=\"14.00\">samples = 4</text>\n",
       "<text text-anchor=\"start\" x=\"348.5\" y=\"-126.8\" font-family=\"Helvetica,sans-Serif\" font-size=\"14.00\">value = [0, 1, 3]</text>\n",
       "<text text-anchor=\"start\" x=\"347\" y=\"-111.8\" font-family=\"Helvetica,sans-Serif\" font-size=\"14.00\">class = virginica</text>\n",
       "</g>\n",
       "<!-- 8&#45;&gt;9 -->\n",
       "<g id=\"edge9\" class=\"edge\"><title>8&#45;&gt;9</title>\n",
       "<path fill=\"none\" stroke=\"black\" d=\"M395.5,-222.907C395.5,-214.649 395.5,-205.864 395.5,-197.302\"/>\n",
       "<polygon fill=\"black\" stroke=\"black\" points=\"399,-197.021 395.5,-187.021 392,-197.021 399,-197.021\"/>\n",
       "</g>\n",
       "<!-- 12 -->\n",
       "<g id=\"node13\" class=\"node\"><title>12</title>\n",
       "<path fill=\"#8139e5\" stroke=\"black\" d=\"M594,-179.5C594,-179.5 501,-179.5 501,-179.5 495,-179.5 489,-173.5 489,-167.5 489,-167.5 489,-123.5 489,-123.5 489,-117.5 495,-111.5 501,-111.5 501,-111.5 594,-111.5 594,-111.5 600,-111.5 606,-117.5 606,-123.5 606,-123.5 606,-167.5 606,-167.5 606,-173.5 600,-179.5 594,-179.5\"/>\n",
       "<text text-anchor=\"start\" x=\"519.5\" y=\"-164.3\" font-family=\"Helvetica,sans-Serif\" font-size=\"14.00\">gini = 0.0</text>\n",
       "<text text-anchor=\"start\" x=\"506.5\" y=\"-149.3\" font-family=\"Helvetica,sans-Serif\" font-size=\"14.00\">samples = 30</text>\n",
       "<text text-anchor=\"start\" x=\"497\" y=\"-134.3\" font-family=\"Helvetica,sans-Serif\" font-size=\"14.00\">value = [0, 0, 30]</text>\n",
       "<text text-anchor=\"start\" x=\"499\" y=\"-119.3\" font-family=\"Helvetica,sans-Serif\" font-size=\"14.00\">class = virginica</text>\n",
       "</g>\n",
       "<!-- 8&#45;&gt;12 -->\n",
       "<g id=\"edge12\" class=\"edge\"><title>8&#45;&gt;12</title>\n",
       "<path fill=\"none\" stroke=\"black\" d=\"M448.236,-222.907C463.861,-210.88 480.939,-197.735 496.455,-185.791\"/>\n",
       "<polygon fill=\"black\" stroke=\"black\" points=\"498.622,-188.54 504.411,-179.667 494.352,-182.993 498.622,-188.54\"/>\n",
       "</g>\n",
       "<!-- 10 -->\n",
       "<g id=\"node11\" class=\"node\"><title>10</title>\n",
       "<path fill=\"#8139e5\" stroke=\"black\" d=\"M429,-68C429,-68 340,-68 340,-68 334,-68 328,-62 328,-56 328,-56 328,-12 328,-12 328,-6 334,-0 340,-0 340,-0 429,-0 429,-0 435,-0 441,-6 441,-12 441,-12 441,-56 441,-56 441,-62 435,-68 429,-68\"/>\n",
       "<text text-anchor=\"start\" x=\"356.5\" y=\"-52.8\" font-family=\"Helvetica,sans-Serif\" font-size=\"14.00\">gini = 0.0</text>\n",
       "<text text-anchor=\"start\" x=\"347\" y=\"-37.8\" font-family=\"Helvetica,sans-Serif\" font-size=\"14.00\">samples = 3</text>\n",
       "<text text-anchor=\"start\" x=\"337.5\" y=\"-22.8\" font-family=\"Helvetica,sans-Serif\" font-size=\"14.00\">value = [0, 0, 3]</text>\n",
       "<text text-anchor=\"start\" x=\"336\" y=\"-7.8\" font-family=\"Helvetica,sans-Serif\" font-size=\"14.00\">class = virginica</text>\n",
       "</g>\n",
       "<!-- 9&#45;&gt;10 -->\n",
       "<g id=\"edge10\" class=\"edge\"><title>9&#45;&gt;10</title>\n",
       "<path fill=\"none\" stroke=\"black\" d=\"M391.404,-103.726C390.57,-95.4263 389.69,-86.6671 388.848,-78.2834\"/>\n",
       "<polygon fill=\"black\" stroke=\"black\" points=\"392.327,-77.8997 387.845,-68.2996 385.362,-78.5994 392.327,-77.8997\"/>\n",
       "</g>\n",
       "<!-- 11 -->\n",
       "<g id=\"node12\" class=\"node\"><title>11</title>\n",
       "<path fill=\"#39e581\" stroke=\"black\" d=\"M568,-68C568,-68 471,-68 471,-68 465,-68 459,-62 459,-56 459,-56 459,-12 459,-12 459,-6 465,-0 471,-0 471,-0 568,-0 568,-0 574,-0 580,-6 580,-12 580,-12 580,-56 580,-56 580,-62 574,-68 568,-68\"/>\n",
       "<text text-anchor=\"start\" x=\"491.5\" y=\"-52.8\" font-family=\"Helvetica,sans-Serif\" font-size=\"14.00\">gini = 0.0</text>\n",
       "<text text-anchor=\"start\" x=\"482\" y=\"-37.8\" font-family=\"Helvetica,sans-Serif\" font-size=\"14.00\">samples = 1</text>\n",
       "<text text-anchor=\"start\" x=\"472.5\" y=\"-22.8\" font-family=\"Helvetica,sans-Serif\" font-size=\"14.00\">value = [0, 1, 0]</text>\n",
       "<text text-anchor=\"start\" x=\"467\" y=\"-7.8\" font-family=\"Helvetica,sans-Serif\" font-size=\"14.00\">class = versicolor</text>\n",
       "</g>\n",
       "<!-- 9&#45;&gt;11 -->\n",
       "<g id=\"edge11\" class=\"edge\"><title>9&#45;&gt;11</title>\n",
       "<path fill=\"none\" stroke=\"black\" d=\"M441.673,-103.726C452.311,-94.3318 463.616,-84.349 474.216,-74.9883\"/>\n",
       "<polygon fill=\"black\" stroke=\"black\" points=\"476.612,-77.5424 481.791,-68.2996 471.978,-72.2953 476.612,-77.5424\"/>\n",
       "</g>\n",
       "</g>\n",
       "</svg>\n"
      ],
      "text/plain": [
       "<graphviz.files.Source at 0x7f9fe7b64110>"
      ]
     },
     "execution_count": 7,
     "metadata": {},
     "output_type": "execute_result"
    }
   ],
   "source": [
    "dot_data = tree.export_graphviz(clf, out_file=None, \n",
    "                         feature_names=iris.feature_names,  \n",
    "                         class_names=iris.target_names,  \n",
    "                         filled=True, rounded=True,  \n",
    "                         special_characters=True)  \n",
    "graph = graphviz.Source(dot_data)  \n",
    "graph"
   ]
  },
  {
   "cell_type": "markdown",
   "metadata": {
    "lang": "pl"
   },
   "source": [
    "**Zadanie**\n",
    "\n",
    "Do jakiej klasy został przyporządkowany irys z zestawu testowego X_test[10]. Podaj nazwę."
   ]
  },
  {
   "cell_type": "code",
   "execution_count": 8,
   "metadata": {
    "deletable": false,
    "nbgrader": {
     "cell_type": "code",
     "checksum": "6c2236fb5b7d5503668f03f4eb9e2c79",
     "grade": false,
     "grade_id": "cell-84a307a96e8ce30d",
     "locked": false,
     "schema_version": 3,
     "solution": true,
     "task": false
    }
   },
   "outputs": [
    {
     "name": "stdout",
     "output_type": "stream",
     "text": [
      "['versicolor']\n"
     ]
    }
   ],
   "source": [
    "name_10th = None\n",
    "# YOUR CODE HERE\n",
    "print(iris.target_names[clf.predict([X_test[10]])])\n",
    "\n",
    "name_10th = iris.target_names[clf.predict([X_test[10]])][0]\n"
   ]
  },
  {
   "cell_type": "code",
   "execution_count": 9,
   "metadata": {
    "deletable": false,
    "editable": false,
    "nbgrader": {
     "cell_type": "code",
     "checksum": "f443884cb7dedb5d33c88fcfae84d5fd",
     "grade": true,
     "grade_id": "cell-3a48e3acbb926ab0",
     "locked": true,
     "points": 1,
     "schema_version": 3,
     "solution": false,
     "task": false
    }
   },
   "outputs": [],
   "source": [
    "assert name_10th == 'versicolor'"
   ]
  },
  {
   "cell_type": "markdown",
   "metadata": {
    "colab_type": "text",
    "deletable": false,
    "editable": false,
    "id": "6EyAGPZfWPkr",
    "lang": "pl",
    "nbgrader": {
     "cell_type": "markdown",
     "checksum": "6acdc2756f5f7f1290f567b0cbf4362f",
     "grade": false,
     "grade_id": "cell-da530369497dc520",
     "locked": true,
     "schema_version": 3,
     "solution": false,
     "task": false
    }
   },
   "source": [
    "## Dokładność modelu\n",
    "\n",
    "Metodą `score` wyznacz dokładność otrzymanego modelu"
   ]
  },
  {
   "cell_type": "code",
   "execution_count": 10,
   "metadata": {
    "colab": {
     "base_uri": "https://localhost:8080/",
     "height": 34
    },
    "colab_type": "code",
    "deletable": false,
    "id": "PerPAAfLWPE4",
    "nbgrader": {
     "cell_type": "code",
     "checksum": "84eecc2fb32ec73ad3dc42ca340e574a",
     "grade": false,
     "grade_id": "cell-2dfb27d0af0b1bc9",
     "locked": false,
     "schema_version": 3,
     "solution": true,
     "task": false
    },
    "outputId": "4f999dce-d8f8-4148-d2c7-2363d0d8459f"
   },
   "outputs": [],
   "source": [
    "\n",
    "score = clf.score(X_test,y_test)\n"
   ]
  },
  {
   "cell_type": "code",
   "execution_count": 11,
   "metadata": {
    "deletable": false,
    "editable": false,
    "nbgrader": {
     "cell_type": "code",
     "checksum": "ca030d12fcdd361ac4b799be9237385f",
     "grade": true,
     "grade_id": "cell-b2a0c1145c5953d0",
     "locked": true,
     "points": 1,
     "schema_version": 3,
     "solution": false,
     "task": false
    }
   },
   "outputs": [],
   "source": [
    "assert score >0.95 and score < 0.97"
   ]
  },
  {
   "cell_type": "markdown",
   "metadata": {
    "colab_type": "text",
    "id": "nqdA5PT9WJon",
    "lang": "pl"
   },
   "source": [
    "## Podgląd otrzymanych podziałów\n",
    "\n",
    "Aby można było zwizualizować otrzymane podziały konieczna jest redukcja przestrzeni cech do dwóch wymirów. Oznacza to, że podczas klasyfikacji uwzględniamy tylko 2 zmienne objaśniające.\n"
   ]
  },
  {
   "cell_type": "code",
   "execution_count": 12,
   "metadata": {
    "colab": {
     "base_uri": "https://localhost:8080/",
     "height": 416
    },
    "colab_type": "code",
    "id": "oWVetjlilclA",
    "outputId": "9b74a8d2-17fe-450e-b7b4-a30f0653c9ca"
   },
   "outputs": [
    {
     "data": {
      "image/png": "[encoded data removed]",
      "text/plain": [
       "<Figure size 432x288 with 6 Axes>"
      ]
     },
     "metadata": {
      "needs_background": "light"
     },
     "output_type": "display_data"
    }
   ],
   "source": [
    "# Parameters\n",
    "n_classes = 3\n",
    "plot_step = 0.02\n",
    "\n",
    "\n",
    "plt.set_cmap(plt.cm.jet)\n",
    "\n",
    "\n",
    "for pairidx, pair in enumerate([[0, 1], [0, 2], [0, 3],\n",
    "                                [1, 2], [1, 3], [2, 3]]):\n",
    "  \n",
    "    # We train classifier only on 2 features\n",
    "    X = iris.data[:, pair]\n",
    "    y = iris.target\n",
    "\n",
    "    clf_tmp = DecisionTreeClassifier().fit(X, y)\n",
    "\n",
    "    # Plot\n",
    "    plt.subplot(2, 3, pairidx + 1)\n",
    "\n",
    "    x_min, x_max = X[:, 0].min() - 1, X[:, 0].max() + 1\n",
    "    y_min, y_max = X[:, 1].min() - 1, X[:, 1].max() + 1\n",
    "    xx, yy = np.meshgrid(np.arange(x_min, x_max, plot_step),\n",
    "                         np.arange(y_min, y_max, plot_step))\n",
    "\n",
    "    Z = clf_tmp.predict(np.c_[xx.ravel(), yy.ravel()])\n",
    "    Z = Z.reshape(xx.shape)\n",
    "    plt.imshow(Z,extent=[x_min,x_max,y_min,y_max],origin='lower',alpha=0.6)\n",
    "    plt.scatter(X[:,0], X[:,1],c=np.ravel(y),edgecolors='black')\n",
    "\n",
    "    plt.xlabel(iris.feature_names[pair[0]])\n",
    "    plt.ylabel(iris.feature_names[pair[1]])\n",
    "    plt.axis(\"tight\")\n",
    "\n",
    "\n",
    "    plt.tight_layout(pad=0.4, w_pad=0.5, h_pad=1.0)\n",
    "    plt.grid(False)\n",
    "\n",
    "plt.show()\n"
   ]
  },
  {
   "cell_type": "markdown",
   "metadata": {
    "colab_type": "text",
    "id": "_fLDbVIUb_SY",
    "lang": "pl"
   },
   "source": [
    "## Inne opcje poszukiwania najlepszego podziału\n",
    "\n",
    "Kiedy mamy zbyt dużo danych lub zmiennych objaśniających czas poszukiwania optymalnego podziału rośnie. Aby w każdym kroku nie przeszukiwać wszystkich możliwych podziałów mamy dwie możliwości. Możliwe ustawienia:\n",
    "\n",
    "### `max_features`\n",
    "\n",
    "Ilość zmiennych uwzględnianych w czasie poszukiwania optymalnego podziału. Możliwe opcje:\n",
    "*  liczba całkowita - uwzględnia dokładnie tyle ziennych podczas każdego podziału\n",
    "*  liczba zmiennoprzecinkowa - tyle procent zmiennych będzie uwzględnianych\n",
    "*  “auto” -  wówczas `max_features=sqrt(n_features)`.\n",
    "*  “sqrt” - wówczas `max_features=sqrt(n_features)`\n",
    "*  “log2” - wówczas `max_features=log2(n_features)`.\n",
    "*  `None` - wówczas `max_features=n_features`.\n"
   ]
  },
  {
   "cell_type": "code",
   "execution_count": 13,
   "metadata": {},
   "outputs": [
    {
     "name": "stdout",
     "output_type": "stream",
     "text": [
      "0.96 1.0\n",
      "0.88 1.0\n"
     ]
    }
   ],
   "source": [
    "clf_all = DecisionTreeClassifier()\n",
    "clf_all = clf_all.fit(X_train, y_train)\n",
    "\n",
    "print(clf_all.score(X_test, y_test), clf_all.score(X_train, y_train))\n",
    "\n",
    "\n",
    "clf = DecisionTreeClassifier(max_features=1, random_state=123)\n",
    "clf = clf.fit(X_train, y_train)\n",
    "\n",
    "print(clf.score(X_test, y_test), clf.score(X_train, y_train))"
   ]
  },
  {
   "cell_type": "markdown",
   "metadata": {
    "colab_type": "text",
    "id": "-LAzXmCRWfMx",
    "lang": "pl"
   },
   "source": [
    "### `splitter='random'`:\n",
    "\n",
    "W tym przypadku wybór zmiennej względem której dokonywany jest podział będzie losowy."
   ]
  },
  {
   "cell_type": "code",
   "execution_count": 14,
   "metadata": {
    "colab": {
     "base_uri": "https://localhost:8080/",
     "height": 51
    },
    "colab_type": "code",
    "id": "mDhFHQHoWeni",
    "outputId": "fb2900e9-b5c9-4182-c023-1708da3a786e"
   },
   "outputs": [
    {
     "name": "stdout",
     "output_type": "stream",
     "text": [
      "CPU times: user 593 µs, sys: 362 µs, total: 955 µs\n",
      "Wall time: 811 µs\n"
     ]
    }
   ],
   "source": [
    "%%time\n",
    "\n",
    "clf = DecisionTreeClassifier(splitter='random', random_state=123)\n",
    "clf = clf.fit(X_train, y_train)"
   ]
  },
  {
   "cell_type": "code",
   "execution_count": 15,
   "metadata": {
    "colab": {
     "base_uri": "https://localhost:8080/",
     "height": 34
    },
    "colab_type": "code",
    "id": "sDhRFST-YQfF",
    "outputId": "254ba679-c7d5-46f8-e684-b7d698f4d2ab"
   },
   "outputs": [
    {
     "data": {
      "text/plain": [
       "(0.94, 1.0)"
      ]
     },
     "execution_count": 15,
     "metadata": {},
     "output_type": "execute_result"
    }
   ],
   "source": [
    "clf.score(X_test, y_test), clf.score(X_train, y_train)"
   ]
  },
  {
   "cell_type": "markdown",
   "metadata": {
    "lang": "pl"
   },
   "source": [
    "### Porównanie 2 podziałów dla różnej inicjalizacji generatora liczb pseudolosowych"
   ]
  },
  {
   "cell_type": "code",
   "execution_count": 16,
   "metadata": {
    "colab": {
     "base_uri": "https://localhost:8080/",
     "height": 434
    },
    "colab_type": "code",
    "id": "mduLh5B4nwKe",
    "outputId": "af741af5-00e8-4f88-e0dc-b1c037b84f0f"
   },
   "outputs": [
    {
     "name": "stderr",
     "output_type": "stream",
     "text": [
      "No handles with labels found to put in legend.\n"
     ]
    },
    {
     "data": {
      "image/png": "[encoded data removed]",
      "text/plain": [
       "<Figure size 432x288 with 6 Axes>"
      ]
     },
     "metadata": {
      "needs_background": "light"
     },
     "output_type": "display_data"
    }
   ],
   "source": [
    "\n",
    "# Parameters\n",
    "n_classes = 3\n",
    "plot_step = 0.02\n",
    "\n",
    "plt.set_cmap(plt.cm.jet)\n",
    "\n",
    "\n",
    "for pairidx, pair in enumerate([[0, 1], [0, 2], [0, 3],\n",
    "                                [1, 2], [1, 3], [2, 3]]):\n",
    "    X = iris.data[:, pair]\n",
    "    y = iris.target\n",
    "\n",
    "\n",
    "    clf_tmp = DecisionTreeClassifier(splitter='random', random_state=2).fit(X, y)\n",
    "\n",
    "    plt.subplot(2, 3, pairidx + 1)\n",
    "\n",
    "    x_min, x_max = X[:, 0].min() - 1, X[:, 0].max() + 1\n",
    "    y_min, y_max = X[:, 1].min() - 1, X[:, 1].max() + 1\n",
    "    xx, yy = np.meshgrid(np.arange(x_min, x_max, plot_step),\n",
    "                         np.arange(y_min, y_max, plot_step))\n",
    "\n",
    "    Z = clf_tmp.predict(np.c_[xx.ravel(), yy.ravel()])\n",
    "    Z = Z.reshape(xx.shape)\n",
    "    plt.imshow(Z,extent=[x_min,x_max,y_min,y_max],origin='lower',alpha=0.6)\n",
    "    plt.scatter(X[:,0], X[:,1],c=np.ravel(y),edgecolors='black')\n",
    "\n",
    "    plt.xlabel(iris.feature_names[pair[0]])\n",
    "    plt.ylabel(iris.feature_names[pair[1]])\n",
    "    plt.axis(\"tight\")\n",
    "\n",
    "    plt.tight_layout(pad=0.4, w_pad=0.5, h_pad=1.0)\n",
    "    plt.grid(False)\n",
    "\n",
    "\n",
    "plt.legend()\n",
    "plt.show()\n"
   ]
  },
  {
   "cell_type": "code",
   "execution_count": 17,
   "metadata": {},
   "outputs": [
    {
     "data": {
      "image/png": "[encoded data removed]",
      "text/plain": [
       "<Figure size 432x288 with 6 Axes>"
      ]
     },
     "metadata": {
      "needs_background": "light"
     },
     "output_type": "display_data"
    }
   ],
   "source": [
    "\n",
    "# Parameters\n",
    "n_classes = 3\n",
    "plot_step = 0.02\n",
    "\n",
    "plt.set_cmap(plt.cm.jet)\n",
    "\n",
    "\n",
    "for pairidx, pair in enumerate([[0, 1], [0, 2], [0, 3],\n",
    "                                [1, 2], [1, 3], [2, 3]]):\n",
    "    X = iris.data[:, pair]\n",
    "    y = iris.target\n",
    "\n",
    "\n",
    "    clf_tmp = DecisionTreeClassifier(splitter='random', random_state=100).fit(X, y)\n",
    "\n",
    "    plt.subplot(2, 3, pairidx + 1)\n",
    "\n",
    "    x_min, x_max = X[:, 0].min() - 1, X[:, 0].max() + 1\n",
    "    y_min, y_max = X[:, 1].min() - 1, X[:, 1].max() + 1\n",
    "    xx, yy = np.meshgrid(np.arange(x_min, x_max, plot_step),\n",
    "                         np.arange(y_min, y_max, plot_step))\n",
    "\n",
    "    Z = clf_tmp.predict(np.c_[xx.ravel(), yy.ravel()])\n",
    "    Z = Z.reshape(xx.shape)\n",
    "    plt.imshow(Z,extent=[x_min,x_max,y_min,y_max],origin='lower',alpha=0.6)\n",
    "    plt.scatter(X[:,0], X[:,1],c=np.ravel(y),edgecolors='black')\n",
    "\n",
    "    plt.xlabel(iris.feature_names[pair[0]])\n",
    "    plt.ylabel(iris.feature_names[pair[1]])\n",
    "    plt.axis(\"tight\")\n",
    "\n",
    "    plt.tight_layout(pad=0.4, w_pad=0.5, h_pad=1.0)\n",
    "    plt.grid(False)\n",
    "\n",
    "\n",
    "plt.show()\n"
   ]
  },
  {
   "cell_type": "markdown",
   "metadata": {
    "colab_type": "text",
    "id": "ueHn39W-ZU--",
    "lang": "pl"
   },
   "source": [
    "## Przeciwdziałanie przeuczeniu\n",
    "\n",
    "Wymuszanie jednorodności w otrzymanych podprzestrzeniach prowadzi na ogół do zbudowaniabardzo złożonego modelu, który jest nadmiernie dopasowany dodanych ze zbioru uczącego. Pojawia się wówczas efekt przeuczenia.\n",
    "\n",
    "Następujące parametry pozwalają zmniejszyć efekt *overfittingu*. Po znaku równości zostały podane ich domyślne wartości.\n",
    "\n",
    "*   `max_depth=None`\n",
    "*   `min_samples_split=2`\n",
    "*   `min_samples_leaf=1`\n",
    "*  `min_impurity_decrease=0`\n",
    "\n"
   ]
  },
  {
   "cell_type": "code",
   "execution_count": 18,
   "metadata": {
    "colab": {
     "base_uri": "https://localhost:8080/",
     "height": 51
    },
    "colab_type": "code",
    "id": "KujHLNMceskO",
    "outputId": "5941d90c-84e5-47ed-f6c8-abf2cd71b669"
   },
   "outputs": [
    {
     "name": "stdout",
     "output_type": "stream",
     "text": [
      "CPU times: user 990 µs, sys: 335 µs, total: 1.32 ms\n",
      "Wall time: 962 µs\n"
     ]
    }
   ],
   "source": [
    "%%time\n",
    "\n",
    "clf = DecisionTreeClassifier(min_samples_split=10)\n",
    "clf = clf.fit(X_train, y_train)"
   ]
  },
  {
   "cell_type": "code",
   "execution_count": 19,
   "metadata": {
    "colab": {},
    "colab_type": "code",
    "id": "9gFDcJzhez9K"
   },
   "outputs": [],
   "source": [
    "dot_data = export_graphviz(clf, out_file=None) \n",
    "graph = graphviz.Source(dot_data) "
   ]
  },
  {
   "cell_type": "code",
   "execution_count": 20,
   "metadata": {
    "colab": {
     "base_uri": "https://localhost:8080/",
     "height": 598
    },
    "colab_type": "code",
    "id": "FKMiEYyVe6EC",
    "outputId": "409f40a5-0402-41e5-fc3d-04e1cbd4aca6"
   },
   "outputs": [
    {
     "data": {
      "image/svg+xml": [
       "<?xml version=\"1.0\" encoding=\"UTF-8\" standalone=\"no\"?>\n",
       "<!DOCTYPE svg PUBLIC \"-//W3C//DTD SVG 1.1//EN\"\n",
       " \"http://www.w3.org/Graphics/SVG/1.1/DTD/svg11.dtd\">\n",
       "<!-- Generated by graphviz version 2.38.0 (20140413.2041)\n",
       " -->\n",
       "<!-- Title: Tree Pages: 1 -->\n",
       "<svg width=\"547pt\" height=\"433pt\"\n",
       " viewBox=\"0.00 0.00 547.00 433.00\" xmlns=\"http://www.w3.org/2000/svg\" xmlns:xlink=\"http://www.w3.org/1999/xlink\">\n",
       "<g id=\"graph0\" class=\"graph\" transform=\"scale(1 1) rotate(0) translate(4 429)\">\n",
       "<title>Tree</title>\n",
       "<polygon fill=\"white\" stroke=\"none\" points=\"-4,4 -4,-429 543,-429 543,4 -4,4\"/>\n",
       "<!-- 0 -->\n",
       "<g id=\"node1\" class=\"node\"><title>0</title>\n",
       "<path fill=\"#f9f6fe\" stroke=\"black\" d=\"M256,-425C256,-425 133,-425 133,-425 127,-425 121,-419 121,-413 121,-413 121,-354 121,-354 121,-348 127,-342 133,-342 133,-342 256,-342 256,-342 262,-342 268,-348 268,-354 268,-354 268,-413 268,-413 268,-419 262,-425 256,-425\"/>\n",
       "<text text-anchor=\"start\" x=\"129\" y=\"-409.8\" font-family=\"Helvetica,sans-Serif\" font-size=\"14.00\">petal width (cm) ≤ 0.8</text>\n",
       "<text text-anchor=\"start\" x=\"159\" y=\"-394.8\" font-family=\"Helvetica,sans-Serif\" font-size=\"14.00\">gini = 0.665</text>\n",
       "<text text-anchor=\"start\" x=\"149.5\" y=\"-379.8\" font-family=\"Helvetica,sans-Serif\" font-size=\"14.00\">samples = 100</text>\n",
       "<text text-anchor=\"start\" x=\"136.5\" y=\"-364.8\" font-family=\"Helvetica,sans-Serif\" font-size=\"14.00\">value = [33, 31, 36]</text>\n",
       "<text text-anchor=\"start\" x=\"146\" y=\"-349.8\" font-family=\"Helvetica,sans-Serif\" font-size=\"14.00\">class = virginica</text>\n",
       "</g>\n",
       "<!-- 1 -->\n",
       "<g id=\"node2\" class=\"node\"><title>1</title>\n",
       "<path fill=\"#e58139\" stroke=\"black\" d=\"M164,-298.5C164,-298.5 71,-298.5 71,-298.5 65,-298.5 59,-292.5 59,-286.5 59,-286.5 59,-242.5 59,-242.5 59,-236.5 65,-230.5 71,-230.5 71,-230.5 164,-230.5 164,-230.5 170,-230.5 176,-236.5 176,-242.5 176,-242.5 176,-286.5 176,-286.5 176,-292.5 170,-298.5 164,-298.5\"/>\n",
       "<text text-anchor=\"start\" x=\"89.5\" y=\"-283.3\" font-family=\"Helvetica,sans-Serif\" font-size=\"14.00\">gini = 0.0</text>\n",
       "<text text-anchor=\"start\" x=\"76.5\" y=\"-268.3\" font-family=\"Helvetica,sans-Serif\" font-size=\"14.00\">samples = 33</text>\n",
       "<text text-anchor=\"start\" x=\"67\" y=\"-253.3\" font-family=\"Helvetica,sans-Serif\" font-size=\"14.00\">value = [33, 0, 0]</text>\n",
       "<text text-anchor=\"start\" x=\"74\" y=\"-238.3\" font-family=\"Helvetica,sans-Serif\" font-size=\"14.00\">class = setosa</text>\n",
       "</g>\n",
       "<!-- 0&#45;&gt;1 -->\n",
       "<g id=\"edge1\" class=\"edge\"><title>0&#45;&gt;1</title>\n",
       "<path fill=\"none\" stroke=\"black\" d=\"M167.785,-341.907C160.378,-330.652 152.327,-318.418 144.882,-307.106\"/>\n",
       "<polygon fill=\"black\" stroke=\"black\" points=\"147.749,-305.096 139.328,-298.667 141.902,-308.944 147.749,-305.096\"/>\n",
       "<text text-anchor=\"middle\" x=\"134.279\" y=\"-319.452\" font-family=\"Helvetica,sans-Serif\" font-size=\"14.00\">True</text>\n",
       "</g>\n",
       "<!-- 2 -->\n",
       "<g id=\"node3\" class=\"node\"><title>2</title>\n",
       "<path fill=\"#eee4fb\" stroke=\"black\" d=\"M337,-306C337,-306 206,-306 206,-306 200,-306 194,-300 194,-294 194,-294 194,-235 194,-235 194,-229 200,-223 206,-223 206,-223 337,-223 337,-223 343,-223 349,-229 349,-235 349,-235 349,-294 349,-294 349,-300 343,-306 337,-306\"/>\n",
       "<text text-anchor=\"start\" x=\"202\" y=\"-290.8\" font-family=\"Helvetica,sans-Serif\" font-size=\"14.00\">petal width (cm) ≤ 1.65</text>\n",
       "<text text-anchor=\"start\" x=\"236\" y=\"-275.8\" font-family=\"Helvetica,sans-Serif\" font-size=\"14.00\">gini = 0.497</text>\n",
       "<text text-anchor=\"start\" x=\"230.5\" y=\"-260.8\" font-family=\"Helvetica,sans-Serif\" font-size=\"14.00\">samples = 67</text>\n",
       "<text text-anchor=\"start\" x=\"217\" y=\"-245.8\" font-family=\"Helvetica,sans-Serif\" font-size=\"14.00\">value = [0, 31, 36]</text>\n",
       "<text text-anchor=\"start\" x=\"223\" y=\"-230.8\" font-family=\"Helvetica,sans-Serif\" font-size=\"14.00\">class = virginica</text>\n",
       "</g>\n",
       "<!-- 0&#45;&gt;2 -->\n",
       "<g id=\"edge2\" class=\"edge\"><title>0&#45;&gt;2</title>\n",
       "<path fill=\"none\" stroke=\"black\" d=\"M221.215,-341.907C227.008,-333.105 233.195,-323.703 239.178,-314.612\"/>\n",
       "<polygon fill=\"black\" stroke=\"black\" points=\"242.259,-316.298 244.832,-306.021 236.411,-312.45 242.259,-316.298\"/>\n",
       "<text text-anchor=\"middle\" x=\"249.881\" y=\"-326.806\" font-family=\"Helvetica,sans-Serif\" font-size=\"14.00\">False</text>\n",
       "</g>\n",
       "<!-- 3 -->\n",
       "<g id=\"node4\" class=\"node\"><title>3</title>\n",
       "<path fill=\"#4de88e\" stroke=\"black\" d=\"M248.5,-187C248.5,-187 120.5,-187 120.5,-187 114.5,-187 108.5,-181 108.5,-175 108.5,-175 108.5,-116 108.5,-116 108.5,-110 114.5,-104 120.5,-104 120.5,-104 248.5,-104 248.5,-104 254.5,-104 260.5,-110 260.5,-116 260.5,-116 260.5,-175 260.5,-175 260.5,-181 254.5,-187 248.5,-187\"/>\n",
       "<text text-anchor=\"start\" x=\"116.5\" y=\"-171.8\" font-family=\"Helvetica,sans-Serif\" font-size=\"14.00\">petal length (cm) ≤ 5.0</text>\n",
       "<text text-anchor=\"start\" x=\"149\" y=\"-156.8\" font-family=\"Helvetica,sans-Serif\" font-size=\"14.00\">gini = 0.165</text>\n",
       "<text text-anchor=\"start\" x=\"143.5\" y=\"-141.8\" font-family=\"Helvetica,sans-Serif\" font-size=\"14.00\">samples = 33</text>\n",
       "<text text-anchor=\"start\" x=\"134\" y=\"-126.8\" font-family=\"Helvetica,sans-Serif\" font-size=\"14.00\">value = [0, 30, 3]</text>\n",
       "<text text-anchor=\"start\" x=\"132\" y=\"-111.8\" font-family=\"Helvetica,sans-Serif\" font-size=\"14.00\">class = versicolor</text>\n",
       "</g>\n",
       "<!-- 2&#45;&gt;3 -->\n",
       "<g id=\"edge3\" class=\"edge\"><title>2&#45;&gt;3</title>\n",
       "<path fill=\"none\" stroke=\"black\" d=\"M241.316,-222.907C234.635,-213.923 227.491,-204.315 220.601,-195.05\"/>\n",
       "<polygon fill=\"black\" stroke=\"black\" points=\"223.407,-192.957 214.631,-187.021 217.789,-197.134 223.407,-192.957\"/>\n",
       "</g>\n",
       "<!-- 6 -->\n",
       "<g id=\"node7\" class=\"node\"><title>6</title>\n",
       "<path fill=\"#853fe6\" stroke=\"black\" d=\"M426.5,-187C426.5,-187 290.5,-187 290.5,-187 284.5,-187 278.5,-181 278.5,-175 278.5,-175 278.5,-116 278.5,-116 278.5,-110 284.5,-104 290.5,-104 290.5,-104 426.5,-104 426.5,-104 432.5,-104 438.5,-110 438.5,-116 438.5,-116 438.5,-175 438.5,-175 438.5,-181 432.5,-187 426.5,-187\"/>\n",
       "<text text-anchor=\"start\" x=\"286.5\" y=\"-171.8\" font-family=\"Helvetica,sans-Serif\" font-size=\"14.00\">petal length (cm) ≤ 4.85</text>\n",
       "<text text-anchor=\"start\" x=\"323\" y=\"-156.8\" font-family=\"Helvetica,sans-Serif\" font-size=\"14.00\">gini = 0.057</text>\n",
       "<text text-anchor=\"start\" x=\"317.5\" y=\"-141.8\" font-family=\"Helvetica,sans-Serif\" font-size=\"14.00\">samples = 34</text>\n",
       "<text text-anchor=\"start\" x=\"308\" y=\"-126.8\" font-family=\"Helvetica,sans-Serif\" font-size=\"14.00\">value = [0, 1, 33]</text>\n",
       "<text text-anchor=\"start\" x=\"310\" y=\"-111.8\" font-family=\"Helvetica,sans-Serif\" font-size=\"14.00\">class = virginica</text>\n",
       "</g>\n",
       "<!-- 2&#45;&gt;6 -->\n",
       "<g id=\"edge6\" class=\"edge\"><title>2&#45;&gt;6</title>\n",
       "<path fill=\"none\" stroke=\"black\" d=\"M301.684,-222.907C308.365,-213.923 315.509,-204.315 322.399,-195.05\"/>\n",
       "<polygon fill=\"black\" stroke=\"black\" points=\"325.211,-197.134 328.369,-187.021 319.593,-192.957 325.211,-197.134\"/>\n",
       "</g>\n",
       "<!-- 4 -->\n",
       "<g id=\"node5\" class=\"node\"><title>4</title>\n",
       "<path fill=\"#39e581\" stroke=\"black\" d=\"M109,-68C109,-68 12,-68 12,-68 6,-68 7.10543e-15,-62 7.10543e-15,-56 7.10543e-15,-56 7.10543e-15,-12 7.10543e-15,-12 7.10543e-15,-6 6,-0 12,-0 12,-0 109,-0 109,-0 115,-0 121,-6 121,-12 121,-12 121,-56 121,-56 121,-62 115,-68 109,-68\"/>\n",
       "<text text-anchor=\"start\" x=\"32.5\" y=\"-52.8\" font-family=\"Helvetica,sans-Serif\" font-size=\"14.00\">gini = 0.0</text>\n",
       "<text text-anchor=\"start\" x=\"19.5\" y=\"-37.8\" font-family=\"Helvetica,sans-Serif\" font-size=\"14.00\">samples = 29</text>\n",
       "<text text-anchor=\"start\" x=\"10\" y=\"-22.8\" font-family=\"Helvetica,sans-Serif\" font-size=\"14.00\">value = [0, 29, 0]</text>\n",
       "<text text-anchor=\"start\" x=\"8\" y=\"-7.8\" font-family=\"Helvetica,sans-Serif\" font-size=\"14.00\">class = versicolor</text>\n",
       "</g>\n",
       "<!-- 3&#45;&gt;4 -->\n",
       "<g id=\"edge4\" class=\"edge\"><title>3&#45;&gt;4</title>\n",
       "<path fill=\"none\" stroke=\"black\" d=\"M138.327,-103.726C127.689,-94.3318 116.384,-84.349 105.784,-74.9883\"/>\n",
       "<polygon fill=\"black\" stroke=\"black\" points=\"108.022,-72.2953 98.2091,-68.2996 103.388,-77.5424 108.022,-72.2953\"/>\n",
       "</g>\n",
       "<!-- 5 -->\n",
       "<g id=\"node6\" class=\"node\"><title>5</title>\n",
       "<path fill=\"#ab7bee\" stroke=\"black\" d=\"M240,-68C240,-68 151,-68 151,-68 145,-68 139,-62 139,-56 139,-56 139,-12 139,-12 139,-6 145,-0 151,-0 151,-0 240,-0 240,-0 246,-0 252,-6 252,-12 252,-12 252,-56 252,-56 252,-62 246,-68 240,-68\"/>\n",
       "<text text-anchor=\"start\" x=\"160\" y=\"-52.8\" font-family=\"Helvetica,sans-Serif\" font-size=\"14.00\">gini = 0.375</text>\n",
       "<text text-anchor=\"start\" x=\"158\" y=\"-37.8\" font-family=\"Helvetica,sans-Serif\" font-size=\"14.00\">samples = 4</text>\n",
       "<text text-anchor=\"start\" x=\"148.5\" y=\"-22.8\" font-family=\"Helvetica,sans-Serif\" font-size=\"14.00\">value = [0, 1, 3]</text>\n",
       "<text text-anchor=\"start\" x=\"147\" y=\"-7.8\" font-family=\"Helvetica,sans-Serif\" font-size=\"14.00\">class = virginica</text>\n",
       "</g>\n",
       "<!-- 3&#45;&gt;5 -->\n",
       "<g id=\"edge5\" class=\"edge\"><title>3&#45;&gt;5</title>\n",
       "<path fill=\"none\" stroke=\"black\" d=\"M188.596,-103.726C189.43,-95.4263 190.31,-86.6671 191.152,-78.2834\"/>\n",
       "<polygon fill=\"black\" stroke=\"black\" points=\"194.638,-78.5994 192.155,-68.2996 187.673,-77.8997 194.638,-78.5994\"/>\n",
       "</g>\n",
       "<!-- 7 -->\n",
       "<g id=\"node8\" class=\"node\"><title>7</title>\n",
       "<path fill=\"#ab7bee\" stroke=\"black\" d=\"M392,-68C392,-68 303,-68 303,-68 297,-68 291,-62 291,-56 291,-56 291,-12 291,-12 291,-6 297,-0 303,-0 303,-0 392,-0 392,-0 398,-0 404,-6 404,-12 404,-12 404,-56 404,-56 404,-62 398,-68 392,-68\"/>\n",
       "<text text-anchor=\"start\" x=\"312\" y=\"-52.8\" font-family=\"Helvetica,sans-Serif\" font-size=\"14.00\">gini = 0.375</text>\n",
       "<text text-anchor=\"start\" x=\"310\" y=\"-37.8\" font-family=\"Helvetica,sans-Serif\" font-size=\"14.00\">samples = 4</text>\n",
       "<text text-anchor=\"start\" x=\"300.5\" y=\"-22.8\" font-family=\"Helvetica,sans-Serif\" font-size=\"14.00\">value = [0, 1, 3]</text>\n",
       "<text text-anchor=\"start\" x=\"299\" y=\"-7.8\" font-family=\"Helvetica,sans-Serif\" font-size=\"14.00\">class = virginica</text>\n",
       "</g>\n",
       "<!-- 6&#45;&gt;7 -->\n",
       "<g id=\"edge7\" class=\"edge\"><title>6&#45;&gt;7</title>\n",
       "<path fill=\"none\" stroke=\"black\" d=\"M354.404,-103.726C353.57,-95.4263 352.69,-86.6671 351.848,-78.2834\"/>\n",
       "<polygon fill=\"black\" stroke=\"black\" points=\"355.327,-77.8997 350.845,-68.2996 348.362,-78.5994 355.327,-77.8997\"/>\n",
       "</g>\n",
       "<!-- 8 -->\n",
       "<g id=\"node9\" class=\"node\"><title>8</title>\n",
       "<path fill=\"#8139e5\" stroke=\"black\" d=\"M527,-68C527,-68 434,-68 434,-68 428,-68 422,-62 422,-56 422,-56 422,-12 422,-12 422,-6 428,-0 434,-0 434,-0 527,-0 527,-0 533,-0 539,-6 539,-12 539,-12 539,-56 539,-56 539,-62 533,-68 527,-68\"/>\n",
       "<text text-anchor=\"start\" x=\"452.5\" y=\"-52.8\" font-family=\"Helvetica,sans-Serif\" font-size=\"14.00\">gini = 0.0</text>\n",
       "<text text-anchor=\"start\" x=\"439.5\" y=\"-37.8\" font-family=\"Helvetica,sans-Serif\" font-size=\"14.00\">samples = 30</text>\n",
       "<text text-anchor=\"start\" x=\"430\" y=\"-22.8\" font-family=\"Helvetica,sans-Serif\" font-size=\"14.00\">value = [0, 0, 30]</text>\n",
       "<text text-anchor=\"start\" x=\"432\" y=\"-7.8\" font-family=\"Helvetica,sans-Serif\" font-size=\"14.00\">class = virginica</text>\n",
       "</g>\n",
       "<!-- 6&#45;&gt;8 -->\n",
       "<g id=\"edge8\" class=\"edge\"><title>6&#45;&gt;8</title>\n",
       "<path fill=\"none\" stroke=\"black\" d=\"M403.928,-103.726C414.395,-94.3318 425.518,-84.349 435.947,-74.9883\"/>\n",
       "<polygon fill=\"black\" stroke=\"black\" points=\"438.295,-77.5839 443.399,-68.2996 433.619,-72.3744 438.295,-77.5839\"/>\n",
       "</g>\n",
       "</g>\n",
       "</svg>\n"
      ],
      "text/plain": [
       "<graphviz.files.Source at 0x7fa016265890>"
      ]
     },
     "execution_count": 20,
     "metadata": {},
     "output_type": "execute_result"
    }
   ],
   "source": [
    "dot_data = export_graphviz(clf, out_file=None, \n",
    "                         feature_names=iris.feature_names,  \n",
    "                         class_names=iris.target_names,  \n",
    "                         filled=True, rounded=True,  \n",
    "                         special_characters=True)  \n",
    "graph = graphviz.Source(dot_data)  \n",
    "graph"
   ]
  },
  {
   "cell_type": "code",
   "execution_count": 21,
   "metadata": {
    "colab": {
     "base_uri": "https://localhost:8080/",
     "height": 34
    },
    "colab_type": "code",
    "id": "AEZ3E2CLfnka",
    "outputId": "af4cc3b0-6f98-42de-8ae4-1e563d074992"
   },
   "outputs": [
    {
     "data": {
      "text/plain": [
       "(0.96, 0.98)"
      ]
     },
     "execution_count": 21,
     "metadata": {},
     "output_type": "execute_result"
    }
   ],
   "source": [
    "clf.score(X_test, y_test), clf.score(X_train, y_train)"
   ]
  },
  {
   "cell_type": "markdown",
   "metadata": {
    "colab_type": "text",
    "id": "u7lmH3w1dyLQ",
    "lang": "pl"
   },
   "source": [
    "## Poszukiwanie optymalnych parametrów metodą walidacji krzyżowej\n",
    "\n",
    "**Zapamiętaj:** danych testowych możesz użyć tylko raz do sprawdzenia dokładności ostatecznego modelu. \n",
    "\n",
    "Aby dopasować parametry drzewa klasyfikacyjnego można wykorzystać oddzielny zbiór walidacyjny lub **metodę walidacji krzyżowej**. W tym przkładzie użyjemy tej drugiej metody.\n",
    "\n",
    "Metoda ta pozwala określić dokładność modelu w sposób nieobciążony. \n",
    "Algorytm metody sprawdzania krzyżowego:\n",
    "\n",
    "1. Wybierz wartość parametru $b$ (zazwyczaj $b\\leq 10$) i podziel losowo zbiór uczący $U$ na $b$ równolicznych (w przybliżeniu) i rozłącznych części $U_1$, $U_2$, . . . , $U_b$.\n",
    "\n",
    "2.  Dla $h \\in {1, . . . , b}$ wykonaj kroki:\n",
    "\n",
    "  a. zbuduj model na zbiorze $U|U_h$ (wyłączając jedną część),\n",
    "\n",
    "  b.  oszacuj błąd klasyfikacji modelu na zbiorze $U_h$ (wykorzystując $U_h$ jako zbiór walidacyjny).\n",
    "\n",
    "3. Wyznacz ocenę błędu klasyfikacji modelu uśredniając wartości otrzymane w kroku 2. Otrzymany wynik jest nieobciążonym estymatorem błędu klasyfikacji\n",
    "\n",
    "Biiblioteka `sklearn` dostarcza metodę `GridSearchCV` do przeszukiwania przestrzeni hiperparametrów modelu z wykorzystaniem walidacji krzyżowej.\n"
   ]
  },
  {
   "cell_type": "code",
   "execution_count": 36,
   "metadata": {
    "colab": {
     "base_uri": "https://localhost:8080/",
     "height": 51
    },
    "colab_type": "code",
    "deletable": false,
    "id": "VGs0zVx4dxwj",
    "nbgrader": {
     "cell_type": "code",
     "checksum": "d9dc9e05192372ef5a85a889b6390d71",
     "grade": false,
     "grade_id": "cell-3f8d6cdd67eea4f6",
     "locked": false,
     "schema_version": 3,
     "solution": true,
     "task": false
    },
    "outputId": "0fb92a80-df72-4240-a757-8d4d454dce86"
   },
   "outputs": [
    {
     "name": "stdout",
     "output_type": "stream",
     "text": [
      "Najlepsza dokładność 0.9497920380273323\n",
      "Dobrane parametry: {'max_depth': 3, 'max_features': 2}\n"
     ]
    }
   ],
   "source": [
    "from sklearn.model_selection import GridSearchCV\n",
    "clf_grid  = None\n",
    "\n",
    "# YOUR CODE HERE\n",
    "parameter_grid = {'max_depth': np.arange(3, 7),\n",
    "                  'max_features': np.arange(1, 5)}\n",
    "\n",
    "clf_grid = GridSearchCV(DecisionTreeClassifier(), parameter_grid, cv=3, iid=False)\n",
    "\n",
    "clf_grid.fit(X_train, y_train)\n",
    "\n",
    "print (\"Najlepsza dokładność {}\".format(clf_grid.best_score_))\n",
    "print (\"Dobrane parametry: {}\".format(clf_grid.best_params_))\n",
    "\n",
    "\n"
   ]
  },
  {
   "cell_type": "code",
   "execution_count": 37,
   "metadata": {
    "deletable": false,
    "editable": false,
    "nbgrader": {
     "cell_type": "code",
     "checksum": "69e4955b75b6af49f102762e413f4616",
     "grade": true,
     "grade_id": "cell-afe939c32cac9bd8",
     "locked": true,
     "points": 1,
     "schema_version": 3,
     "solution": false,
     "task": false
    }
   },
   "outputs": [],
   "source": [
    "assert type(clf_grid) == GridSearchCV\n",
    "assert clf_grid.best_score_ > 0.92"
   ]
  },
  {
   "cell_type": "markdown",
   "metadata": {
    "colab_type": "text",
    "id": "ZznbsWO7Y0Es",
    "lang": "pl"
   },
   "source": [
    "Teraz możemy przetestować otrzymany model na danych testowych"
   ]
  },
  {
   "cell_type": "code",
   "execution_count": 38,
   "metadata": {
    "colab": {
     "base_uri": "https://localhost:8080/",
     "height": 34
    },
    "colab_type": "code",
    "id": "D0c7HoLqdx2M",
    "outputId": "d89020ca-e3bd-401f-ca7e-fa47ae0d7bae"
   },
   "outputs": [
    {
     "data": {
      "text/plain": [
       "0.96"
      ]
     },
     "execution_count": 38,
     "metadata": {},
     "output_type": "execute_result"
    }
   ],
   "source": [
    "clf_grid.best_estimator_.score(X_test, y_test)"
   ]
  },
  {
   "cell_type": "markdown",
   "metadata": {
    "colab_type": "text",
    "id": "OUSPUTNNeLBB",
    "lang": "pl"
   },
   "source": [
    "# Istotność zmiennych objaśniających\n",
    "\n",
    "Zaletą drzewa klasyfikacyjnego jest możliwość określenia istotności poszczególnych zmiennych"
   ]
  },
  {
   "cell_type": "code",
   "execution_count": 39,
   "metadata": {
    "colab": {
     "base_uri": "https://localhost:8080/",
     "height": 85
    },
    "colab_type": "code",
    "id": "u3JoUJoOZKFT",
    "outputId": "8fb961a6-1693-4cd1-e9db-e02c24eec3d8"
   },
   "outputs": [
    {
     "name": "stdout",
     "output_type": "stream",
     "text": [
      "petal width (cm) 0.933969379453312\n",
      "petal length (cm) 0.062447703893291344\n",
      "sepal length (cm) 0.0035829166533965923\n",
      "sepal width (cm) 0.0\n"
     ]
    }
   ],
   "source": [
    "ids = np.argsort(clf_grid.best_estimator_.feature_importances_)\n",
    "\n",
    "for i in ids[::-1]:\n",
    "    print (iris.feature_names[i], clf_grid.best_estimator_.feature_importances_[i])"
   ]
  },
  {
   "cell_type": "markdown",
   "metadata": {
    "colab_type": "text",
    "id": "uEx_wwova6ag",
    "lang": "pl"
   },
   "source": [
    "Dla poprzedniego modelu"
   ]
  },
  {
   "cell_type": "code",
   "execution_count": 40,
   "metadata": {
    "colab": {
     "base_uri": "https://localhost:8080/",
     "height": 85
    },
    "colab_type": "code",
    "id": "VwYBSykLZwn6",
    "outputId": "7cf1285a-f1df-40ca-98b7-46d6f95a913f"
   },
   "outputs": [
    {
     "name": "stdout",
     "output_type": "stream",
     "text": [
      "petal width (cm) 0.9308196108729353\n",
      "petal length (cm) 0.06918038912706467\n",
      "sepal width (cm) 0.0\n",
      "sepal length (cm) 0.0\n"
     ]
    }
   ],
   "source": [
    "ids = np.argsort(clf.feature_importances_)\n",
    "\n",
    "\n",
    "for i in ids[::-1]:\n",
    "    print (iris.feature_names[i], clf.feature_importances_[i])"
   ]
  },
  {
   "cell_type": "markdown",
   "metadata": {
    "colab_type": "text",
    "id": "t1Jdan2EYy1a",
    "lang": "pl"
   },
   "source": [
    "# Zadanie\n",
    "\n",
    "Zbuduj drzewo klasyfikacyjne dla danych dotyczących złośliwości raka piersi. Znajdź optymalne parametry i sprawdź jaka jest istotność poszczególnych zmiennych objaśniających.\n",
    "\n",
    "**Krok 1:** Wczytanie danych i podział na dane treningowe  i testowe w proporcji $0.77:0.33$. Aby móc porównać wyniki z kolegami ustaw `random_state` na 1"
   ]
  },
  {
   "cell_type": "code",
   "execution_count": 41,
   "metadata": {
    "colab": {},
    "colab_type": "code",
    "deletable": false,
    "id": "9geKa26u6MK_",
    "nbgrader": {
     "cell_type": "code",
     "checksum": "87e7c0aaeb4f7e25560359efdd190f03",
     "grade": false,
     "grade_id": "cell-dc646c3a73f2d1fb",
     "locked": false,
     "schema_version": 3,
     "solution": true,
     "task": false
    }
   },
   "outputs": [],
   "source": [
    "breast = load_breast_cancer()\n",
    "\n",
    "\n",
    "# YOUR CODE HERE\n",
    "breast = load_breast_cancer()\n",
    "X,y = breast.data, breast.target\n",
    "\n",
    "X_train_breast, X_test_breast, y_train_breast, y_test_breast = train_test_split(X, y, test_size=0.33, random_state=1)\n"
   ]
  },
  {
   "cell_type": "code",
   "execution_count": 42,
   "metadata": {
    "deletable": false,
    "editable": false,
    "nbgrader": {
     "cell_type": "code",
     "checksum": "c0d74623b3e3f3d33cc18022c648b359",
     "grade": true,
     "grade_id": "cell-776dca1c39c617e9",
     "locked": true,
     "points": 1,
     "schema_version": 3,
     "solution": false,
     "task": false
    }
   },
   "outputs": [],
   "source": [
    "assert X.shape == (569, 30)\n",
    "assert X_train_breast.shape == (381, 30)\n",
    "assert X_test_breast.shape == (188, 30)\n",
    "assert y_train_breast.shape == (381,)\n",
    "assert y_test_breast.shape == (188,)"
   ]
  },
  {
   "cell_type": "markdown",
   "metadata": {
    "colab_type": "text",
    "id": "e27iUUW4cX9I",
    "lang": "pl"
   },
   "source": [
    "**Krok 2:** Medodą walidacji krzyżowej znajdź optymalne drzewo klasyfikujące:"
   ]
  },
  {
   "cell_type": "code",
   "execution_count": 43,
   "metadata": {
    "colab": {
     "base_uri": "https://localhost:8080/",
     "height": 51
    },
    "colab_type": "code",
    "deletable": false,
    "id": "I2He_LUZRavR",
    "nbgrader": {
     "cell_type": "code",
     "checksum": "7b50adc8ee3e44d5b86ec7a041aa696a",
     "grade": false,
     "grade_id": "cell-c07502193ea41a35",
     "locked": false,
     "schema_version": 3,
     "solution": true,
     "task": false
    },
    "outputId": "7ebe9cca-a80f-42d6-9874-88431adbc16f"
   },
   "outputs": [
    {
     "data": {
      "text/plain": [
       "GridSearchCV(cv=3, error_score='raise-deprecating',\n",
       "             estimator=DecisionTreeClassifier(class_weight=None,\n",
       "                                              criterion='gini', max_depth=None,\n",
       "                                              max_features=None,\n",
       "                                              max_leaf_nodes=None,\n",
       "                                              min_impurity_decrease=0.0,\n",
       "                                              min_impurity_split=None,\n",
       "                                              min_samples_leaf=1,\n",
       "                                              min_samples_split=2,\n",
       "                                              min_weight_fraction_leaf=0.0,\n",
       "                                              presort=False, random_state=None,\n",
       "                                              splitter='best'),\n",
       "             iid=False, n_jobs=None,\n",
       "             param_grid={'max_depth': array([ 3,  4,  5,  6,  7,  8,  9, 10, 11, 12, 13, 14, 15, 16, 17, 18, 19,\n",
       "       20, 21, 22, 23, 24, 25, 26, 27, 28, 29]),\n",
       "                         'max_features': array([ 1,  2,  3,  4,  5,  6,  7,  8,  9, 10, 11, 12, 13, 14, 15, 16, 17,\n",
       "       18, 19, 20, 21, 22, 23, 24, 25, 26, 27, 28, 29])},\n",
       "             pre_dispatch='2*n_jobs', refit=True, return_train_score=False,\n",
       "             scoring=None, verbose=0)"
      ]
     },
     "execution_count": 43,
     "metadata": {},
     "output_type": "execute_result"
    }
   ],
   "source": [
    "parameter_grid = {'max_depth': np.arange(3, 30),\n",
    "                  'max_features': np.arange(1, 30)}\n",
    "\n",
    "# YOUR CODE HERE\n",
    "clf_grid = GridSearchCV(DecisionTreeClassifier(), parameter_grid, cv=3, iid=False)\n",
    "clf_grid.fit(X_train_breast, y_train_breast)\n"
   ]
  },
  {
   "cell_type": "code",
   "execution_count": 44,
   "metadata": {
    "deletable": false,
    "editable": false,
    "nbgrader": {
     "cell_type": "code",
     "checksum": "f9fcb3422dc89d46d9707c7e24263075",
     "grade": true,
     "grade_id": "cell-6f747605f8346e3c",
     "locked": true,
     "points": 1,
     "schema_version": 3,
     "solution": false,
     "task": false
    }
   },
   "outputs": [],
   "source": [
    "assert type(clf_grid) == GridSearchCV\n",
    "assert clf_grid.best_score_ > 0.95"
   ]
  },
  {
   "cell_type": "markdown",
   "metadata": {
    "colab_type": "text",
    "id": "8landUcadIep",
    "lang": "pl"
   },
   "source": [
    "**Krok 3:** Podaj dokładność modelu na danych testowych:\n"
   ]
  },
  {
   "cell_type": "code",
   "execution_count": 45,
   "metadata": {
    "colab": {
     "base_uri": "https://localhost:8080/",
     "height": 34
    },
    "colab_type": "code",
    "deletable": false,
    "id": "bX-bWj9yo_ui",
    "nbgrader": {
     "cell_type": "code",
     "checksum": "e2e58817a10e703ffcb71c7b3ecba3e8",
     "grade": false,
     "grade_id": "cell-e38aae89aed08963",
     "locked": false,
     "schema_version": 3,
     "solution": true,
     "task": false
    },
    "outputId": "024fa03f-a43f-465d-9cb5-16dcf3d2fae6"
   },
   "outputs": [],
   "source": [
    "# YOUR CODE HERE\n",
    "best_score = clf_grid.best_estimator_.score(X_test_breast,y_test_breast)\n"
   ]
  },
  {
   "cell_type": "code",
   "execution_count": 46,
   "metadata": {
    "deletable": false,
    "editable": false,
    "nbgrader": {
     "cell_type": "code",
     "checksum": "8f648934ead78efd8ed0677c72ea93e9",
     "grade": true,
     "grade_id": "cell-e3e928b87653d6d6",
     "locked": true,
     "points": 1,
     "schema_version": 3,
     "solution": false,
     "task": false
    }
   },
   "outputs": [
    {
     "name": "stdout",
     "output_type": "stream",
     "text": [
      "0.9308510638297872\n"
     ]
    }
   ],
   "source": [
    "print(best_score)\n",
    "assert best_score > 0.88 \n",
    "assert best_score < 0.95"
   ]
  },
  {
   "cell_type": "markdown",
   "metadata": {
    "colab_type": "text",
    "id": "rTmCCQsidWX4",
    "lang": "pl"
   },
   "source": [
    "**Krok 4:** Sprawdź istotność poszczególnych zmiennych, która cecha jest najistotniejsza?"
   ]
  },
  {
   "cell_type": "code",
   "execution_count": 47,
   "metadata": {
    "colab": {
     "base_uri": "https://localhost:8080/",
     "height": 527
    },
    "colab_type": "code",
    "deletable": false,
    "id": "37EZmHHxdAZL",
    "nbgrader": {
     "cell_type": "code",
     "checksum": "26168625fe100f0d53649f011fd90694",
     "grade": false,
     "grade_id": "cell-fd88942e5a8043ae",
     "locked": false,
     "schema_version": 3,
     "solution": true,
     "task": false
    },
    "outputId": "5d4703d5-2d9b-4de8-b0d9-ef3ce4b164ea"
   },
   "outputs": [
    {
     "name": "stdout",
     "output_type": "stream",
     "text": [
      "worst perimeter 0.8440480930317248\n",
      "worst concave points 0.06959958312625691\n",
      "worst area 0.023804860583006786\n",
      "mean radius 0.01604572526761273\n",
      "worst smoothness 0.011380447212965631\n",
      "mean compactness 0.010493571195774421\n",
      "perimeter error 0.01036402093409819\n",
      "mean smoothness 0.010202083107002905\n",
      "worst texture 0.0028208524719823855\n",
      "worst symmetry 0.001240763069575187\n",
      "mean perimeter 0.0\n",
      "radius error 0.0\n",
      "mean texture 0.0\n",
      "mean concavity 0.0\n",
      "mean concave points 0.0\n",
      "mean symmetry 0.0\n",
      "mean fractal dimension 0.0\n",
      "mean area 0.0\n",
      "worst fractal dimension 0.0\n",
      "texture error 0.0\n",
      "area error 0.0\n",
      "compactness error 0.0\n",
      "concavity error 0.0\n",
      "concave points error 0.0\n",
      "symmetry error 0.0\n",
      "fractal dimension error 0.0\n",
      "worst radius 0.0\n",
      "worst compactness 0.0\n",
      "worst concavity 0.0\n",
      "smoothness error 0.0\n"
     ]
    },
    {
     "data": {
      "text/plain": [
       "'worst perimeter'"
      ]
     },
     "execution_count": 47,
     "metadata": {},
     "output_type": "execute_result"
    }
   ],
   "source": [
    "most_significant_feature = ''\n",
    "\n",
    "# YOUR CODE HERE\n",
    "ids = np.argsort(clf_grid.best_estimator_.feature_importances_)\n",
    "for i in ids[::-1]:\n",
    "    print(breast.feature_names[i], clf_grid.best_estimator_.feature_importances_[i])\n",
    "most_significant_feature = breast.feature_names[ids[-1]]\n",
    "most_significant_feature\n",
    "    "
   ]
  },
  {
   "cell_type": "code",
   "execution_count": 48,
   "metadata": {
    "deletable": false,
    "editable": false,
    "nbgrader": {
     "cell_type": "code",
     "checksum": "b1744a48ccc5c6f145d0a8b3a5d63227",
     "grade": true,
     "grade_id": "cell-e51703cea88b83a8",
     "locked": true,
     "points": 1,
     "schema_version": 3,
     "solution": false,
     "task": false
    }
   },
   "outputs": [
    {
     "data": {
      "text/plain": [
       "False"
      ]
     },
     "execution_count": 48,
     "metadata": {},
     "output_type": "execute_result"
    }
   ],
   "source": [
    "most_significant_feature == 'mean concavity'\n"
   ]
  },
  {
   "cell_type": "markdown",
   "metadata": {
    "colab_type": "text",
    "id": "RqADYKR-gEhF",
    "lang": "pl"
   },
   "source": [
    "**Krok 5:** Podgląd otrzymanego drzewa"
   ]
  },
  {
   "cell_type": "code",
   "execution_count": 49,
   "metadata": {
    "colab": {
     "base_uri": "https://localhost:8080/",
     "height": 1094
    },
    "colab_type": "code",
    "id": "bFLFeyudgEsf",
    "outputId": "e37701fa-3873-4e0f-8165-813c8f7499b0"
   },
   "outputs": [
    {
     "data": {
      "image/svg+xml": [
       "<?xml version=\"1.0\" encoding=\"UTF-8\" standalone=\"no\"?>\n",
       "<!DOCTYPE svg PUBLIC \"-//W3C//DTD SVG 1.1//EN\"\n",
       " \"http://www.w3.org/Graphics/SVG/1.1/DTD/svg11.dtd\">\n",
       "<!-- Generated by graphviz version 2.38.0 (20140413.2041)\n",
       " -->\n",
       "<!-- Title: Tree Pages: 1 -->\n",
       "<svg width=\"1378pt\" height=\"552pt\"\n",
       " viewBox=\"0.00 0.00 1378.00 552.00\" xmlns=\"http://www.w3.org/2000/svg\" xmlns:xlink=\"http://www.w3.org/1999/xlink\">\n",
       "<g id=\"graph0\" class=\"graph\" transform=\"scale(1 1) rotate(0) translate(4 548)\">\n",
       "<title>Tree</title>\n",
       "<polygon fill=\"white\" stroke=\"none\" points=\"-4,4 -4,-548 1374,-548 1374,4 -4,4\"/>\n",
       "<!-- 0 -->\n",
       "<g id=\"node1\" class=\"node\"><title>0</title>\n",
       "<path fill=\"#b5dbf5\" stroke=\"black\" d=\"M666.5,-544C666.5,-544 523.5,-544 523.5,-544 517.5,-544 511.5,-538 511.5,-532 511.5,-532 511.5,-473 511.5,-473 511.5,-467 517.5,-461 523.5,-461 523.5,-461 666.5,-461 666.5,-461 672.5,-461 678.5,-467 678.5,-473 678.5,-473 678.5,-532 678.5,-532 678.5,-538 672.5,-544 666.5,-544\"/>\n",
       "<text text-anchor=\"start\" x=\"519.5\" y=\"-528.8\" font-family=\"Helvetica,sans-Serif\" font-size=\"14.00\">worst perimeter ≤ 104.95</text>\n",
       "<text text-anchor=\"start\" x=\"559.5\" y=\"-513.8\" font-family=\"Helvetica,sans-Serif\" font-size=\"14.00\">gini = 0.474</text>\n",
       "<text text-anchor=\"start\" x=\"550\" y=\"-498.8\" font-family=\"Helvetica,sans-Serif\" font-size=\"14.00\">samples = 381</text>\n",
       "<text text-anchor=\"start\" x=\"540.5\" y=\"-483.8\" font-family=\"Helvetica,sans-Serif\" font-size=\"14.00\">value = [147, 234]</text>\n",
       "<text text-anchor=\"start\" x=\"551\" y=\"-468.8\" font-family=\"Helvetica,sans-Serif\" font-size=\"14.00\">class = benign</text>\n",
       "</g>\n",
       "<!-- 1 -->\n",
       "<g id=\"node2\" class=\"node\"><title>1</title>\n",
       "<path fill=\"#3ea0e6\" stroke=\"black\" d=\"M543,-425C543,-425 375,-425 375,-425 369,-425 363,-419 363,-413 363,-413 363,-354 363,-354 363,-348 369,-342 375,-342 375,-342 543,-342 543,-342 549,-342 555,-348 555,-354 555,-354 555,-413 555,-413 555,-419 549,-425 543,-425\"/>\n",
       "<text text-anchor=\"start\" x=\"371\" y=\"-409.8\" font-family=\"Helvetica,sans-Serif\" font-size=\"14.00\">worst concave points ≤ 0.135</text>\n",
       "<text text-anchor=\"start\" x=\"423.5\" y=\"-394.8\" font-family=\"Helvetica,sans-Serif\" font-size=\"14.00\">gini = 0.052</text>\n",
       "<text text-anchor=\"start\" x=\"414\" y=\"-379.8\" font-family=\"Helvetica,sans-Serif\" font-size=\"14.00\">samples = 225</text>\n",
       "<text text-anchor=\"start\" x=\"412\" y=\"-364.8\" font-family=\"Helvetica,sans-Serif\" font-size=\"14.00\">value = [6, 219]</text>\n",
       "<text text-anchor=\"start\" x=\"415\" y=\"-349.8\" font-family=\"Helvetica,sans-Serif\" font-size=\"14.00\">class = benign</text>\n",
       "</g>\n",
       "<!-- 0&#45;&gt;1 -->\n",
       "<g id=\"edge1\" class=\"edge\"><title>0&#45;&gt;1</title>\n",
       "<path fill=\"none\" stroke=\"black\" d=\"M547.815,-460.907C536.845,-451.469 525.074,-441.343 513.806,-431.649\"/>\n",
       "<polygon fill=\"black\" stroke=\"black\" points=\"515.964,-428.889 506.101,-425.021 511.399,-434.196 515.964,-428.889\"/>\n",
       "<text text-anchor=\"middle\" x=\"507.973\" y=\"-446.251\" font-family=\"Helvetica,sans-Serif\" font-size=\"14.00\">True</text>\n",
       "</g>\n",
       "<!-- 12 -->\n",
       "<g id=\"node13\" class=\"node\"><title>12</title>\n",
       "<path fill=\"#e88e4e\" stroke=\"black\" d=\"M815,-425C815,-425 647,-425 647,-425 641,-425 635,-419 635,-413 635,-413 635,-354 635,-354 635,-348 641,-342 647,-342 647,-342 815,-342 815,-342 821,-342 827,-348 827,-354 827,-354 827,-413 827,-413 827,-419 821,-425 815,-425\"/>\n",
       "<text text-anchor=\"start\" x=\"643\" y=\"-409.8\" font-family=\"Helvetica,sans-Serif\" font-size=\"14.00\">worst concave points ≤ 0.142</text>\n",
       "<text text-anchor=\"start\" x=\"695.5\" y=\"-394.8\" font-family=\"Helvetica,sans-Serif\" font-size=\"14.00\">gini = 0.174</text>\n",
       "<text text-anchor=\"start\" x=\"686\" y=\"-379.8\" font-family=\"Helvetica,sans-Serif\" font-size=\"14.00\">samples = 156</text>\n",
       "<text text-anchor=\"start\" x=\"680.5\" y=\"-364.8\" font-family=\"Helvetica,sans-Serif\" font-size=\"14.00\">value = [141, 15]</text>\n",
       "<text text-anchor=\"start\" x=\"678\" y=\"-349.8\" font-family=\"Helvetica,sans-Serif\" font-size=\"14.00\">class = malignant</text>\n",
       "</g>\n",
       "<!-- 0&#45;&gt;12 -->\n",
       "<g id=\"edge12\" class=\"edge\"><title>0&#45;&gt;12</title>\n",
       "<path fill=\"none\" stroke=\"black\" d=\"M642.185,-460.907C653.155,-451.469 664.926,-441.343 676.194,-431.649\"/>\n",
       "<polygon fill=\"black\" stroke=\"black\" points=\"678.601,-434.196 683.899,-425.021 674.036,-428.889 678.601,-434.196\"/>\n",
       "<text text-anchor=\"middle\" x=\"682.027\" y=\"-446.251\" font-family=\"Helvetica,sans-Serif\" font-size=\"14.00\">False</text>\n",
       "</g>\n",
       "<!-- 2 -->\n",
       "<g id=\"node3\" class=\"node\"><title>2</title>\n",
       "<path fill=\"#3a9de5\" stroke=\"black\" d=\"M298,-306C298,-306 160,-306 160,-306 154,-306 148,-300 148,-294 148,-294 148,-235 148,-235 148,-229 154,-223 160,-223 160,-223 298,-223 298,-223 304,-223 310,-229 310,-235 310,-235 310,-294 310,-294 310,-300 304,-306 298,-306\"/>\n",
       "<text text-anchor=\"start\" x=\"156\" y=\"-290.8\" font-family=\"Helvetica,sans-Serif\" font-size=\"14.00\">worst symmetry ≤ 0.198</text>\n",
       "<text text-anchor=\"start\" x=\"193.5\" y=\"-275.8\" font-family=\"Helvetica,sans-Serif\" font-size=\"14.00\">gini = 0.009</text>\n",
       "<text text-anchor=\"start\" x=\"184\" y=\"-260.8\" font-family=\"Helvetica,sans-Serif\" font-size=\"14.00\">samples = 213</text>\n",
       "<text text-anchor=\"start\" x=\"182\" y=\"-245.8\" font-family=\"Helvetica,sans-Serif\" font-size=\"14.00\">value = [1, 212]</text>\n",
       "<text text-anchor=\"start\" x=\"185\" y=\"-230.8\" font-family=\"Helvetica,sans-Serif\" font-size=\"14.00\">class = benign</text>\n",
       "</g>\n",
       "<!-- 1&#45;&gt;2 -->\n",
       "<g id=\"edge2\" class=\"edge\"><title>1&#45;&gt;2</title>\n",
       "<path fill=\"none\" stroke=\"black\" d=\"M379.203,-341.907C359.311,-331.789 337.864,-320.879 317.578,-310.559\"/>\n",
       "<polygon fill=\"black\" stroke=\"black\" points=\"319.156,-307.435 308.656,-306.021 315.982,-313.674 319.156,-307.435\"/>\n",
       "</g>\n",
       "<!-- 7 -->\n",
       "<g id=\"node8\" class=\"node\"><title>7</title>\n",
       "<path fill=\"#c6e3f8\" stroke=\"black\" d=\"M515.5,-306C515.5,-306 402.5,-306 402.5,-306 396.5,-306 390.5,-300 390.5,-294 390.5,-294 390.5,-235 390.5,-235 390.5,-229 396.5,-223 402.5,-223 402.5,-223 515.5,-223 515.5,-223 521.5,-223 527.5,-229 527.5,-235 527.5,-235 527.5,-294 527.5,-294 527.5,-300 521.5,-306 515.5,-306\"/>\n",
       "<text text-anchor=\"start\" x=\"398.5\" y=\"-290.8\" font-family=\"Helvetica,sans-Serif\" font-size=\"14.00\">worst area ≤ 724.05</text>\n",
       "<text text-anchor=\"start\" x=\"423.5\" y=\"-275.8\" font-family=\"Helvetica,sans-Serif\" font-size=\"14.00\">gini = 0.486</text>\n",
       "<text text-anchor=\"start\" x=\"418\" y=\"-260.8\" font-family=\"Helvetica,sans-Serif\" font-size=\"14.00\">samples = 12</text>\n",
       "<text text-anchor=\"start\" x=\"419.5\" y=\"-245.8\" font-family=\"Helvetica,sans-Serif\" font-size=\"14.00\">value = [5, 7]</text>\n",
       "<text text-anchor=\"start\" x=\"415\" y=\"-230.8\" font-family=\"Helvetica,sans-Serif\" font-size=\"14.00\">class = benign</text>\n",
       "</g>\n",
       "<!-- 1&#45;&gt;7 -->\n",
       "<g id=\"edge7\" class=\"edge\"><title>1&#45;&gt;7</title>\n",
       "<path fill=\"none\" stroke=\"black\" d=\"M459,-341.907C459,-333.649 459,-324.864 459,-316.302\"/>\n",
       "<polygon fill=\"black\" stroke=\"black\" points=\"462.5,-316.021 459,-306.021 455.5,-316.021 462.5,-316.021\"/>\n",
       "</g>\n",
       "<!-- 3 -->\n",
       "<g id=\"node4\" class=\"node\"><title>3</title>\n",
       "<path fill=\"#52a9e8\" stroke=\"black\" d=\"M144,-187C144,-187 12,-187 12,-187 6,-187 0,-181 0,-175 0,-175 0,-116 0,-116 0,-110 6,-104 12,-104 12,-104 144,-104 144,-104 150,-104 156,-110 156,-116 156,-116 156,-175 156,-175 156,-181 150,-187 144,-187\"/>\n",
       "<text text-anchor=\"start\" x=\"8\" y=\"-171.8\" font-family=\"Helvetica,sans-Serif\" font-size=\"14.00\">perimeter error ≤ 3.709</text>\n",
       "<text text-anchor=\"start\" x=\"42.5\" y=\"-156.8\" font-family=\"Helvetica,sans-Serif\" font-size=\"14.00\">gini = 0.198</text>\n",
       "<text text-anchor=\"start\" x=\"40.5\" y=\"-141.8\" font-family=\"Helvetica,sans-Serif\" font-size=\"14.00\">samples = 9</text>\n",
       "<text text-anchor=\"start\" x=\"38.5\" y=\"-126.8\" font-family=\"Helvetica,sans-Serif\" font-size=\"14.00\">value = [1, 8]</text>\n",
       "<text text-anchor=\"start\" x=\"34\" y=\"-111.8\" font-family=\"Helvetica,sans-Serif\" font-size=\"14.00\">class = benign</text>\n",
       "</g>\n",
       "<!-- 2&#45;&gt;3 -->\n",
       "<g id=\"edge3\" class=\"edge\"><title>2&#45;&gt;3</title>\n",
       "<path fill=\"none\" stroke=\"black\" d=\"M176.611,-222.907C164.313,-213.379 151.11,-203.148 138.49,-193.37\"/>\n",
       "<polygon fill=\"black\" stroke=\"black\" points=\"140.345,-190.379 130.296,-187.021 136.057,-195.912 140.345,-190.379\"/>\n",
       "</g>\n",
       "<!-- 6 -->\n",
       "<g id=\"node7\" class=\"node\"><title>6</title>\n",
       "<path fill=\"#399de5\" stroke=\"black\" d=\"M272,-179.5C272,-179.5 186,-179.5 186,-179.5 180,-179.5 174,-173.5 174,-167.5 174,-167.5 174,-123.5 174,-123.5 174,-117.5 180,-111.5 186,-111.5 186,-111.5 272,-111.5 272,-111.5 278,-111.5 284,-117.5 284,-123.5 284,-123.5 284,-167.5 284,-167.5 284,-173.5 278,-179.5 272,-179.5\"/>\n",
       "<text text-anchor=\"start\" x=\"201\" y=\"-164.3\" font-family=\"Helvetica,sans-Serif\" font-size=\"14.00\">gini = 0.0</text>\n",
       "<text text-anchor=\"start\" x=\"184\" y=\"-149.3\" font-family=\"Helvetica,sans-Serif\" font-size=\"14.00\">samples = 204</text>\n",
       "<text text-anchor=\"start\" x=\"182\" y=\"-134.3\" font-family=\"Helvetica,sans-Serif\" font-size=\"14.00\">value = [0, 204]</text>\n",
       "<text text-anchor=\"start\" x=\"185\" y=\"-119.3\" font-family=\"Helvetica,sans-Serif\" font-size=\"14.00\">class = benign</text>\n",
       "</g>\n",
       "<!-- 2&#45;&gt;6 -->\n",
       "<g id=\"edge6\" class=\"edge\"><title>2&#45;&gt;6</title>\n",
       "<path fill=\"none\" stroke=\"black\" d=\"M229,-222.907C229,-212.204 229,-200.615 229,-189.776\"/>\n",
       "<polygon fill=\"black\" stroke=\"black\" points=\"232.5,-189.667 229,-179.667 225.5,-189.667 232.5,-189.667\"/>\n",
       "</g>\n",
       "<!-- 4 -->\n",
       "<g id=\"node5\" class=\"node\"><title>4</title>\n",
       "<path fill=\"#399de5\" stroke=\"black\" d=\"M98,-68C98,-68 18,-68 18,-68 12,-68 6,-62 6,-56 6,-56 6,-12 6,-12 6,-6 12,-0 18,-0 18,-0 98,-0 98,-0 104,-0 110,-6 110,-12 110,-12 110,-56 110,-56 110,-62 104,-68 98,-68\"/>\n",
       "<text text-anchor=\"start\" x=\"30\" y=\"-52.8\" font-family=\"Helvetica,sans-Serif\" font-size=\"14.00\">gini = 0.0</text>\n",
       "<text text-anchor=\"start\" x=\"20.5\" y=\"-37.8\" font-family=\"Helvetica,sans-Serif\" font-size=\"14.00\">samples = 8</text>\n",
       "<text text-anchor=\"start\" x=\"18.5\" y=\"-22.8\" font-family=\"Helvetica,sans-Serif\" font-size=\"14.00\">value = [0, 8]</text>\n",
       "<text text-anchor=\"start\" x=\"14\" y=\"-7.8\" font-family=\"Helvetica,sans-Serif\" font-size=\"14.00\">class = benign</text>\n",
       "</g>\n",
       "<!-- 3&#45;&gt;4 -->\n",
       "<g id=\"edge4\" class=\"edge\"><title>3&#45;&gt;4</title>\n",
       "<path fill=\"none\" stroke=\"black\" d=\"M70.5527,-103.726C69.0368,-95.4263 67.4369,-86.6671 65.9057,-78.2834\"/>\n",
       "<polygon fill=\"black\" stroke=\"black\" points=\"69.322,-77.508 64.0821,-68.2996 62.4359,-78.7658 69.322,-77.508\"/>\n",
       "</g>\n",
       "<!-- 5 -->\n",
       "<g id=\"node6\" class=\"node\"><title>5</title>\n",
       "<path fill=\"#e58139\" stroke=\"black\" d=\"M238,-68C238,-68 140,-68 140,-68 134,-68 128,-62 128,-56 128,-56 128,-12 128,-12 128,-6 134,-0 140,-0 140,-0 238,-0 238,-0 244,-0 250,-6 250,-12 250,-12 250,-56 250,-56 250,-62 244,-68 238,-68\"/>\n",
       "<text text-anchor=\"start\" x=\"161\" y=\"-52.8\" font-family=\"Helvetica,sans-Serif\" font-size=\"14.00\">gini = 0.0</text>\n",
       "<text text-anchor=\"start\" x=\"151.5\" y=\"-37.8\" font-family=\"Helvetica,sans-Serif\" font-size=\"14.00\">samples = 1</text>\n",
       "<text text-anchor=\"start\" x=\"149.5\" y=\"-22.8\" font-family=\"Helvetica,sans-Serif\" font-size=\"14.00\">value = [1, 0]</text>\n",
       "<text text-anchor=\"start\" x=\"136\" y=\"-7.8\" font-family=\"Helvetica,sans-Serif\" font-size=\"14.00\">class = malignant</text>\n",
       "</g>\n",
       "<!-- 3&#45;&gt;5 -->\n",
       "<g id=\"edge5\" class=\"edge\"><title>3&#45;&gt;5</title>\n",
       "<path fill=\"none\" stroke=\"black\" d=\"M119.332,-103.726C128.671,-94.5142 138.582,-84.7364 147.91,-75.5343\"/>\n",
       "<polygon fill=\"black\" stroke=\"black\" points=\"150.583,-77.8141 155.244,-68.2996 145.667,-72.8308 150.583,-77.8141\"/>\n",
       "</g>\n",
       "<!-- 8 -->\n",
       "<g id=\"node9\" class=\"node\"><title>8</title>\n",
       "<path fill=\"#55abe9\" stroke=\"black\" d=\"M460,-187C460,-187 314,-187 314,-187 308,-187 302,-181 302,-175 302,-175 302,-116 302,-116 302,-110 308,-104 314,-104 314,-104 460,-104 460,-104 466,-104 472,-110 472,-116 472,-116 472,-175 472,-175 472,-181 466,-187 460,-187\"/>\n",
       "<text text-anchor=\"start\" x=\"310\" y=\"-171.8\" font-family=\"Helvetica,sans-Serif\" font-size=\"14.00\">mean smoothness ≤ 0.12</text>\n",
       "<text text-anchor=\"start\" x=\"351.5\" y=\"-156.8\" font-family=\"Helvetica,sans-Serif\" font-size=\"14.00\">gini = 0.219</text>\n",
       "<text text-anchor=\"start\" x=\"349.5\" y=\"-141.8\" font-family=\"Helvetica,sans-Serif\" font-size=\"14.00\">samples = 8</text>\n",
       "<text text-anchor=\"start\" x=\"347.5\" y=\"-126.8\" font-family=\"Helvetica,sans-Serif\" font-size=\"14.00\">value = [1, 7]</text>\n",
       "<text text-anchor=\"start\" x=\"343\" y=\"-111.8\" font-family=\"Helvetica,sans-Serif\" font-size=\"14.00\">class = benign</text>\n",
       "</g>\n",
       "<!-- 7&#45;&gt;8 -->\n",
       "<g id=\"edge8\" class=\"edge\"><title>7&#45;&gt;8</title>\n",
       "<path fill=\"none\" stroke=\"black\" d=\"M434.02,-222.907C428.603,-214.105 422.817,-204.703 417.223,-195.612\"/>\n",
       "<polygon fill=\"black\" stroke=\"black\" points=\"420.158,-193.703 411.936,-187.021 414.196,-197.372 420.158,-193.703\"/>\n",
       "</g>\n",
       "<!-- 11 -->\n",
       "<g id=\"node12\" class=\"node\"><title>11</title>\n",
       "<path fill=\"#e58139\" stroke=\"black\" d=\"M600,-179.5C600,-179.5 502,-179.5 502,-179.5 496,-179.5 490,-173.5 490,-167.5 490,-167.5 490,-123.5 490,-123.5 490,-117.5 496,-111.5 502,-111.5 502,-111.5 600,-111.5 600,-111.5 606,-111.5 612,-117.5 612,-123.5 612,-123.5 612,-167.5 612,-167.5 612,-173.5 606,-179.5 600,-179.5\"/>\n",
       "<text text-anchor=\"start\" x=\"523\" y=\"-164.3\" font-family=\"Helvetica,sans-Serif\" font-size=\"14.00\">gini = 0.0</text>\n",
       "<text text-anchor=\"start\" x=\"513.5\" y=\"-149.3\" font-family=\"Helvetica,sans-Serif\" font-size=\"14.00\">samples = 4</text>\n",
       "<text text-anchor=\"start\" x=\"511.5\" y=\"-134.3\" font-family=\"Helvetica,sans-Serif\" font-size=\"14.00\">value = [4, 0]</text>\n",
       "<text text-anchor=\"start\" x=\"498\" y=\"-119.3\" font-family=\"Helvetica,sans-Serif\" font-size=\"14.00\">class = malignant</text>\n",
       "</g>\n",
       "<!-- 7&#45;&gt;11 -->\n",
       "<g id=\"edge11\" class=\"edge\"><title>7&#45;&gt;11</title>\n",
       "<path fill=\"none\" stroke=\"black\" d=\"M490.919,-222.907C499.856,-211.542 509.578,-199.178 518.545,-187.774\"/>\n",
       "<polygon fill=\"black\" stroke=\"black\" points=\"521.49,-189.691 524.92,-179.667 515.987,-185.364 521.49,-189.691\"/>\n",
       "</g>\n",
       "<!-- 9 -->\n",
       "<g id=\"node10\" class=\"node\"><title>9</title>\n",
       "<path fill=\"#399de5\" stroke=\"black\" d=\"M379,-68C379,-68 299,-68 299,-68 293,-68 287,-62 287,-56 287,-56 287,-12 287,-12 287,-6 293,-0 299,-0 299,-0 379,-0 379,-0 385,-0 391,-6 391,-12 391,-12 391,-56 391,-56 391,-62 385,-68 379,-68\"/>\n",
       "<text text-anchor=\"start\" x=\"311\" y=\"-52.8\" font-family=\"Helvetica,sans-Serif\" font-size=\"14.00\">gini = 0.0</text>\n",
       "<text text-anchor=\"start\" x=\"301.5\" y=\"-37.8\" font-family=\"Helvetica,sans-Serif\" font-size=\"14.00\">samples = 7</text>\n",
       "<text text-anchor=\"start\" x=\"299.5\" y=\"-22.8\" font-family=\"Helvetica,sans-Serif\" font-size=\"14.00\">value = [0, 7]</text>\n",
       "<text text-anchor=\"start\" x=\"295\" y=\"-7.8\" font-family=\"Helvetica,sans-Serif\" font-size=\"14.00\">class = benign</text>\n",
       "</g>\n",
       "<!-- 8&#45;&gt;9 -->\n",
       "<g id=\"edge9\" class=\"edge\"><title>8&#45;&gt;9</title>\n",
       "<path fill=\"none\" stroke=\"black\" d=\"M369.127,-103.726C365.408,-95.2439 361.48,-86.2819 357.731,-77.7312\"/>\n",
       "<polygon fill=\"black\" stroke=\"black\" points=\"360.817,-76.0531 353.597,-68.2996 354.406,-78.8635 360.817,-76.0531\"/>\n",
       "</g>\n",
       "<!-- 10 -->\n",
       "<g id=\"node11\" class=\"node\"><title>10</title>\n",
       "<path fill=\"#e58139\" stroke=\"black\" d=\"M519,-68C519,-68 421,-68 421,-68 415,-68 409,-62 409,-56 409,-56 409,-12 409,-12 409,-6 415,-0 421,-0 421,-0 519,-0 519,-0 525,-0 531,-6 531,-12 531,-12 531,-56 531,-56 531,-62 525,-68 519,-68\"/>\n",
       "<text text-anchor=\"start\" x=\"442\" y=\"-52.8\" font-family=\"Helvetica,sans-Serif\" font-size=\"14.00\">gini = 0.0</text>\n",
       "<text text-anchor=\"start\" x=\"432.5\" y=\"-37.8\" font-family=\"Helvetica,sans-Serif\" font-size=\"14.00\">samples = 1</text>\n",
       "<text text-anchor=\"start\" x=\"430.5\" y=\"-22.8\" font-family=\"Helvetica,sans-Serif\" font-size=\"14.00\">value = [1, 0]</text>\n",
       "<text text-anchor=\"start\" x=\"417\" y=\"-7.8\" font-family=\"Helvetica,sans-Serif\" font-size=\"14.00\">class = malignant</text>\n",
       "</g>\n",
       "<!-- 8&#45;&gt;10 -->\n",
       "<g id=\"edge10\" class=\"edge\"><title>8&#45;&gt;10</title>\n",
       "<path fill=\"none\" stroke=\"black\" d=\"M417.906,-103.726C424.681,-94.7878 431.86,-85.3168 438.653,-76.3558\"/>\n",
       "<polygon fill=\"black\" stroke=\"black\" points=\"441.508,-78.3832 444.759,-68.2996 435.929,-74.1547 441.508,-78.3832\"/>\n",
       "</g>\n",
       "<!-- 13 -->\n",
       "<g id=\"node14\" class=\"node\"><title>13</title>\n",
       "<path fill=\"#f8dcc8\" stroke=\"black\" d=\"M802.5,-306C802.5,-306 659.5,-306 659.5,-306 653.5,-306 647.5,-300 647.5,-294 647.5,-294 647.5,-235 647.5,-235 647.5,-229 653.5,-223 659.5,-223 659.5,-223 802.5,-223 802.5,-223 808.5,-223 814.5,-229 814.5,-235 814.5,-235 814.5,-294 814.5,-294 814.5,-300 808.5,-306 802.5,-306\"/>\n",
       "<text text-anchor=\"start\" x=\"655.5\" y=\"-290.8\" font-family=\"Helvetica,sans-Serif\" font-size=\"14.00\">worst perimeter ≤ 117.45</text>\n",
       "<text text-anchor=\"start\" x=\"695.5\" y=\"-275.8\" font-family=\"Helvetica,sans-Serif\" font-size=\"14.00\">gini = 0.487</text>\n",
       "<text text-anchor=\"start\" x=\"690\" y=\"-260.8\" font-family=\"Helvetica,sans-Serif\" font-size=\"14.00\">samples = 31</text>\n",
       "<text text-anchor=\"start\" x=\"684\" y=\"-245.8\" font-family=\"Helvetica,sans-Serif\" font-size=\"14.00\">value = [18, 13]</text>\n",
       "<text text-anchor=\"start\" x=\"678\" y=\"-230.8\" font-family=\"Helvetica,sans-Serif\" font-size=\"14.00\">class = malignant</text>\n",
       "</g>\n",
       "<!-- 12&#45;&gt;13 -->\n",
       "<g id=\"edge13\" class=\"edge\"><title>12&#45;&gt;13</title>\n",
       "<path fill=\"none\" stroke=\"black\" d=\"M731,-341.907C731,-333.649 731,-324.864 731,-316.302\"/>\n",
       "<polygon fill=\"black\" stroke=\"black\" points=\"734.5,-316.021 731,-306.021 727.5,-316.021 734.5,-316.021\"/>\n",
       "</g>\n",
       "<!-- 20 -->\n",
       "<g id=\"node21\" class=\"node\"><title>20</title>\n",
       "<path fill=\"#e5833c\" stroke=\"black\" d=\"M1121,-306C1121,-306 969,-306 969,-306 963,-306 957,-300 957,-294 957,-294 957,-235 957,-235 957,-229 963,-223 969,-223 969,-223 1121,-223 1121,-223 1127,-223 1133,-229 1133,-235 1133,-235 1133,-294 1133,-294 1133,-300 1127,-306 1121,-306\"/>\n",
       "<text text-anchor=\"start\" x=\"965\" y=\"-290.8\" font-family=\"Helvetica,sans-Serif\" font-size=\"14.00\">worst smoothness ≤ 0.097</text>\n",
       "<text text-anchor=\"start\" x=\"1009.5\" y=\"-275.8\" font-family=\"Helvetica,sans-Serif\" font-size=\"14.00\">gini = 0.031</text>\n",
       "<text text-anchor=\"start\" x=\"1000\" y=\"-260.8\" font-family=\"Helvetica,sans-Serif\" font-size=\"14.00\">samples = 125</text>\n",
       "<text text-anchor=\"start\" x=\"998\" y=\"-245.8\" font-family=\"Helvetica,sans-Serif\" font-size=\"14.00\">value = [123, 2]</text>\n",
       "<text text-anchor=\"start\" x=\"992\" y=\"-230.8\" font-family=\"Helvetica,sans-Serif\" font-size=\"14.00\">class = malignant</text>\n",
       "</g>\n",
       "<!-- 12&#45;&gt;20 -->\n",
       "<g id=\"edge20\" class=\"edge\"><title>12&#45;&gt;20</title>\n",
       "<path fill=\"none\" stroke=\"black\" d=\"M827.344,-346.601C865.402,-332.42 909.08,-316.145 947.272,-301.915\"/>\n",
       "<polygon fill=\"black\" stroke=\"black\" points=\"948.709,-305.114 956.857,-298.343 946.264,-298.555 948.709,-305.114\"/>\n",
       "</g>\n",
       "<!-- 14 -->\n",
       "<g id=\"node15\" class=\"node\"><title>14</title>\n",
       "<path fill=\"#cee6f8\" stroke=\"black\" d=\"M759.5,-187C759.5,-187 642.5,-187 642.5,-187 636.5,-187 630.5,-181 630.5,-175 630.5,-175 630.5,-116 630.5,-116 630.5,-110 636.5,-104 642.5,-104 642.5,-104 759.5,-104 759.5,-104 765.5,-104 771.5,-110 771.5,-116 771.5,-116 771.5,-175 771.5,-175 771.5,-181 765.5,-187 759.5,-187\"/>\n",
       "<text text-anchor=\"start\" x=\"638.5\" y=\"-171.8\" font-family=\"Helvetica,sans-Serif\" font-size=\"14.00\">mean radius ≤ 14.11</text>\n",
       "<text text-anchor=\"start\" x=\"669\" y=\"-156.8\" font-family=\"Helvetica,sans-Serif\" font-size=\"14.00\">gini = 0.49</text>\n",
       "<text text-anchor=\"start\" x=\"660\" y=\"-141.8\" font-family=\"Helvetica,sans-Serif\" font-size=\"14.00\">samples = 21</text>\n",
       "<text text-anchor=\"start\" x=\"658\" y=\"-126.8\" font-family=\"Helvetica,sans-Serif\" font-size=\"14.00\">value = [9, 12]</text>\n",
       "<text text-anchor=\"start\" x=\"657\" y=\"-111.8\" font-family=\"Helvetica,sans-Serif\" font-size=\"14.00\">class = benign</text>\n",
       "</g>\n",
       "<!-- 13&#45;&gt;14 -->\n",
       "<g id=\"edge14\" class=\"edge\"><title>13&#45;&gt;14</title>\n",
       "<path fill=\"none\" stroke=\"black\" d=\"M720.592,-222.907C718.428,-214.468 716.122,-205.477 713.882,-196.738\"/>\n",
       "<polygon fill=\"black\" stroke=\"black\" points=\"717.264,-195.838 711.39,-187.021 710.483,-197.577 717.264,-195.838\"/>\n",
       "</g>\n",
       "<!-- 17 -->\n",
       "<g id=\"node18\" class=\"node\"><title>17</title>\n",
       "<path fill=\"#e88f4f\" stroke=\"black\" d=\"M962.5,-187C962.5,-187 801.5,-187 801.5,-187 795.5,-187 789.5,-181 789.5,-175 789.5,-175 789.5,-116 789.5,-116 789.5,-110 795.5,-104 801.5,-104 801.5,-104 962.5,-104 962.5,-104 968.5,-104 974.5,-110 974.5,-116 974.5,-116 974.5,-175 974.5,-175 974.5,-181 968.5,-187 962.5,-187\"/>\n",
       "<text text-anchor=\"start\" x=\"797.5\" y=\"-171.8\" font-family=\"Helvetica,sans-Serif\" font-size=\"14.00\">mean compactness ≤ 0.063</text>\n",
       "<text text-anchor=\"start\" x=\"850\" y=\"-156.8\" font-family=\"Helvetica,sans-Serif\" font-size=\"14.00\">gini = 0.18</text>\n",
       "<text text-anchor=\"start\" x=\"841\" y=\"-141.8\" font-family=\"Helvetica,sans-Serif\" font-size=\"14.00\">samples = 10</text>\n",
       "<text text-anchor=\"start\" x=\"842.5\" y=\"-126.8\" font-family=\"Helvetica,sans-Serif\" font-size=\"14.00\">value = [9, 1]</text>\n",
       "<text text-anchor=\"start\" x=\"829\" y=\"-111.8\" font-family=\"Helvetica,sans-Serif\" font-size=\"14.00\">class = malignant</text>\n",
       "</g>\n",
       "<!-- 13&#45;&gt;17 -->\n",
       "<g id=\"edge17\" class=\"edge\"><title>13&#45;&gt;17</title>\n",
       "<path fill=\"none\" stroke=\"black\" d=\"M783.389,-222.907C795.687,-213.379 808.89,-203.148 821.51,-193.37\"/>\n",
       "<polygon fill=\"black\" stroke=\"black\" points=\"823.943,-195.912 829.704,-187.021 819.655,-190.379 823.943,-195.912\"/>\n",
       "</g>\n",
       "<!-- 15 -->\n",
       "<g id=\"node16\" class=\"node\"><title>15</title>\n",
       "<path fill=\"#ea9a61\" stroke=\"black\" d=\"M668,-68C668,-68 570,-68 570,-68 564,-68 558,-62 558,-56 558,-56 558,-12 558,-12 558,-6 564,-0 570,-0 570,-0 668,-0 668,-0 674,-0 680,-6 680,-12 680,-12 680,-56 680,-56 680,-62 674,-68 668,-68\"/>\n",
       "<text text-anchor=\"start\" x=\"583.5\" y=\"-52.8\" font-family=\"Helvetica,sans-Serif\" font-size=\"14.00\">gini = 0.278</text>\n",
       "<text text-anchor=\"start\" x=\"581.5\" y=\"-37.8\" font-family=\"Helvetica,sans-Serif\" font-size=\"14.00\">samples = 6</text>\n",
       "<text text-anchor=\"start\" x=\"579.5\" y=\"-22.8\" font-family=\"Helvetica,sans-Serif\" font-size=\"14.00\">value = [5, 1]</text>\n",
       "<text text-anchor=\"start\" x=\"566\" y=\"-7.8\" font-family=\"Helvetica,sans-Serif\" font-size=\"14.00\">class = malignant</text>\n",
       "</g>\n",
       "<!-- 14&#45;&gt;15 -->\n",
       "<g id=\"edge15\" class=\"edge\"><title>14&#45;&gt;15</title>\n",
       "<path fill=\"none\" stroke=\"black\" d=\"M670.466,-103.726C663.773,-94.7878 656.68,-85.3168 649.97,-76.3558\"/>\n",
       "<polygon fill=\"black\" stroke=\"black\" points=\"652.732,-74.206 643.937,-68.2996 647.129,-78.402 652.732,-74.206\"/>\n",
       "</g>\n",
       "<!-- 16 -->\n",
       "<g id=\"node17\" class=\"node\"><title>16</title>\n",
       "<path fill=\"#81c1ee\" stroke=\"black\" d=\"M790,-68C790,-68 710,-68 710,-68 704,-68 698,-62 698,-56 698,-56 698,-12 698,-12 698,-6 704,-0 710,-0 710,-0 790,-0 790,-0 796,-0 802,-6 802,-12 802,-12 802,-56 802,-56 802,-62 796,-68 790,-68\"/>\n",
       "<text text-anchor=\"start\" x=\"714.5\" y=\"-52.8\" font-family=\"Helvetica,sans-Serif\" font-size=\"14.00\">gini = 0.391</text>\n",
       "<text text-anchor=\"start\" x=\"709\" y=\"-37.8\" font-family=\"Helvetica,sans-Serif\" font-size=\"14.00\">samples = 15</text>\n",
       "<text text-anchor=\"start\" x=\"707\" y=\"-22.8\" font-family=\"Helvetica,sans-Serif\" font-size=\"14.00\">value = [4, 11]</text>\n",
       "<text text-anchor=\"start\" x=\"706\" y=\"-7.8\" font-family=\"Helvetica,sans-Serif\" font-size=\"14.00\">class = benign</text>\n",
       "</g>\n",
       "<!-- 14&#45;&gt;16 -->\n",
       "<g id=\"edge16\" class=\"edge\"><title>14&#45;&gt;16</title>\n",
       "<path fill=\"none\" stroke=\"black\" d=\"M719.246,-103.726C723.082,-95.1527 727.138,-86.0891 731.002,-77.4555\"/>\n",
       "<polygon fill=\"black\" stroke=\"black\" points=\"734.209,-78.857 735.099,-68.2996 727.819,-75.9978 734.209,-78.857\"/>\n",
       "</g>\n",
       "<!-- 18 -->\n",
       "<g id=\"node19\" class=\"node\"><title>18</title>\n",
       "<path fill=\"#399de5\" stroke=\"black\" d=\"M917,-68C917,-68 837,-68 837,-68 831,-68 825,-62 825,-56 825,-56 825,-12 825,-12 825,-6 831,-0 837,-0 837,-0 917,-0 917,-0 923,-0 929,-6 929,-12 929,-12 929,-56 929,-56 929,-62 923,-68 917,-68\"/>\n",
       "<text text-anchor=\"start\" x=\"849\" y=\"-52.8\" font-family=\"Helvetica,sans-Serif\" font-size=\"14.00\">gini = 0.0</text>\n",
       "<text text-anchor=\"start\" x=\"839.5\" y=\"-37.8\" font-family=\"Helvetica,sans-Serif\" font-size=\"14.00\">samples = 1</text>\n",
       "<text text-anchor=\"start\" x=\"837.5\" y=\"-22.8\" font-family=\"Helvetica,sans-Serif\" font-size=\"14.00\">value = [0, 1]</text>\n",
       "<text text-anchor=\"start\" x=\"833\" y=\"-7.8\" font-family=\"Helvetica,sans-Serif\" font-size=\"14.00\">class = benign</text>\n",
       "</g>\n",
       "<!-- 17&#45;&gt;18 -->\n",
       "<g id=\"edge18\" class=\"edge\"><title>17&#45;&gt;18</title>\n",
       "<path fill=\"none\" stroke=\"black\" d=\"M880.138,-103.726C879.763,-95.5175 879.368,-86.8595 878.989,-78.56\"/>\n",
       "<polygon fill=\"black\" stroke=\"black\" points=\"882.473,-78.1295 878.521,-68.2996 875.48,-78.4489 882.473,-78.1295\"/>\n",
       "</g>\n",
       "<!-- 19 -->\n",
       "<g id=\"node20\" class=\"node\"><title>19</title>\n",
       "<path fill=\"#e58139\" stroke=\"black\" d=\"M1057,-68C1057,-68 959,-68 959,-68 953,-68 947,-62 947,-56 947,-56 947,-12 947,-12 947,-6 953,-0 959,-0 959,-0 1057,-0 1057,-0 1063,-0 1069,-6 1069,-12 1069,-12 1069,-56 1069,-56 1069,-62 1063,-68 1057,-68\"/>\n",
       "<text text-anchor=\"start\" x=\"980\" y=\"-52.8\" font-family=\"Helvetica,sans-Serif\" font-size=\"14.00\">gini = 0.0</text>\n",
       "<text text-anchor=\"start\" x=\"970.5\" y=\"-37.8\" font-family=\"Helvetica,sans-Serif\" font-size=\"14.00\">samples = 9</text>\n",
       "<text text-anchor=\"start\" x=\"968.5\" y=\"-22.8\" font-family=\"Helvetica,sans-Serif\" font-size=\"14.00\">value = [9, 0]</text>\n",
       "<text text-anchor=\"start\" x=\"955\" y=\"-7.8\" font-family=\"Helvetica,sans-Serif\" font-size=\"14.00\">class = malignant</text>\n",
       "</g>\n",
       "<!-- 17&#45;&gt;19 -->\n",
       "<g id=\"edge19\" class=\"edge\"><title>17&#45;&gt;19</title>\n",
       "<path fill=\"none\" stroke=\"black\" d=\"M928.918,-103.726C939.728,-94.3318 951.215,-84.349 961.986,-74.9883\"/>\n",
       "<polygon fill=\"black\" stroke=\"black\" points=\"964.43,-77.501 969.683,-68.2996 959.839,-72.2174 964.43,-77.501\"/>\n",
       "</g>\n",
       "<!-- 21 -->\n",
       "<g id=\"node22\" class=\"node\"><title>21</title>\n",
       "<path fill=\"#399de5\" stroke=\"black\" d=\"M1085,-179.5C1085,-179.5 1005,-179.5 1005,-179.5 999,-179.5 993,-173.5 993,-167.5 993,-167.5 993,-123.5 993,-123.5 993,-117.5 999,-111.5 1005,-111.5 1005,-111.5 1085,-111.5 1085,-111.5 1091,-111.5 1097,-117.5 1097,-123.5 1097,-123.5 1097,-167.5 1097,-167.5 1097,-173.5 1091,-179.5 1085,-179.5\"/>\n",
       "<text text-anchor=\"start\" x=\"1017\" y=\"-164.3\" font-family=\"Helvetica,sans-Serif\" font-size=\"14.00\">gini = 0.0</text>\n",
       "<text text-anchor=\"start\" x=\"1007.5\" y=\"-149.3\" font-family=\"Helvetica,sans-Serif\" font-size=\"14.00\">samples = 1</text>\n",
       "<text text-anchor=\"start\" x=\"1005.5\" y=\"-134.3\" font-family=\"Helvetica,sans-Serif\" font-size=\"14.00\">value = [0, 1]</text>\n",
       "<text text-anchor=\"start\" x=\"1001\" y=\"-119.3\" font-family=\"Helvetica,sans-Serif\" font-size=\"14.00\">class = benign</text>\n",
       "</g>\n",
       "<!-- 20&#45;&gt;21 -->\n",
       "<g id=\"edge21\" class=\"edge\"><title>20&#45;&gt;21</title>\n",
       "<path fill=\"none\" stroke=\"black\" d=\"M1045,-222.907C1045,-212.204 1045,-200.615 1045,-189.776\"/>\n",
       "<polygon fill=\"black\" stroke=\"black\" points=\"1048.5,-189.667 1045,-179.667 1041.5,-189.667 1048.5,-189.667\"/>\n",
       "</g>\n",
       "<!-- 22 -->\n",
       "<g id=\"node23\" class=\"node\"><title>22</title>\n",
       "<path fill=\"#e5823b\" stroke=\"black\" d=\"M1254.5,-187C1254.5,-187 1127.5,-187 1127.5,-187 1121.5,-187 1115.5,-181 1115.5,-175 1115.5,-175 1115.5,-116 1115.5,-116 1115.5,-110 1121.5,-104 1127.5,-104 1127.5,-104 1254.5,-104 1254.5,-104 1260.5,-104 1266.5,-110 1266.5,-116 1266.5,-116 1266.5,-175 1266.5,-175 1266.5,-181 1260.5,-187 1254.5,-187\"/>\n",
       "<text text-anchor=\"start\" x=\"1123.5\" y=\"-171.8\" font-family=\"Helvetica,sans-Serif\" font-size=\"14.00\">worst texture ≤ 20.585</text>\n",
       "<text text-anchor=\"start\" x=\"1155.5\" y=\"-156.8\" font-family=\"Helvetica,sans-Serif\" font-size=\"14.00\">gini = 0.016</text>\n",
       "<text text-anchor=\"start\" x=\"1146\" y=\"-141.8\" font-family=\"Helvetica,sans-Serif\" font-size=\"14.00\">samples = 124</text>\n",
       "<text text-anchor=\"start\" x=\"1144\" y=\"-126.8\" font-family=\"Helvetica,sans-Serif\" font-size=\"14.00\">value = [123, 1]</text>\n",
       "<text text-anchor=\"start\" x=\"1138\" y=\"-111.8\" font-family=\"Helvetica,sans-Serif\" font-size=\"14.00\">class = malignant</text>\n",
       "</g>\n",
       "<!-- 20&#45;&gt;22 -->\n",
       "<g id=\"edge22\" class=\"edge\"><title>20&#45;&gt;22</title>\n",
       "<path fill=\"none\" stroke=\"black\" d=\"M1095.65,-222.907C1107.54,-213.379 1120.31,-203.148 1132.51,-193.37\"/>\n",
       "<polygon fill=\"black\" stroke=\"black\" points=\"1134.82,-196.006 1140.44,-187.021 1130.44,-190.543 1134.82,-196.006\"/>\n",
       "</g>\n",
       "<!-- 23 -->\n",
       "<g id=\"node24\" class=\"node\"><title>23</title>\n",
       "<path fill=\"#eeab7b\" stroke=\"black\" d=\"M1218,-68C1218,-68 1120,-68 1120,-68 1114,-68 1108,-62 1108,-56 1108,-56 1108,-12 1108,-12 1108,-6 1114,-0 1120,-0 1120,-0 1218,-0 1218,-0 1224,-0 1230,-6 1230,-12 1230,-12 1230,-56 1230,-56 1230,-62 1224,-68 1218,-68\"/>\n",
       "<text text-anchor=\"start\" x=\"1133.5\" y=\"-52.8\" font-family=\"Helvetica,sans-Serif\" font-size=\"14.00\">gini = 0.375</text>\n",
       "<text text-anchor=\"start\" x=\"1131.5\" y=\"-37.8\" font-family=\"Helvetica,sans-Serif\" font-size=\"14.00\">samples = 4</text>\n",
       "<text text-anchor=\"start\" x=\"1129.5\" y=\"-22.8\" font-family=\"Helvetica,sans-Serif\" font-size=\"14.00\">value = [3, 1]</text>\n",
       "<text text-anchor=\"start\" x=\"1116\" y=\"-7.8\" font-family=\"Helvetica,sans-Serif\" font-size=\"14.00\">class = malignant</text>\n",
       "</g>\n",
       "<!-- 22&#45;&gt;23 -->\n",
       "<g id=\"edge23\" class=\"edge\"><title>22&#45;&gt;23</title>\n",
       "<path fill=\"none\" stroke=\"black\" d=\"M1182.81,-103.726C1181.14,-95.4263 1179.38,-86.6671 1177.7,-78.2834\"/>\n",
       "<polygon fill=\"black\" stroke=\"black\" points=\"1181.09,-77.4142 1175.69,-68.2996 1174.23,-78.7931 1181.09,-77.4142\"/>\n",
       "</g>\n",
       "<!-- 24 -->\n",
       "<g id=\"node25\" class=\"node\"><title>24</title>\n",
       "<path fill=\"#e58139\" stroke=\"black\" d=\"M1358,-68C1358,-68 1260,-68 1260,-68 1254,-68 1248,-62 1248,-56 1248,-56 1248,-12 1248,-12 1248,-6 1254,-0 1260,-0 1260,-0 1358,-0 1358,-0 1364,-0 1370,-6 1370,-12 1370,-12 1370,-56 1370,-56 1370,-62 1364,-68 1358,-68\"/>\n",
       "<text text-anchor=\"start\" x=\"1281\" y=\"-52.8\" font-family=\"Helvetica,sans-Serif\" font-size=\"14.00\">gini = 0.0</text>\n",
       "<text text-anchor=\"start\" x=\"1264\" y=\"-37.8\" font-family=\"Helvetica,sans-Serif\" font-size=\"14.00\">samples = 120</text>\n",
       "<text text-anchor=\"start\" x=\"1262\" y=\"-22.8\" font-family=\"Helvetica,sans-Serif\" font-size=\"14.00\">value = [120, 0]</text>\n",
       "<text text-anchor=\"start\" x=\"1256\" y=\"-7.8\" font-family=\"Helvetica,sans-Serif\" font-size=\"14.00\">class = malignant</text>\n",
       "</g>\n",
       "<!-- 22&#45;&gt;24 -->\n",
       "<g id=\"edge24\" class=\"edge\"><title>22&#45;&gt;24</title>\n",
       "<path fill=\"none\" stroke=\"black\" d=\"M1234.94,-103.726C1244.96,-94.423 1255.61,-84.5428 1265.61,-75.2612\"/>\n",
       "<polygon fill=\"black\" stroke=\"black\" points=\"1268.17,-77.6673 1273.12,-68.2996 1263.4,-72.5362 1268.17,-77.6673\"/>\n",
       "</g>\n",
       "</g>\n",
       "</svg>\n"
      ],
      "text/plain": [
       "<graphviz.files.Source at 0x7fa01615c1d0>"
      ]
     },
     "execution_count": 49,
     "metadata": {},
     "output_type": "execute_result"
    }
   ],
   "source": [
    "dot_data = export_graphviz(clf_grid.best_estimator_, out_file=None, \n",
    "                         feature_names=breast.feature_names,  \n",
    "                         class_names=breast.target_names,  \n",
    "                         filled=True, rounded=True,  \n",
    "                         special_characters=True)  \n",
    "graph = graphviz.Source(dot_data)  \n",
    "graph"
   ]
  },
  {
   "cell_type": "markdown",
   "metadata": {
    "colab_type": "text",
    "id": "ScvHV4yefNrz",
    "lang": "pl"
   },
   "source": [
    "**Krok 6:** Czas na zabawę! Spróbuj dopasować inne parametry i poprawić powyższy wynik."
   ]
  }
 ],
 "metadata": {
  "accelerator": "GPU",
  "colab": {
   "collapsed_sections": [],
   "name": "Classification_trees.ipynb",
   "provenance": [],
   "version": "0.3.2"
  },
  "kernelspec": {
   "display_name": "Python 3",
   "language": "python",
   "name": "python3"
  },
  "language_info": {
   "codemirror_mode": {
    "name": "ipython",
    "version": 3
   },
   "file_extension": ".py",
   "mimetype": "text/x-python",
   "name": "python",
   "nbconvert_exporter": "python",
   "pygments_lexer": "ipython3",
   "version": "3.7.4"
  },
  "latex_envs": {
   "LaTeX_envs_menu_present": true,
   "autoclose": false,
   "autocomplete": true,
   "bibliofile": "biblio.bib",
   "cite_by": "apalike",
   "current_citInitial": 1,
   "eqLabelWithNumbers": true,
   "eqNumInitial": 1,
   "hotkeys": {
    "equation": "Ctrl-E",
    "itemize": "Ctrl-I"
   },
   "labels_anchors": false,
   "latex_user_defs": false,
   "report_style_numbering": false,
   "user_envs_cfg": false
  },
  "nbTranslate": {
   "displayLangs": [
    "*"
   ],
   "hotkey": "alt-t",
   "langInMainMenu": true,
   "sourceLang": "pl",
   "targetLang": "en",
   "useGoogleTranslate": true
  }
 },
 "nbformat": 4,
 "nbformat_minor": 1
}
