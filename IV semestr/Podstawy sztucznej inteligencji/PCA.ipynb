{
 "cells": [
  {
   "cell_type": "markdown",
   "metadata": {},
   "source": [
    "# Podstawy Sztucznej Inteligencji 2020/2021\n"
   ]
  },
  {
   "cell_type": "markdown",
   "metadata": {},
   "source": [
    "Prosze uzupelnic kod tam gdzie znajduje napis `YOUR CODE HERE` lub 'YOUR ANSWER HERE'.\n",
    "\n",
    "Warto zresetowac 'kernel' i sprawdzic czy caly notatnik uruchamiany od poczatku nie daje bledow."
   ]
  },
  {
   "cell_type": "markdown",
   "metadata": {},
   "source": [
    "---"
   ]
  },
  {
   "cell_type": "markdown",
   "metadata": {
    "deletable": false,
    "editable": false,
    "lang": "pl",
    "nbgrader": {
     "cell_type": "markdown",
     "checksum": "b5f52269b46a1e5118ab799d4cb391ab",
     "grade": false,
     "grade_id": "cell-99d1a655ce596662",
     "locked": true,
     "schema_version": 3,
     "solution": false,
     "task": false
    }
   },
   "source": [
    "# Analiza głównych składowyn (PCA)"
   ]
  },
  {
   "cell_type": "code",
   "execution_count": 1,
   "metadata": {
    "deletable": false,
    "editable": false,
    "nbgrader": {
     "cell_type": "code",
     "checksum": "186733ef2017c87afbe73546573d0444",
     "grade": false,
     "grade_id": "cell-fbf5b2acf094e844",
     "locked": true,
     "schema_version": 3,
     "solution": false
    }
   },
   "outputs": [],
   "source": [
    "%matplotlib inline \n",
    "import numpy as np\n",
    "import matplotlib.pyplot as plt"
   ]
  },
  {
   "cell_type": "markdown",
   "metadata": {
    "deletable": false,
    "editable": false,
    "lang": "pl",
    "nbgrader": {
     "cell_type": "markdown",
     "checksum": "6e742dad174253121b7a0eae3cd851be",
     "grade": false,
     "grade_id": "cell-629ae932ee37074c",
     "locked": true,
     "schema_version": 3,
     "solution": false
    }
   },
   "source": [
    "Mamy zestaw danych będący 40 punktami na płaszczyźnie $(x_i,y_i).$"
   ]
  },
  {
   "cell_type": "code",
   "execution_count": 2,
   "metadata": {
    "deletable": false,
    "editable": false,
    "nbgrader": {
     "cell_type": "code",
     "checksum": "a63c82bafdca88afe49ddf685999b98f",
     "grade": false,
     "grade_id": "cell-6835d8a06ea52b92",
     "locked": true,
     "schema_version": 3,
     "solution": false
    }
   },
   "outputs": [
    {
     "name": "stdout",
     "output_type": "stream",
     "text": [
      "[[-0.90808838 -1.04597281]\n",
      " [-0.63930401 -0.85900663]\n",
      " [-0.97384352 -0.91573135]\n",
      " [-0.74723503 -0.74330901]\n",
      " [-0.99058903 -1.24518619]\n",
      " [-0.85453977 -0.67111188]\n",
      " [-0.62012528 -0.62224413]\n",
      " [-0.60565796 -0.9321748 ]\n",
      " [-0.50895355 -0.47761613]\n",
      " [-0.65030898 -0.51404501]\n",
      " [-0.54653435 -0.55284267]\n",
      " [-0.45532911 -0.93885596]\n",
      " [-0.33336579 -0.40126841]\n",
      " [-0.40147363 -0.31513206]\n",
      " [-0.30524248 -0.63412907]\n",
      " [-0.18490565 -0.41257569]\n",
      " [-0.35069729 -0.61545577]\n",
      " [-0.21992348 -0.2043814 ]\n",
      " [ 0.07344963 -0.16945026]\n",
      " [ 0.01121148  0.16164246]\n",
      " [ 0.24865484  0.19641624]\n",
      " [ 0.03857313 -0.22985183]\n",
      " [ 0.06538648  0.0095542 ]\n",
      " [ 0.25357389  0.23619952]\n",
      " [ 0.11875643 -0.10565125]\n",
      " [ 0.44094424  0.33080518]\n",
      " [ 0.33197322  0.33230715]\n",
      " [ 0.39943655  0.28523346]\n",
      " [ 0.49987832  0.49555326]\n",
      " [ 0.38396123  0.20462551]\n",
      " [ 0.58794075  0.68241159]\n",
      " [ 0.67926349  0.96620749]\n",
      " [ 0.55775793  0.88679963]\n",
      " [ 0.64118658  0.50078932]\n",
      " [ 0.70665716  0.52362636]\n",
      " [ 0.69192082  0.97653887]\n",
      " [ 0.81844514  1.26270707]\n",
      " [ 0.88822559  1.02019997]\n",
      " [ 0.7171036   0.78660231]\n",
      " [ 0.95347554  0.9867731 ]]\n"
     ]
    }
   ],
   "source": [
    "X = np.empty((40,2))\n",
    "X[:,0] = np.linspace(-1,1,40)+ np.random.randn(40)*0.1\n",
    "X[:,1] = 1.1*X[:,0] + np.random.randn(40)*0.2\n",
    "print(X)"
   ]
  },
  {
   "cell_type": "markdown",
   "metadata": {
    "lang": "pl"
   },
   "source": [
    "## Wstęp\n"
   ]
  },
  {
   "cell_type": "markdown",
   "metadata": {
    "deletable": false,
    "editable": false,
    "lang": "pl",
    "nbgrader": {
     "cell_type": "markdown",
     "checksum": "b2a1c15e5e9554e7723ab6746333d8e1",
     "grade": false,
     "grade_id": "cell-0f4b9ea8240fbdab",
     "locked": true,
     "schema_version": 3,
     "solution": false
    }
   },
   "source": [
    "### Macierz kowariancji\n",
    "\n",
    "  $$ C_{ij} = \\frac{1}{N-1}\\sum_{k=1}^N{ X_{ki} X_{kj}}$$"
   ]
  },
  {
   "cell_type": "markdown",
   "metadata": {
    "deletable": false,
    "editable": false,
    "lang": "pl",
    "nbgrader": {
     "cell_type": "markdown",
     "checksum": "06c951ad870b20a599e6425bc895ac43",
     "grade": false,
     "grade_id": "cell-2e9ee249502cbdf6",
     "locked": true,
     "schema_version": 3,
     "solution": false
    }
   },
   "source": [
    "###  Oblicz macierz kowariancji z danych zawartych w  `X` korzystając z funkcji `np.cov`."
   ]
  },
  {
   "cell_type": "code",
   "execution_count": 3,
   "metadata": {
    "deletable": false,
    "nbgrader": {
     "cell_type": "code",
     "checksum": "60a5fbe33aa2097b017989cdcbf2f8c4",
     "grade": false,
     "grade_id": "cell-add35ffd7ec859cc",
     "locked": false,
     "schema_version": 3,
     "solution": true
    }
   },
   "outputs": [],
   "source": [
    "# YOUR CODE HERE\n",
    "# raise NotImplementedError()\n",
    "C = np.cov(X.T)"
   ]
  },
  {
   "cell_type": "code",
   "execution_count": 4,
   "metadata": {
    "deletable": false,
    "editable": false,
    "nbgrader": {
     "cell_type": "code",
     "checksum": "de625b2a4cd03994eedb7afc22ab4caf",
     "grade": true,
     "grade_id": "cell-63d94d686cd4a6e9",
     "locked": true,
     "points": 1,
     "schema_version": 3,
     "solution": false
    }
   },
   "outputs": [],
   "source": [
    "assert C.shape == (2,2)\n"
   ]
  },
  {
   "cell_type": "markdown",
   "metadata": {
    "deletable": false,
    "editable": false,
    "lang": "pl",
    "nbgrader": {
     "cell_type": "markdown",
     "checksum": "34a7d4fca8252b432923c5052fbe3d68",
     "grade": false,
     "grade_id": "cell-2c7cc935dbe5805f",
     "locked": true,
     "schema_version": 3,
     "solution": false
    }
   },
   "source": [
    "###  Oblicz macierz kowariancji z danych zawartych w  `X` korzystając z funkcji `np.mean` `np.sum`"
   ]
  },
  {
   "cell_type": "code",
   "execution_count": 5,
   "metadata": {
    "deletable": false,
    "nbgrader": {
     "cell_type": "code",
     "checksum": "62668f74ad90529d867e5720f147b067",
     "grade": false,
     "grade_id": "cell-5572e79c5905082c",
     "locked": false,
     "schema_version": 3,
     "solution": true
    }
   },
   "outputs": [],
   "source": [
    "def kowariancja(X):\n",
    "    m = np.mean(X,axis=0)\n",
    "    C = 1/(X.shape[0]-1)*np.dot( (X-m).T,X-m)\n",
    "    return C"
   ]
  },
  {
   "cell_type": "code",
   "execution_count": 6,
   "metadata": {
    "deletable": false,
    "editable": false,
    "nbgrader": {
     "cell_type": "code",
     "checksum": "31aaefd90c597104ecdb13fecab9525e",
     "grade": true,
     "grade_id": "cell-eed226ef2ec8cc51",
     "locked": true,
     "points": 2,
     "schema_version": 3,
     "solution": false
    }
   },
   "outputs": [],
   "source": [
    "np.testing.assert_almost_equal(kowariancja(X), np.cov(X.T))\n",
    "\n",
    "import inspect\n",
    "blacklist = [\"cov\",\"corrcoef\"]\n",
    "assert all([ not keyword  in inspect.getsource(kowariancja) for keyword in blacklist])"
   ]
  },
  {
   "cell_type": "markdown",
   "metadata": {
    "deletable": false,
    "editable": false,
    "lang": "pl",
    "nbgrader": {
     "cell_type": "markdown",
     "checksum": "67f471be078f3da1cc70fdc0d216cd94",
     "grade": false,
     "grade_id": "cell-0fd687b0881e8201",
     "locked": true,
     "schema_version": 3,
     "solution": false
    }
   },
   "source": [
    "### Wartości i wektory własne\n",
    "\n",
    "Narysujmy dane\n"
   ]
  },
  {
   "cell_type": "code",
   "execution_count": 7,
   "metadata": {},
   "outputs": [
    {
     "data": {
      "text/plain": [
       "<matplotlib.collections.PathCollection at 0x7fbe4c05a390>"
      ]
     },
     "execution_count": 7,
     "metadata": {},
     "output_type": "execute_result"
    },
    {
     "data": {
      "image/png": "[encoded data removed]",
      "text/plain": [
       "<Figure size 432x288 with 1 Axes>"
      ]
     },
     "metadata": {
      "needs_background": "light"
     },
     "output_type": "display_data"
    }
   ],
   "source": [
    "plt.figure()\n",
    "plt.axes().set_aspect('equal', 'datalim')\n",
    "plt.scatter(X[:,0],X[:,1])"
   ]
  },
  {
   "cell_type": "markdown",
   "metadata": {
    "deletable": false,
    "editable": false,
    "lang": "pl",
    "nbgrader": {
     "cell_type": "markdown",
     "checksum": "a72ae8cb6c6e2c72203c0df271a4ed46",
     "grade": false,
     "grade_id": "cell-114affa9a91b5409",
     "locked": true,
     "schema_version": 3,
     "solution": false
    }
   },
   "source": [
    "### Zagadnienie własne\n",
    "\n",
    "Szukamy takich liczb $\\lambda_i$ i wektorów $x_i$ by zachodziło:\n",
    "$$ C x_i = \\lambda_i x_i $$\n",
    "\n",
    "\n",
    "W numpy mamy gotową funkcję obliczającą liczby $\\lambda_i$ i wektory $x_i$:"
   ]
  },
  {
   "cell_type": "code",
   "execution_count": 8,
   "metadata": {
    "deletable": false,
    "editable": false,
    "nbgrader": {
     "cell_type": "code",
     "checksum": "15066344a69bf8b0682cd1c7194e35dc",
     "grade": false,
     "grade_id": "cell-547f58594c7c6174",
     "locked": true,
     "schema_version": 3,
     "solution": false
    }
   },
   "outputs": [],
   "source": [
    "val, ev =  np.linalg.eig(C)"
   ]
  },
  {
   "cell_type": "markdown",
   "metadata": {
    "deletable": false,
    "editable": false,
    "lang": "pl",
    "nbgrader": {
     "cell_type": "markdown",
     "checksum": "cd263f65580b37f6d0f9da8c8b585c59",
     "grade": false,
     "grade_id": "cell-eefdbf4462a10001",
     "locked": true,
     "schema_version": 3,
     "solution": false
    }
   },
   "source": [
    "\n",
    "### Sprawdźmy rachunkiem równanie własne:\n",
    "\n",
    "Niech `lam` będzie wartością własną a `vec` wektorem:"
   ]
  },
  {
   "cell_type": "code",
   "execution_count": 9,
   "metadata": {
    "deletable": false,
    "nbgrader": {
     "cell_type": "code",
     "checksum": "ef90b1e655f0395fe4cb2f2bdcee09bb",
     "grade": false,
     "grade_id": "cell-bbf5d951c0e331ef",
     "locked": false,
     "schema_version": 3,
     "solution": true
    }
   },
   "outputs": [],
   "source": [
    "lam = None\n",
    "vec = None\n",
    "\n",
    "# YOUR CODE HERE\n",
    "# raise NotImplementedError()\n",
    "lam = val[1]\n",
    "vec = ev[:,1]"
   ]
  },
  {
   "cell_type": "markdown",
   "metadata": {
    "deletable": false,
    "editable": false,
    "lang": "pl",
    "nbgrader": {
     "cell_type": "markdown",
     "checksum": "b55c099e62f48fe691159493f1e80efa",
     "grade": false,
     "grade_id": "cell-ac3dadf288acae1e",
     "locked": true,
     "schema_version": 3,
     "solution": false
    }
   },
   "source": [
    "To zachodzi:\n",
    "    \n",
    "`np.dot(C,vec) == lam*vec`"
   ]
  },
  {
   "cell_type": "code",
   "execution_count": 10,
   "metadata": {
    "deletable": false,
    "editable": false,
    "nbgrader": {
     "cell_type": "code",
     "checksum": "e08cfda6b2f3187fbe1f575c4854168d",
     "grade": true,
     "grade_id": "cell-081658f3d63fef34",
     "locked": true,
     "points": 1,
     "schema_version": 3,
     "solution": false
    }
   },
   "outputs": [],
   "source": [
    "np.testing.assert_allclose(np.dot(C,vec), lam*vec)\n",
    "assert abs(lam)>1e-6"
   ]
  },
  {
   "cell_type": "markdown",
   "metadata": {
    "deletable": false,
    "editable": false,
    "lang": "pl",
    "nbgrader": {
     "cell_type": "markdown",
     "checksum": "7ddb4fd680701a78784da07e7d1dbefb",
     "grade": false,
     "grade_id": "cell-eaa57c6ef6ea94c0",
     "locked": true,
     "schema_version": 3,
     "solution": false
    }
   },
   "source": [
    "Dodajmy na rysunku wektory własne:"
   ]
  },
  {
   "cell_type": "code",
   "execution_count": 11,
   "metadata": {
    "deletable": false,
    "editable": false,
    "nbgrader": {
     "cell_type": "code",
     "checksum": "b3ea6dd94c0bf57bdfeecdbcc3458bd9",
     "grade": false,
     "grade_id": "cell-a338212765615b63",
     "locked": true,
     "schema_version": 3,
     "solution": false
    }
   },
   "outputs": [
    {
     "data": {
      "text/plain": [
       "<matplotlib.patches.FancyArrow at 0x7fbe4ae51ed0>"
      ]
     },
     "execution_count": 11,
     "metadata": {},
     "output_type": "execute_result"
    },
    {
     "data": {
      "image/png": "[encoded data removed]",
      "text/plain": [
       "<Figure size 432x288 with 1 Axes>"
      ]
     },
     "metadata": {
      "needs_background": "light"
     },
     "output_type": "display_data"
    }
   ],
   "source": [
    "plt.figure()\n",
    "plt.axes().set_aspect('equal', 'datalim')\n",
    "plt.scatter(X[:,0],X[:,1])\n",
    "\n",
    "plt.arrow(0,0,ev[0,0],ev[1,0],color='r')\n",
    "plt.arrow(0,0,ev[0,1],ev[1,1],color='b')"
   ]
  },
  {
   "cell_type": "markdown",
   "metadata": {
    "deletable": false,
    "editable": false,
    "lang": "pl",
    "nbgrader": {
     "cell_type": "markdown",
     "checksum": "7824a4585ae0254116068410e38c06c1",
     "grade": false,
     "grade_id": "cell-91c194fb81fe34aa",
     "locked": true,
     "schema_version": 3,
     "solution": false
    }
   },
   "source": [
    "Sprawdźmy jeszcze,  że wektory własne odpowiadające różnym wartościom własnym są ortogonalne.\n",
    "    \n",
    "    "
   ]
  },
  {
   "cell_type": "code",
   "execution_count": 12,
   "metadata": {
    "deletable": false,
    "editable": false,
    "nbgrader": {
     "cell_type": "code",
     "checksum": "974e3a6bca351ba437c150d067c3f1d1",
     "grade": false,
     "grade_id": "cell-2f54b31f1c0932e4",
     "locked": true,
     "schema_version": 3,
     "solution": false
    }
   },
   "outputs": [],
   "source": [
    "np.testing.assert_approx_equal( np.dot(ev[:,0],ev[:,0]), 1)\n",
    "np.testing.assert_approx_equal( np.dot(ev[:,0],ev[:,1]), 0)"
   ]
  },
  {
   "cell_type": "markdown",
   "metadata": {
    "deletable": false,
    "editable": false,
    "lang": "pl",
    "nbgrader": {
     "cell_type": "markdown",
     "checksum": "af21a94c84940e8f0b33447bc9e6331c",
     "grade": false,
     "grade_id": "cell-c38cc5c54b3b68f0",
     "locked": true,
     "schema_version": 3,
     "solution": false
    }
   },
   "source": [
    "## Implementacja PCA krok po kroku\n",
    "\n",
    "Wykonamy redukcję PCA 13 wymiarowego  zestawu do przestrzeni 3d\n",
    "\n",
    "\n",
    "Referencyjną implementacją będzie `sklearn.decomposition.PCA`.\n",
    "\n",
    "Niech:\n",
    "\n",
    "  - `Xorig`  - dane orginalne (przed PCA)\n",
    "  - `X` - dane w zredukowanej przestrzeni\n",
    "\n",
    "Zaimplementujemy taką samą operację konstruując operator rzutowania z 13 do 3 wymiarów z trzech wektorów własnych macierzy kowariancji. Wektory wybierzemy kierując się tym by odpowiadały one największym wartościom własnym.\n",
    "\n"
   ]
  },
  {
   "cell_type": "code",
   "execution_count": 13,
   "metadata": {
    "deletable": false,
    "editable": false,
    "nbgrader": {
     "cell_type": "code",
     "checksum": "56d81b8f37c5bc55575907779d8904f3",
     "grade": false,
     "grade_id": "cell-a843a816f66e18fa",
     "locked": true,
     "schema_version": 3,
     "solution": false
    }
   },
   "outputs": [],
   "source": [
    "from sklearn import decomposition\n",
    "from sklearn import datasets\n",
    "from sklearn.preprocessing import StandardScaler\n",
    "\n",
    "X,y  = datasets.load_wine(return_X_y=True)\n",
    "scaler = StandardScaler()\n",
    "scaler.fit(X)\n",
    "X = scaler.transform(X)\n",
    "\n",
    "pca = decomposition.PCA(n_components=3)\n",
    "pca.fit(X)\n",
    "\n",
    "Xorig = X.copy()\n",
    "X = pca.transform(X)"
   ]
  },
  {
   "cell_type": "code",
   "execution_count": 14,
   "metadata": {},
   "outputs": [
    {
     "data": {
      "text/plain": [
       "((178, 13), '->', (178, 3))"
      ]
     },
     "execution_count": 14,
     "metadata": {},
     "output_type": "execute_result"
    }
   ],
   "source": [
    "Xorig.shape,\"->\", X.shape"
   ]
  },
  {
   "cell_type": "markdown",
   "metadata": {
    "deletable": false,
    "editable": false,
    "lang": "pl",
    "nbgrader": {
     "cell_type": "markdown",
     "checksum": "26c4dd97ce01b5c8de8f014eaeac3373",
     "grade": false,
     "grade_id": "cell-4c018530abfe79f3",
     "locked": true,
     "schema_version": 3,
     "solution": false
    }
   },
   "source": [
    "### Krok 1: oblicz macierz kowariancji"
   ]
  },
  {
   "cell_type": "code",
   "execution_count": 15,
   "metadata": {
    "deletable": false,
    "nbgrader": {
     "cell_type": "code",
     "checksum": "f73eb8674b6bcb8c9f4e1bea165aa63f",
     "grade": false,
     "grade_id": "cell-723f1c3f1b126c56",
     "locked": false,
     "schema_version": 3,
     "solution": true
    }
   },
   "outputs": [],
   "source": [
    "C = None\n",
    "# YOUR CODE HERE\n",
    "# raise NotImplementedError()\n",
    "C = np.cov(Xorig.T)"
   ]
  },
  {
   "cell_type": "code",
   "execution_count": 16,
   "metadata": {
    "deletable": false,
    "editable": false,
    "nbgrader": {
     "cell_type": "code",
     "checksum": "372aa4ed17faa96269bd34c72574cbee",
     "grade": true,
     "grade_id": "cell-75b1778047492040",
     "locked": true,
     "points": 1,
     "schema_version": 3,
     "solution": false
    }
   },
   "outputs": [],
   "source": [
    "np.testing.assert_approx_equal(C[11,2],0.0039333279)\n",
    "np.testing.assert_almost_equal(C,np.cov(Xorig.T))"
   ]
  },
  {
   "cell_type": "markdown",
   "metadata": {
    "deletable": false,
    "editable": false,
    "lang": "pl",
    "nbgrader": {
     "cell_type": "markdown",
     "checksum": "df3d4e98cbb22a87ea5e8a2a9a62966b",
     "grade": false,
     "grade_id": "cell-e113423af3a1f1dd",
     "locked": true,
     "schema_version": 3,
     "solution": false
    }
   },
   "source": [
    "### Krok 2:  Wektory i wartości własne macierzy kowariancji. \n",
    "\n",
    "Rozwiązujemy numerycznie zagadnienie własne macierzy $C$:"
   ]
  },
  {
   "cell_type": "code",
   "execution_count": 17,
   "metadata": {
    "deletable": false,
    "editable": false,
    "nbgrader": {
     "cell_type": "code",
     "checksum": "32f1fe7cc66799400a29473ce71d1212",
     "grade": false,
     "grade_id": "cell-75f533b0fe2a0c44",
     "locked": true,
     "schema_version": 3,
     "solution": false
    }
   },
   "outputs": [],
   "source": [
    "val, ev =  np.linalg.eig(C)"
   ]
  },
  {
   "cell_type": "markdown",
   "metadata": {
    "deletable": false,
    "editable": false,
    "lang": "pl",
    "nbgrader": {
     "cell_type": "markdown",
     "checksum": "b5a743aebbb029778e4cf3549246bc7e",
     "grade": false,
     "grade_id": "cell-487618b654281922",
     "locked": true,
     "schema_version": 3,
     "solution": false
    }
   },
   "source": [
    "**Posortuj** wartości i odpowiadające im wektory własne od największej do najmniejszej wartości własnej.\n",
    "\n",
    "*warto rozważyć zastosowanie* `np.argsort`."
   ]
  },
  {
   "cell_type": "code",
   "execution_count": 20,
   "metadata": {
    "deletable": false,
    "nbgrader": {
     "cell_type": "code",
     "checksum": "4f7c37cec77228907460e28b8a33a869",
     "grade": false,
     "grade_id": "cell-ea0789ef1b113d84",
     "locked": false,
     "schema_version": 3,
     "solution": true
    }
   },
   "outputs": [],
   "source": [
    "# YOUR CODE HERE\n",
    "# raise NotImplementedError()\n",
    "val, ev =  np.linalg.eig(C)"
   ]
  },
  {
   "cell_type": "markdown",
   "metadata": {
    "deletable": false,
    "editable": false,
    "nbgrader": {
     "cell_type": "markdown",
     "checksum": "df4f91dbaf89aa3a60107b800dd4dd53",
     "grade": false,
     "grade_id": "cell-1341079979987ed2",
     "locked": true,
     "schema_version": 3,
     "solution": false
    }
   },
   "source": [
    "Pierwsze trzy wartości własne powinny być takie same jak liczby w atrybucie `pca.explained_variance_`"
   ]
  },
  {
   "cell_type": "code",
   "execution_count": 21,
   "metadata": {
    "deletable": false,
    "editable": false,
    "nbgrader": {
     "cell_type": "code",
     "checksum": "5429681e7bf36816f0de204cb743f46a",
     "grade": true,
     "grade_id": "cell-5db6db8003368745",
     "locked": true,
     "points": 1,
     "schema_version": 3,
     "solution": false
    }
   },
   "outputs": [
    {
     "ename": "AssertionError",
     "evalue": "\nNot equal to tolerance rtol=1e-05, atol=0\n\nMismatch: 100%\nMax absolute difference: 0.14835802\nMax relative difference: 1.42704094\n x: array(0.25232)\n y: array(0.103962)",
     "output_type": "error",
     "traceback": [
      "\u001b[0;31m---------------------------------------------------------------------------\u001b[0m",
      "\u001b[0;31mAssertionError\u001b[0m                            Traceback (most recent call last)",
      "\u001b[0;32m<ipython-input-21-57b5585fd07c>\u001b[0m in \u001b[0;36m<module>\u001b[0;34m\u001b[0m\n\u001b[0;32m----> 1\u001b[0;31m \u001b[0mnp\u001b[0m\u001b[0;34m.\u001b[0m\u001b[0mtesting\u001b[0m\u001b[0;34m.\u001b[0m\u001b[0massert_allclose\u001b[0m\u001b[0;34m(\u001b[0m\u001b[0mval\u001b[0m\u001b[0;34m[\u001b[0m\u001b[0;34m-\u001b[0m\u001b[0;36m1\u001b[0m\u001b[0;34m]\u001b[0m\u001b[0;34m,\u001b[0m\u001b[0;36m0.1039619918207\u001b[0m\u001b[0;34m,\u001b[0m \u001b[0mrtol\u001b[0m\u001b[0;34m=\u001b[0m\u001b[0;36m1e-5\u001b[0m\u001b[0;34m)\u001b[0m\u001b[0;34m\u001b[0m\u001b[0;34m\u001b[0m\u001b[0m\n\u001b[0m\u001b[1;32m      2\u001b[0m \u001b[0mnp\u001b[0m\u001b[0;34m.\u001b[0m\u001b[0mtesting\u001b[0m\u001b[0;34m.\u001b[0m\u001b[0massert_allclose\u001b[0m\u001b[0;34m(\u001b[0m\u001b[0mpca\u001b[0m\u001b[0;34m.\u001b[0m\u001b[0mexplained_variance_\u001b[0m\u001b[0;34m,\u001b[0m \u001b[0mval\u001b[0m\u001b[0;34m[\u001b[0m\u001b[0;34m:\u001b[0m\u001b[0;36m3\u001b[0m\u001b[0;34m]\u001b[0m\u001b[0;34m,\u001b[0m \u001b[0mrtol\u001b[0m\u001b[0;34m=\u001b[0m\u001b[0;36m1e-5\u001b[0m\u001b[0;34m)\u001b[0m\u001b[0;34m\u001b[0m\u001b[0;34m\u001b[0m\u001b[0m\n",
      "\u001b[0;32m/opt/conda/lib/python3.7/site-packages/numpy/testing/_private/utils.py\u001b[0m in \u001b[0;36massert_allclose\u001b[0;34m(actual, desired, rtol, atol, equal_nan, err_msg, verbose)\u001b[0m\n\u001b[1;32m   1513\u001b[0m     \u001b[0mheader\u001b[0m \u001b[0;34m=\u001b[0m \u001b[0;34m'Not equal to tolerance rtol=%g, atol=%g'\u001b[0m \u001b[0;34m%\u001b[0m \u001b[0;34m(\u001b[0m\u001b[0mrtol\u001b[0m\u001b[0;34m,\u001b[0m \u001b[0matol\u001b[0m\u001b[0;34m)\u001b[0m\u001b[0;34m\u001b[0m\u001b[0;34m\u001b[0m\u001b[0m\n\u001b[1;32m   1514\u001b[0m     assert_array_compare(compare, actual, desired, err_msg=str(err_msg),\n\u001b[0;32m-> 1515\u001b[0;31m                          verbose=verbose, header=header, equal_nan=equal_nan)\n\u001b[0m\u001b[1;32m   1516\u001b[0m \u001b[0;34m\u001b[0m\u001b[0m\n\u001b[1;32m   1517\u001b[0m \u001b[0;34m\u001b[0m\u001b[0m\n",
      "\u001b[0;32m/opt/conda/lib/python3.7/site-packages/numpy/testing/_private/utils.py\u001b[0m in \u001b[0;36massert_array_compare\u001b[0;34m(comparison, x, y, err_msg, verbose, header, precision, equal_nan, equal_inf)\u001b[0m\n\u001b[1;32m    839\u001b[0m                                 \u001b[0mverbose\u001b[0m\u001b[0;34m=\u001b[0m\u001b[0mverbose\u001b[0m\u001b[0;34m,\u001b[0m \u001b[0mheader\u001b[0m\u001b[0;34m=\u001b[0m\u001b[0mheader\u001b[0m\u001b[0;34m,\u001b[0m\u001b[0;34m\u001b[0m\u001b[0;34m\u001b[0m\u001b[0m\n\u001b[1;32m    840\u001b[0m                                 names=('x', 'y'), precision=precision)\n\u001b[0;32m--> 841\u001b[0;31m             \u001b[0;32mraise\u001b[0m \u001b[0mAssertionError\u001b[0m\u001b[0;34m(\u001b[0m\u001b[0mmsg\u001b[0m\u001b[0;34m)\u001b[0m\u001b[0;34m\u001b[0m\u001b[0;34m\u001b[0m\u001b[0m\n\u001b[0m\u001b[1;32m    842\u001b[0m     \u001b[0;32mexcept\u001b[0m \u001b[0mValueError\u001b[0m\u001b[0;34m:\u001b[0m\u001b[0;34m\u001b[0m\u001b[0;34m\u001b[0m\u001b[0m\n\u001b[1;32m    843\u001b[0m         \u001b[0;32mimport\u001b[0m \u001b[0mtraceback\u001b[0m\u001b[0;34m\u001b[0m\u001b[0;34m\u001b[0m\u001b[0m\n",
      "\u001b[0;31mAssertionError\u001b[0m: \nNot equal to tolerance rtol=1e-05, atol=0\n\nMismatch: 100%\nMax absolute difference: 0.14835802\nMax relative difference: 1.42704094\n x: array(0.25232)\n y: array(0.103962)"
     ]
    }
   ],
   "source": [
    "np.testing.assert_allclose(val[-1],0.1039619918207, rtol=1e-5)\n",
    "np.testing.assert_allclose(pca.explained_variance_, val[:3], rtol=1e-5)"
   ]
  },
  {
   "cell_type": "markdown",
   "metadata": {
    "deletable": false,
    "editable": false,
    "lang": "pl",
    "nbgrader": {
     "cell_type": "markdown",
     "checksum": "d95b8899e61dd0508c3e77ef63bec6e1",
     "grade": false,
     "grade_id": "cell-6159cdea4defeed4",
     "locked": true,
     "schema_version": 3,
     "solution": false
    }
   },
   "source": [
    "### Krok 3: Stwórz macierz operatora rzutowania z przestrzeni 13d w  3d\n",
    "\n",
    "Mając jeden znormalizowany wektor własny (13 liczb), iloczyn skalarny tego wektora przez dowolny inny wektor tej samej przestrzeni (13d) można zinterpretować jako rzutowanie. Chcemy rzutować na pierwsze trzy wektory własne - można więc przedstawić to jako operację liniową z macierzą $(13,3)$\n",
    "\n",
    "\n",
    "Macierz taka składa się z trzech 13 elementowych kolumn, będących wartościami własnymi macierzy kowariancji."
   ]
  },
  {
   "cell_type": "code",
   "execution_count": null,
   "metadata": {
    "deletable": false,
    "nbgrader": {
     "cell_type": "code",
     "checksum": "3cf898139abd6f58af1ed42a27a210d2",
     "grade": false,
     "grade_id": "cell-8c31bc7da5ea62f0",
     "locked": false,
     "schema_version": 3,
     "solution": true
    }
   },
   "outputs": [],
   "source": [
    "P = None \n",
    "# YOUR CODE HERE\n",
    "# raise NotImplementedError()\n",
    "P = ev[:,:3]"
   ]
  },
  {
   "cell_type": "code",
   "execution_count": null,
   "metadata": {},
   "outputs": [],
   "source": [
    "P.shape"
   ]
  },
  {
   "cell_type": "markdown",
   "metadata": {
    "deletable": false,
    "editable": false,
    "lang": "pl",
    "nbgrader": {
     "cell_type": "markdown",
     "checksum": "388ccefbaa86647c3439e4dee2c56a74",
     "grade": false,
     "grade_id": "cell-66cfb3f3d5dbeaac",
     "locked": true,
     "schema_version": 3,
     "solution": false
    }
   },
   "source": [
    "W sklearn mamy taką macierz w atrybucie `pca.components_`:"
   ]
  },
  {
   "cell_type": "code",
   "execution_count": null,
   "metadata": {},
   "outputs": [],
   "source": [
    "pca.components_"
   ]
  },
  {
   "cell_type": "markdown",
   "metadata": {
    "deletable": false,
    "editable": false,
    "lang": "pl",
    "nbgrader": {
     "cell_type": "markdown",
     "checksum": "4a762924168bd673f0fc362c5284dbe4",
     "grade": false,
     "grade_id": "cell-60072e2505cd8a72",
     "locked": true,
     "schema_version": 3,
     "solution": false
    }
   },
   "source": [
    "Sprawdźmy czy otrzymamy te same wyniki:"
   ]
  },
  {
   "cell_type": "code",
   "execution_count": null,
   "metadata": {
    "deletable": false,
    "editable": false,
    "nbgrader": {
     "cell_type": "code",
     "checksum": "ea26def37f236d26080e6b8443ab7c70",
     "grade": true,
     "grade_id": "cell-d752cd81fb2aa292",
     "locked": true,
     "points": 1,
     "schema_version": 3,
     "solution": false
    }
   },
   "outputs": [],
   "source": [
    "np.testing.assert_almost_equal(np.abs(P.T),np.abs(pca.components_))"
   ]
  },
  {
   "cell_type": "markdown",
   "metadata": {
    "deletable": false,
    "editable": false,
    "lang": "pl",
    "nbgrader": {
     "cell_type": "markdown",
     "checksum": "6ea08b3fc26820e2e9e8b0fbb8718851",
     "grade": false,
     "grade_id": "cell-3db805b5ebdcd2b1",
     "locked": true,
     "schema_version": 3,
     "solution": false
    }
   },
   "source": [
    "### Krok 4: Wykonaj rzutowanie wszytkich  danych z 13d do 3d.\n",
    "\n",
    "Najpierw dla sprawdzenia wykonamy rzutowanie jeden punkt z 13d do 3d (np. z indeksem  12)"
   ]
  },
  {
   "cell_type": "code",
   "execution_count": null,
   "metadata": {},
   "outputs": [],
   "source": [
    "print(Xorig[12])"
   ]
  },
  {
   "cell_type": "code",
   "execution_count": null,
   "metadata": {
    "deletable": false,
    "nbgrader": {
     "cell_type": "code",
     "checksum": "e22e62456012f6dba326a381d3829fb2",
     "grade": false,
     "grade_id": "cell-e8f95478dfb4213c",
     "locked": false,
     "schema_version": 3,
     "solution": true
    }
   },
   "outputs": [],
   "source": [
    "x12 = None \n",
    "\n",
    "# YOUR CODE HERE\n",
    "# raise NotImplementedError()\n",
    "x12 = np.dot(Xorig[12],P)"
   ]
  },
  {
   "cell_type": "code",
   "execution_count": null,
   "metadata": {},
   "outputs": [],
   "source": [
    "print(x12)"
   ]
  },
  {
   "cell_type": "code",
   "execution_count": null,
   "metadata": {
    "deletable": false,
    "editable": false,
    "nbgrader": {
     "cell_type": "code",
     "checksum": "3957e7c3033200d42433c90c3a85a293",
     "grade": true,
     "grade_id": "cell-43724c753f69bb6e",
     "locked": true,
     "points": 1,
     "schema_version": 3,
     "solution": false
    }
   },
   "outputs": [],
   "source": [
    "x12.shape = (3,)\n",
    "np.testing.assert_almost_equal(np.abs(x12), np.abs([-2.11346234,  0.67570634, -0.86508643]))"
   ]
  },
  {
   "cell_type": "markdown",
   "metadata": {
    "deletable": false,
    "editable": false,
    "lang": "pl",
    "nbgrader": {
     "cell_type": "markdown",
     "checksum": "29cfec8bfd2f6ccf11a1bbf0f524e96d",
     "grade": false,
     "grade_id": "cell-f19382c6bd6d2241",
     "locked": true,
     "schema_version": 3,
     "solution": false,
     "task": false
    }
   },
   "source": [
    "Możemy teraz wykonać rzutowanie dla wszystkich danych. "
   ]
  },
  {
   "cell_type": "code",
   "execution_count": null,
   "metadata": {
    "deletable": false,
    "nbgrader": {
     "cell_type": "code",
     "checksum": "34a0115b640d91ef68ac3bb372f054fb",
     "grade": false,
     "grade_id": "cell-590459a28a67266d",
     "locked": false,
     "schema_version": 3,
     "solution": true
    }
   },
   "outputs": [],
   "source": [
    "X_3d= None\n",
    "\n",
    "# YOUR CODE HERE\n",
    "# raise NotImplementedError()\n",
    "X_3d= np.dot(Xorig,P)"
   ]
  },
  {
   "cell_type": "code",
   "execution_count": null,
   "metadata": {
    "deletable": false,
    "editable": false,
    "nbgrader": {
     "cell_type": "code",
     "checksum": "cc97c3813ab2a00f15e26064b4915f4f",
     "grade": true,
     "grade_id": "cell-189b1b2314f3c4a3",
     "locked": true,
     "points": 1,
     "schema_version": 3,
     "solution": false
    }
   },
   "outputs": [],
   "source": [
    "X_3d.shape  == (Xorig.shape[0],3)\n",
    "\n",
    "np.testing.assert_allclose(np.abs(X_3d[:4]),np.abs([[-3.31675081e+00,  1.44346263e+00, -1.65739045e-01],\n",
    "       [-2.20946492e+00, -3.33392887e-01, -2.02645737e+00],\n",
    "       [-2.51674015e+00,  1.03115130e+00,  9.82818670e-01],\n",
    "       [-3.75706561e+00,  2.75637191e+00, -1.76191842e-01]]), rtol=1e-5 )"
   ]
  },
  {
   "cell_type": "markdown",
   "metadata": {
    "deletable": false,
    "editable": false,
    "lang": "pl",
    "nbgrader": {
     "cell_type": "markdown",
     "checksum": "374eaeaa771e026fa3cdb1fb94b3ec5c",
     "grade": false,
     "grade_id": "cell-609040f986ce8cf8",
     "locked": true,
     "schema_version": 3,
     "solution": false
    }
   },
   "source": [
    "Ostatecznie wektor w zredukowanej przestrzeni obliczony przez nas i wektor obliczony przez sklear są takie same."
   ]
  },
  {
   "cell_type": "code",
   "execution_count": null,
   "metadata": {
    "deletable": false,
    "editable": false,
    "nbgrader": {
     "cell_type": "code",
     "checksum": "41313f9cc94363e829e9e4afe57a2d74",
     "grade": true,
     "grade_id": "cell-b01db129a7569b33",
     "locked": true,
     "points": 1,
     "schema_version": 3,
     "solution": false
    }
   },
   "outputs": [],
   "source": [
    "np.testing.assert_allclose(np.abs(X_3d),np.abs(X), rtol=1e-5)"
   ]
  }
 ],
 "metadata": {
  "kernelspec": {
   "display_name": "Python 3",
   "language": "python",
   "name": "python3"
  },
  "language_info": {
   "codemirror_mode": {
    "name": "ipython",
    "version": 3
   },
   "file_extension": ".py",
   "mimetype": "text/x-python",
   "name": "python",
   "nbconvert_exporter": "python",
   "pygments_lexer": "ipython3",
   "version": "3.7.4"
  },
  "latex_envs": {
   "LaTeX_envs_menu_present": true,
   "autoclose": false,
   "autocomplete": true,
   "bibliofile": "biblio.bib",
   "cite_by": "apalike",
   "current_citInitial": 1,
   "eqLabelWithNumbers": true,
   "eqNumInitial": 1,
   "hotkeys": {
    "equation": "Ctrl-E",
    "itemize": "Ctrl-I"
   },
   "labels_anchors": false,
   "latex_user_defs": false,
   "report_style_numbering": false,
   "user_envs_cfg": false
  },
  "nbTranslate": {
   "displayLangs": [
    "pl",
    "en"
   ],
   "hotkey": "alt-t",
   "langInMainMenu": true,
   "sourceLang": "pl",
   "targetLang": "en",
   "useGoogleTranslate": true
  }
 },
 "nbformat": 4,
 "nbformat_minor": 2
}
