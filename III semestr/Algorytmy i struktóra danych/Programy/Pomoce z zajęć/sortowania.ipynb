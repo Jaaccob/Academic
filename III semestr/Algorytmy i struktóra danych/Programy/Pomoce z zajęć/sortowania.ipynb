{
 "cells": [
  {
   "cell_type": "code",
   "execution_count": 1,
   "metadata": {},
   "outputs": [
    {
     "name": "stdout",
     "output_type": "stream",
     "text": [
      "[3, 4, 5, 9, 12, 13, 16]\n"
     ]
    }
   ],
   "source": [
    "def selectionSort(arrayList):\n",
    "    n = len(arrayList)\n",
    "    for i in range(n):\n",
    "        min = i\n",
    "        for j in range(i + 1, n):\n",
    "            if arrayList[j] < arrayList[min]:\n",
    "                min = j\n",
    "\n",
    "        arrayList[i], arrayList[min] = arrayList[min],arrayList[i]\n",
    "\n",
    "    return arrayList"
   ]
  },
  {
   "cell_type": "code",
   "execution_count": null,
   "metadata": {},
   "outputs": [],
   "source": [
    "def sortByInsertion(tab):\n",
    "    #print(tab)\n",
    "\n",
    "    for i in range(1, len(tab)):\n",
    "        key = tab[i]\n",
    "        j = i-1\n",
    "        while j >=0 and key < tab[j] :\n",
    "            tab[j+1] = tab[j]\n",
    "            j -= 1\n",
    "            tab[j+1] = key\n"
   ]
  },
  {
   "cell_type": "code",
   "execution_count": null,
   "metadata": {},
   "outputs": [],
   "source": [
    "def lineSearch(tab, value):\n",
    "    for i in range(len(tab)):\n",
    "        if(tab[i] == value):\n",
    "            return i\n",
    "    return False"
   ]
  },
  {
   "cell_type": "code",
   "execution_count": null,
   "metadata": {},
   "outputs": [],
   "source": [
    "def lineSearchWhile(tab, value):\n",
    "    i = 0\n",
    "    while i < len(tab):\n",
    "        if(tab[i] == value):\n",
    "            return i\n",
    "        i = i + 1\n",
    "    return False"
   ]
  },
  {
   "cell_type": "code",
   "execution_count": null,
   "metadata": {},
   "outputs": [],
   "source": [
    "def lineSearchWhile(tab, value): # z wartownikiem\n",
    "    tab.append(value)\n",
    "    i = 0\n",
    "    while tab[i] != value:\n",
    "        i = i + 1\n",
    "    if i != len(tab)-1:\n",
    "        return i\n",
    "    else:\n",
    "        return False\n",
    "\n",
    "#     if(i < len(tab) - 1):\n",
    "#         return i\n",
    "#     else:\n",
    "#         return -1\n",
    "    \n",
    "#     return 0"
   ]
  },
  {
   "cell_type": "code",
   "execution_count": null,
   "metadata": {},
   "outputs": [],
   "source": [
    "def mergeSort(arr):\n",
    "    if(len(arr) > 1):\n",
    "        mid = len(arr) // 2\n",
    "        L = arr[:mid] #j\n",
    "        R = arr[mid:] #i\n",
    "        mergeSort(L)\n",
    "        mergeSort(R)\n",
    "        i = j = k = 0\n",
    "        while i < len(L) and j < len(R):\n",
    "            if(L[i] < R[j]):\n",
    "                arr[k] = L[i]\n",
    "                i += 1\n",
    "            else:\n",
    "                arr[k] = R[j]\n",
    "                j += 1\n",
    "            k += 1           \n",
    "        while i < len(L):\n",
    "            arr[k] = L[i]\n",
    "            i += 1\n",
    "            k += 1\n",
    "        while j < len(R):\n",
    "            arr[k] = R[j]\n",
    "            j += 1\n",
    "            k += 1\n",
    "        return(arr)\n",
    "            \n"
   ]
  }
 ],
 "metadata": {
  "kernelspec": {
   "display_name": "Python 3",
   "language": "python",
   "name": "python3"
  },
  "language_info": {
   "codemirror_mode": {
    "name": "ipython",
    "version": 3
   },
   "file_extension": ".py",
   "mimetype": "text/x-python",
   "name": "python",
   "nbconvert_exporter": "python",
   "pygments_lexer": "ipython3",
   "version": "3.7.3"
  }
 },
 "nbformat": 4,
 "nbformat_minor": 2
}
