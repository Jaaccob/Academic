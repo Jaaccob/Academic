{
 "cells": [
  {
   "cell_type": "markdown",
   "metadata": {},
   "source": [
    "zadanie 1\n",
    "\n",
    "dane są: stos ;iczb calkowitych a i pusty b\n",
    "spowoduj aby ze stosu A zniknął element o najmniejszej wartości położony najgłęvije"
   ]
  },
  {
   "cell_type": "code",
   "execution_count": 1,
   "metadata": {},
   "outputs": [],
   "source": [
    "class IsEmptyError(Exception):\n",
    "    pass\n",
    "class Node:\n",
    "        def __init__(self, data):\n",
    "            self.dane = data\n",
    "            self._next = None\n",
    "class Stack:\n",
    "    def __init__(self):\n",
    "        self.head = None\n",
    "        self.size = 0\n",
    "        self.mini = None\n",
    "\n",
    "    def isEmpty(self):\n",
    "        return self.size == 0\n",
    "\n",
    "    def push(self, element):\n",
    "        nowy = Node(element)  \n",
    "        if self.isEmpty():\n",
    "            self.mini = element\n",
    "        else: \n",
    "            if self.mini>element:\n",
    "                self.mini = element\n",
    "        nowy._next = self.head          \n",
    "        self.head = nowy  \n",
    "        \n",
    "        self.size += 1                 \n",
    "        return\n",
    "\n",
    "    def pop(self):\n",
    "        if self.isEmpty():\n",
    "            raise IsEmptyError(\"Pusty stos!\")           \n",
    "        self.head = self.head._next                                  \n",
    "        self.size -= 1                 \n",
    "        return\n",
    "\n",
    "    def top(self):\n",
    "        if self.isEmpty():\n",
    "            raise IsEmptyError(\"Pusty stos!\")               \n",
    "        return self.head.dane       \n",
    "    \n",
    "    def getMin(self):  #zwraca najmniejszy element na stosie w czasie O(1)\n",
    "        return self.mini\n",
    "    def list_print(self):\n",
    "        printval = self.head\n",
    "        \n",
    "        for i in range(self.size-1):\n",
    "            print (str(printval.dane))\n",
    "            printval = printval._next\n",
    "        print(printval.dane)"
   ]
  },
  {
   "cell_type": "code",
   "execution_count": 2,
   "metadata": {},
   "outputs": [],
   "source": [
    "A = Stack()"
   ]
  },
  {
   "cell_type": "code",
   "execution_count": 3,
   "metadata": {},
   "outputs": [],
   "source": [
    "B = Stack()"
   ]
  },
  {
   "cell_type": "code",
   "execution_count": 4,
   "metadata": {},
   "outputs": [],
   "source": [
    "lista = [-2, 0, 3, -1, -2, 5]"
   ]
  },
  {
   "cell_type": "code",
   "execution_count": 5,
   "metadata": {},
   "outputs": [
    {
     "data": {
      "text/plain": [
       "[-2, -2]"
      ]
     },
     "execution_count": 5,
     "metadata": {},
     "output_type": "execute_result"
    }
   ],
   "source": [
    "lista[::4]"
   ]
  },
  {
   "cell_type": "code",
   "execution_count": 6,
   "metadata": {},
   "outputs": [],
   "source": [
    "for i in lista:\n",
    "    A.push(i)"
   ]
  },
  {
   "cell_type": "code",
   "execution_count": 7,
   "metadata": {},
   "outputs": [
    {
     "name": "stdout",
     "output_type": "stream",
     "text": [
      "5\n",
      "-2\n",
      "-1\n",
      "3\n",
      "0\n",
      "-2\n"
     ]
    }
   ],
   "source": [
    "A.list_print()"
   ]
  },
  {
   "cell_type": "code",
   "execution_count": 8,
   "metadata": {},
   "outputs": [],
   "source": [
    "def A_do_B(A, B):\n",
    "    l = []\n",
    "    index = 0\n",
    "    mini = A.getMin()\n",
    "    for i in range(A.size):\n",
    "        l.append(A.top())\n",
    "        A.pop()\n",
    "    for i in range(len(l)):\n",
    "        if l[i] == mini and i > index:\n",
    "            index = i\n",
    "    print(index)\n",
    "    B.push(l[index])\n",
    "    l.remove(l[index])\n",
    "    print(l)\n",
    "    l = l[::-1]\n",
    "    for i in range(len(l)):\n",
    "        A.push(l[i])\n",
    "    "
   ]
  },
  {
   "cell_type": "code",
   "execution_count": 9,
   "metadata": {},
   "outputs": [
    {
     "name": "stdout",
     "output_type": "stream",
     "text": [
      "5\n",
      "[5, -1, 3, 0, -2]\n"
     ]
    }
   ],
   "source": [
    "A_do_B(A, B)"
   ]
  },
  {
   "cell_type": "code",
   "execution_count": 10,
   "metadata": {},
   "outputs": [
    {
     "name": "stdout",
     "output_type": "stream",
     "text": [
      "5\n",
      "-1\n",
      "3\n",
      "0\n",
      "-2\n"
     ]
    }
   ],
   "source": [
    "A.list_print()"
   ]
  },
  {
   "cell_type": "code",
   "execution_count": 11,
   "metadata": {},
   "outputs": [
    {
     "name": "stdout",
     "output_type": "stream",
     "text": [
      "-2\n"
     ]
    }
   ],
   "source": [
    "B.list_print()"
   ]
  },
  {
   "cell_type": "markdown",
   "metadata": {},
   "source": [
    "zadanie 2.\n",
    "\n",
    "na wykresie czasu działan programu w funkcji długości danyc -n zaprezentuj złożoność operacji pobierania dowolnego elemenru oraz usunięcia elementu z początku a także dowolnego miejsca jefnikierunkowej linked listy"
   ]
  },
  {
   "cell_type": "code",
   "execution_count": 448,
   "metadata": {},
   "outputs": [],
   "source": [
    "class Node:\n",
    "    def __init__(self, data):\n",
    "        self.data = data\n",
    "        self.next = None\n",
    "    def __str__(self):\n",
    "        return str(self.data)\n",
    "class LinkedList(Node):\n",
    "    def __init__(self):\n",
    "        self.head = None\n",
    "        self.tail = None\n",
    "        self.size = 0\n",
    "    def is_Empty(self):\n",
    "        return self.head==None \n",
    "    # poprawny append \n",
    "    \n",
    "    def append_2(self, dane): ####\n",
    "        t=self.tail\n",
    "        self.tail = Node(dane)\n",
    "        if self.isEmpty() :\n",
    "            self.head = self.tail\n",
    "        else:\n",
    "            t._next = self.tail\n",
    "        self.size += 1\n",
    "    # wstawianie na koniec  złożoność O(n)\n",
    "    def append(self, data):    \n",
    "        new_Node = Node(data)\n",
    "        if self.head is None:\n",
    "            self.head = new_Node\n",
    "            return\n",
    "        last_node = self.head\n",
    "        while(last_node.next):\n",
    "            last_node = last_node.next\n",
    "        last_node.next=new_Node\n",
    "        \n",
    "    ##wstawianie na początek\n",
    "    def prepend(self, data):\n",
    "        new_Node = Node(data)\n",
    "        new_Node.next = self.head\n",
    "        self.head = new_Node\n",
    "        \n",
    "    ##wstawianie po określonym węźle\n",
    "    def Inbetween(self,middle_node,newdata):\n",
    "        if middle_node is None:\n",
    "            print(\"middle node is not in a list\")\n",
    "            return\n",
    "\n",
    "        NewNode = Node(newdata)\n",
    "        NewNode.next = middle_node.next\n",
    "        middle_node.next = NewNode\n",
    "        \n",
    "    #wstawianie pod indeksem\n",
    "    def insert(self, data, index):\n",
    "        if index != None:\n",
    "            if index == 0:\n",
    "                self.append(data)\n",
    "                return\n",
    "            t = self.head\n",
    "            node = Node(data)\n",
    "            for i in range(index-1):\n",
    "                t = t.next\n",
    "            node.next = t.next\n",
    "            t.next = node\n",
    "            return\n",
    "        print(\"index error\")\n",
    "    \n",
    "    # usuwanie wezła okreslonego\n",
    "    def remove(self, val):\n",
    "        HeadVal = self.head\n",
    "        if (HeadVal is not None):\n",
    "            if (HeadVal.data == val):\n",
    "                self.head = HeadVal.next\n",
    "                HeadVal = None\n",
    "                return\n",
    "        while (HeadVal is not None):\n",
    "            if HeadVal.data == val:\n",
    "                break\n",
    "            prev = HeadVal\n",
    "            HeadVal = HeadVal.next\n",
    "        if (HeadVal == None):\n",
    "            return\n",
    "        prev.next = HeadVal.next\n",
    "        HeadVal = None\n",
    "        \n",
    "    #usuwanie ostatniego\n",
    "    def remove_last(self):\n",
    "        HeadVal = self.head\n",
    "        if (HeadVal is not None):\n",
    "            if (HeadVal.next == None):\n",
    "                self.head = HeadVal.next\n",
    "                HeadVal = None\n",
    "                return\n",
    "        while (HeadVal.next is not None):\n",
    "            prev = HeadVal\n",
    "            HeadVal = HeadVal.next\n",
    "        if (HeadVal == None):\n",
    "            return\n",
    "        prev.next = HeadVal.next\n",
    "        HeadVal = None\n",
    "    \n",
    "    # usuwanie pierwszego\n",
    "    def remove_first(self):\n",
    "        HeadVal = self.head\n",
    "        if (HeadVal is not None):\n",
    "            if (HeadVal.next == None):\n",
    "                self.head = HeadVal.next\n",
    "                HeadVal = None\n",
    "                return\n",
    "        self.head = HeadVal.next\n",
    "        HeadVal = None\n",
    "            \n",
    "    def listprint(self):\n",
    "        printval = self.head\n",
    "        while printval is not None:\n",
    "            print (printval.data)\n",
    "            printval = printval.next\n",
    "    \n",
    "    # ostatni\n",
    "    def last(self):\n",
    "        HeadVal = self.head\n",
    "        \n",
    "        while HeadVal.next != None:\n",
    "            prev = HeadVal\n",
    "            HeadVal = HeadVal.next\n",
    "        return HeadVal.data\n",
    "    \n",
    "        \n",
    "            \n",
    "            "
   ]
  },
  {
   "cell_type": "code",
   "execution_count": null,
   "metadata": {},
   "outputs": [],
   "source": []
  },
  {
   "cell_type": "code",
   "execution_count": 449,
   "metadata": {},
   "outputs": [],
   "source": [
    "import numpy as np\n",
    "import matplotlib.pyplot as plt\n",
    "import time"
   ]
  },
  {
   "cell_type": "code",
   "execution_count": 450,
   "metadata": {},
   "outputs": [
    {
     "data": {
      "image/png": "[encoded data removed]",
      "text/plain": [
       "<Figure size 432x288 with 1 Axes>"
      ]
     },
     "metadata": {
      "needs_background": "light"
     },
     "output_type": "display_data"
    }
   ],
   "source": [
    "N = [i for i in range(10,700,100)]\n",
    "A = LinkedList()\n",
    "times =[] # usuwanie wezła okreslonego //remove\n",
    "\n",
    "\n",
    "for i in N:\n",
    "    for k in range(i,0,-1):\n",
    "        A.append(k)\n",
    "    a = [k for k in range(i,0,-1)]\n",
    "    t = time.time()\n",
    "    A.remove(a)\n",
    "    t1 = time.time()\n",
    "    times.append(t1-t)\n",
    "    \n",
    "    \n",
    "plt.plot(N,times,'-b')\n",
    "\n",
    "plt.show()"
   ]
  },
  {
   "cell_type": "code",
   "execution_count": 451,
   "metadata": {},
   "outputs": [
    {
     "data": {
      "image/png": "[encoded data removed]",
      "text/plain": [
       "<Figure size 432x288 with 1 Axes>"
      ]
     },
     "metadata": {
      "needs_background": "light"
     },
     "output_type": "display_data"
    }
   ],
   "source": [
    "N = [i for i in range(10,700,100)]\n",
    "A = LinkedList()\n",
    "times =[] # usuwanie pierwszego  //remove_first\n",
    "\n",
    "\n",
    "for i in N:\n",
    "    for k in range(i,0,-1):\n",
    "        A.append(k)\n",
    "    a = [k for k in range(i,0,-1)]\n",
    "    t = time.time()\n",
    "    A.remove_first()\n",
    "    t1 = time.time()\n",
    "    times.append(t1-t)\n",
    "    \n",
    "    \n",
    "plt.plot(N,times,'-b')\n",
    "\n",
    "plt.show()"
   ]
  },
  {
   "cell_type": "code",
   "execution_count": 452,
   "metadata": {},
   "outputs": [
    {
     "data": {
      "image/png": "[encoded data removed]",
      "text/plain": [
       "<Figure size 432x288 with 1 Axes>"
      ]
     },
     "metadata": {
      "needs_background": "light"
     },
     "output_type": "display_data"
    }
   ],
   "source": [
    "N = [i for i in range(10,700,100)]\n",
    "A = LinkedList()\n",
    "times =[] # pierwszy\n",
    "\n",
    "\n",
    "for i in N:\n",
    "    for k in range(i,0,-1):\n",
    "        A.append(k)\n",
    "    a = [k for k in range(i,0,-1)]\n",
    "    t = time.time()\n",
    "    A.head.data\n",
    "    t1 = time.time()\n",
    "    times.append(t1-t)\n",
    "    \n",
    "    \n",
    "plt.plot(N,times,'-b')\n",
    "\n",
    "plt.show()"
   ]
  },
  {
   "cell_type": "code",
   "execution_count": null,
   "metadata": {},
   "outputs": [],
   "source": []
  },
  {
   "cell_type": "markdown",
   "metadata": {},
   "source": [
    "zadanie 3.\n",
    "\n",
    "napisz algorytm wyznaczający średnią oraz mefianę elemenrów w posorowanej liście dowiązanej. złożoność czaowa O(n), pamięciowa O(1)"
   ]
  },
  {
   "cell_type": "code",
   "execution_count": null,
   "metadata": {},
   "outputs": [],
   "source": [
    "class IsEmptyError(Exception):\n",
    "    pass\n",
    "class Node:\n",
    "        def __init__(self, data):\n",
    "            self.dane = data\n",
    "            self._next = None\n",
    "class LinkedList:\n",
    "    def __init__(self):\n",
    "        self.head = None\n",
    "        self.size = 0\n",
    "        self.srednia = 0\n",
    "        \n",
    "    def Srednia(self):\n",
    "        return self.srednia/self.size\n",
    "\n",
    "    def isEmpty(self):\n",
    "        return self.size == 0\n",
    "\n",
    "    def push(self, element):\n",
    "        nowy = Node(element)  \n",
    "        self.srednia += element\n",
    "        nowy._next = self.head          \n",
    "        self.head = nowy  \n",
    "        \n",
    "        self.size += 1                 \n",
    "        return\n",
    "\n",
    "    def pop(self):\n",
    "        if self.isEmpty():\n",
    "            raise IsEmptyError(\"Pusty stos!\")           \n",
    "        self.head = self.head._next                                  \n",
    "        self.size -= 1                 \n",
    "        return\n",
    "\n",
    "    def top(self):\n",
    "        if self.isEmpty():\n",
    "            raise IsEmptyError(\"Pusty stos!\")               \n",
    "        return self.head.dane \n",
    "    \n",
    "    def sort(self):\n",
    "        if self.isEmpty():\n",
    "            raise IsEmptyError(\"Pusty stos!\")   \n",
    "        Head = self.head\n",
    "        box = []\n",
    "        for i in range(self.size):\n",
    "            box.append(Head.dane)\n",
    "            Head=Head._next\n",
    "        for i in range(1,self.size):\n",
    "            k=box[i]\n",
    "            j=i-1\n",
    "            while j>=0 and box[j]>k:\n",
    "                box[j+1]=box[j]\n",
    "                j-=1\n",
    "            box[j+1]=k\n",
    "        self.head=None\n",
    "        box=box[::-1]\n",
    "        n,self.size=self.size,0\n",
    "        for i in range(n):\n",
    "            self.push(box.pop())\n",
    "            \n",
    "    def mediana(self):\n",
    "        printval = self.head\n",
    "        \n",
    "        if self.size % 2 != 0:\n",
    "            for i in range(self.size//2-1):\n",
    "                printval = printval._next\n",
    "            return (printval.dane)\n",
    "        else:\n",
    "            a,b = None, None\n",
    "            for i in range(self.size//2):\n",
    "                printval = printval._next\n",
    "            a = printval.dane\n",
    "            printval = printval._next\n",
    "            b = printval.dane\n",
    "            return (a+b)/2\n",
    "    \n",
    "    def list_print(self):\n",
    "        printval = self.head\n",
    "        \n",
    "        for i in range(self.size-1):\n",
    "            print (str(printval.dane))\n",
    "            printval = printval._next\n",
    "        print(printval.dane)"
   ]
  },
  {
   "cell_type": "code",
   "execution_count": null,
   "metadata": {},
   "outputs": [],
   "source": [
    "lista = [2,4,4,4,6]"
   ]
  },
  {
   "cell_type": "code",
   "execution_count": null,
   "metadata": {},
   "outputs": [],
   "source": [
    "A = LinkedList()"
   ]
  },
  {
   "cell_type": "code",
   "execution_count": null,
   "metadata": {},
   "outputs": [],
   "source": [
    "for i in lista:\n",
    "    A.push(i)"
   ]
  },
  {
   "cell_type": "code",
   "execution_count": null,
   "metadata": {},
   "outputs": [],
   "source": [
    "A.Srednia()"
   ]
  },
  {
   "cell_type": "code",
   "execution_count": null,
   "metadata": {},
   "outputs": [],
   "source": [
    "A.mediana()"
   ]
  },
  {
   "cell_type": "markdown",
   "metadata": {},
   "source": [
    "zadanie 4.\n",
    "\n",
    "drzewa binarne \n",
    "\n",
    "\n",
    " a) napisz funkcje inorder\n",
    " \n",
    " b) poziomami\n",
    " \n",
    " c) wyznaczanie liczby węzłów drzewa"
   ]
  },
  {
   "cell_type": "code",
   "execution_count": 445,
   "metadata": {},
   "outputs": [],
   "source": [
    "class Queue(object):\n",
    "    def __init__(self):\n",
    "        self.items = []\n",
    "\n",
    "    def enqueue(self, item):\n",
    "        self.items.insert(0, item)\n",
    "\n",
    "    def dequeue(self):\n",
    "        if not self.is_empty():\n",
    "            return self.items.pop()\n",
    "\n",
    "    def is_empty(self):\n",
    "        return len(self.items) == 0\n",
    "\n",
    "    def peek(self):\n",
    "        if not self.is_empty():\n",
    "            return self.items[-1].value\n",
    "\n",
    "    def __len__(self):\n",
    "        return self.size()\n",
    "\n",
    "    def size(self):\n",
    "        return len(self.items)\n",
    "\n"
   ]
  },
  {
   "cell_type": "code",
   "execution_count": 446,
   "metadata": {},
   "outputs": [
    {
     "name": "stdout",
     "output_type": "stream",
     "text": [
      "\n",
      "in-order: 4-2-5-1-6-3-7-\n",
      "\n",
      "poziomy: 1-2-3-4-5-6-7-\n",
      "\n",
      "Liczba wezlow w drzewie: 7\n"
     ]
    }
   ],
   "source": [
    "class Node(object):\n",
    "    def __init__(self, value):\n",
    "        self.value = value\n",
    "        self.left = None\n",
    "        self.right = None\n",
    "\n",
    "\n",
    "class BinaryTree(object):\n",
    "    def __init__(self, root):\n",
    "        self.root = Node(root)\n",
    "\n",
    "        \n",
    "    def print_tree(self, visit_type):\n",
    "        if visit_type == \"inorder\":\n",
    "            return self.inorder_print(tree.root, \"\")\n",
    "        elif visit_type == \"level\":\n",
    "            return self.levelorder_print(tree.root)\n",
    "        else:\n",
    "            print(\"visit type \" + str(visit_type) + \" brak metody.\")\n",
    "            return False\n",
    "        \n",
    "    def node_counter(self, node):\n",
    "        \n",
    "        if node is None:\n",
    "            return 0\n",
    "        else:\n",
    "            return 1 + self.node_counter(node.left) + self.node_counter(node.right)\n",
    "\n",
    "    \n",
    "    def inorder_print(self, start, visit):\n",
    "        \n",
    "        if start:\n",
    "            visit = self.inorder_print(start.left, visit)\n",
    "            visit += (str(start.value) + \"-\")\n",
    "            visit = self.inorder_print(start.right, visit)\n",
    "        return visit\n",
    "   \n",
    "    def levelorder_print(self, start):\n",
    "        if start is None:\n",
    "            return\n",
    "        q = Queue()\n",
    "        q.enqueue(start)\n",
    "        \n",
    "        v = \"\"\n",
    "        while len(q)>0:\n",
    "            v +=str(q.peek()) + \"-\"\n",
    "            node = q.dequeue()\n",
    "            \n",
    "            \n",
    "            if node.left:\n",
    "                q.enqueue(node.left)\n",
    "            if node.right:\n",
    "                q.enqueue(node.right)\n",
    "                \n",
    "        return v\n",
    "### Budujemy ręcznie większe drzewo\n",
    "#      1\n",
    "#     / \\\n",
    "#   2   3\n",
    "#  / \\  /\\\n",
    "# 4  5 6  7\n",
    "tree = BinaryTree(1)\n",
    "tree.root.left = Node(2)\n",
    "tree.root.right = Node(3)\n",
    "tree.root.left.left = Node(4)\n",
    "tree.root.left.right = Node(5)\n",
    "tree.root.right.left = Node(6)\n",
    "tree.root.right.right = Node(7)\n",
    "\n",
    "\n",
    "print(\"\\nin-order:\",tree.print_tree(\"inorder\"))\n",
    "print(\"\\npoziomy:\",tree.print_tree(\"level\"))\n",
    "print(\"\\nLiczba wezlow w drzewie:\", tree.node_counter(tree.root))\n",
    "    \n",
    "            "
   ]
  },
  {
   "cell_type": "code",
   "execution_count": null,
   "metadata": {},
   "outputs": [],
   "source": []
  },
  {
   "cell_type": "code",
   "execution_count": null,
   "metadata": {},
   "outputs": [],
   "source": []
  },
  {
   "cell_type": "code",
   "execution_count": null,
   "metadata": {},
   "outputs": [],
   "source": []
  },
  {
   "cell_type": "code",
   "execution_count": null,
   "metadata": {},
   "outputs": [],
   "source": []
  }
 ],
 "metadata": {
  "kernelspec": {
   "display_name": "Python 3",
   "language": "python",
   "name": "python3"
  },
  "language_info": {
   "codemirror_mode": {
    "name": "ipython",
    "version": 3
   },
   "file_extension": ".py",
   "mimetype": "text/x-python",
   "name": "python",
   "nbconvert_exporter": "python",
   "pygments_lexer": "ipython3",
   "version": "3.7.3"
  }
 },
 "nbformat": 4,
 "nbformat_minor": 4
}
